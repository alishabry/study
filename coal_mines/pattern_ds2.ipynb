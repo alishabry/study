{
 "cells": [
  {
   "cell_type": "markdown",
   "metadata": {},
   "source": [
    "#### Импорт библиотек"
   ]
  },
  {
   "cell_type": "code",
   "execution_count": 1,
   "metadata": {},
   "outputs": [
    {
     "name": "stderr",
     "output_type": "stream",
     "text": [
      "Using TensorFlow backend.\n"
     ]
    }
   ],
   "source": [
    "import pandas as pd\n",
    "import numpy as np\n",
    "from sklearn.ensemble import ExtraTreesClassifier, RandomForestClassifier\n",
    "from sklearn import preprocessing\n",
    "from sklearn.model_selection import train_test_split\n",
    "from sklearn.linear_model import LogisticRegression,SGDClassifier\n",
    "from sklearn.metrics import roc_auc_score, log_loss, recall_score,accuracy_score,precision_score\n",
    "from sklearn.model_selection import GridSearchCV\n",
    "from sklearn.model_selection import cross_val_score,  KFold\n",
    "from sklearn.neighbors import KNeighborsClassifier\n",
    "import matplotlib.pyplot as plt\n",
    "from sklearn.model_selection import validation_curve\n",
    "from sklearn.model_selection import learning_curve\n",
    "import xgboost\n",
    "import time\n",
    "\n",
    "import keras\n",
    "import keras_metrics\n",
    "from keras.models import Sequential\n",
    "from keras.layers import Dense, Dropout\n",
    "\n",
    "\n",
    "import warnings\n",
    "warnings.filterwarnings('ignore')"
   ]
  },
  {
   "cell_type": "code",
   "execution_count": 2,
   "metadata": {},
   "outputs": [],
   "source": [
    "def metrics(x,real, clf):\n",
    "    print('roc_auc: ',roc_auc_score(real,clf.predict(x)))\n",
    "    print('recall: ',recall_score(real,clf.predict(x)))\n",
    "    print('accuracy: ',accuracy_score(real,clf.predict(x)))\n",
    "    print('precision: ',precision_score(real,clf.predict(x)))\n",
    "    return pd.DataFrame({'real':real,'predict':clf.predict(x),'proba1':clf.predict_proba(x)[:,1]})\n",
    "def metrics2(real,x):\n",
    "    print('roc_auc: ',roc_auc_score(real,x))\n",
    "    print('recall: ',recall_score(real,x))\n",
    "    print('precision: ',precision_score(real,x))\n",
    "    return pd.DataFrame({'real':real,'predict':x,})"
   ]
  },
  {
   "cell_type": "markdown",
   "metadata": {},
   "source": [
    "#### Считывание данных"
   ]
  },
  {
   "cell_type": "code",
   "execution_count": 3,
   "metadata": {},
   "outputs": [],
   "source": [
    "data = pd.read_excel('ds2.xlsx')"
   ]
  },
  {
   "cell_type": "markdown",
   "metadata": {},
   "source": [
    "#### Удаление пропусков"
   ]
  },
  {
   "cell_type": "code",
   "execution_count": 4,
   "metadata": {},
   "outputs": [],
   "source": [
    "for i in data.columns:\n",
    "    if data[i].isna().sum()!=0:\n",
    "        data[i] = data[i].fillna(0)"
   ]
  },
  {
   "cell_type": "markdown",
   "metadata": {},
   "source": [
    "#### Разделение на целевую переменную и предикторы"
   ]
  },
  {
   "cell_type": "code",
   "execution_count": 5,
   "metadata": {},
   "outputs": [],
   "source": [
    "X = data.drop('class',axis=1)\n",
    "y = data['class']"
   ]
  },
  {
   "cell_type": "markdown",
   "metadata": {},
   "source": [
    "#### Масштабирование"
   ]
  },
  {
   "cell_type": "code",
   "execution_count": 6,
   "metadata": {},
   "outputs": [],
   "source": [
    "XScale = pd.DataFrame(preprocessing.scale(X))\n",
    "XScale.columns = X.columns\n",
    "X=XScale"
   ]
  },
  {
   "cell_type": "code",
   "execution_count": 7,
   "metadata": {},
   "outputs": [],
   "source": [
    "scaler=preprocessing.StandardScaler()\n",
    "X = pd.DataFrame(scaler.fit_transform(X),columns = X.columns)"
   ]
  },
  {
   "cell_type": "markdown",
   "metadata": {},
   "source": [
    "#### Распределение целевой переменной"
   ]
  },
  {
   "cell_type": "code",
   "execution_count": 8,
   "metadata": {},
   "outputs": [
    {
     "data": {
      "text/plain": [
       "0    390\n",
       "1    253\n",
       "Name: class, dtype: int64"
      ]
     },
     "execution_count": 8,
     "metadata": {},
     "output_type": "execute_result"
    }
   ],
   "source": [
    "y.value_counts()"
   ]
  },
  {
   "cell_type": "markdown",
   "metadata": {},
   "source": [
    "#### Отбор важности признаков"
   ]
  },
  {
   "cell_type": "code",
   "execution_count": 9,
   "metadata": {},
   "outputs": [],
   "source": [
    "forest = RandomForestClassifier(n_estimators=4500, max_depth = 20, n_jobs=-1,\n",
    "                                      random_state=1234).fit(X, y)"
   ]
  },
  {
   "cell_type": "code",
   "execution_count": 10,
   "metadata": {},
   "outputs": [
    {
     "data": {
      "text/html": [
       "<div>\n",
       "<style scoped>\n",
       "    .dataframe tbody tr th:only-of-type {\n",
       "        vertical-align: middle;\n",
       "    }\n",
       "\n",
       "    .dataframe tbody tr th {\n",
       "        vertical-align: top;\n",
       "    }\n",
       "\n",
       "    .dataframe thead th {\n",
       "        text-align: right;\n",
       "    }\n",
       "</style>\n",
       "<table border=\"1\" class=\"dataframe\">\n",
       "  <thead>\n",
       "    <tr style=\"text-align: right;\">\n",
       "      <th></th>\n",
       "      <th>Importance</th>\n",
       "    </tr>\n",
       "  </thead>\n",
       "  <tbody>\n",
       "    <tr>\n",
       "      <th>minEnergy20</th>\n",
       "      <td>0.013970</td>\n",
       "    </tr>\n",
       "    <tr>\n",
       "      <th>minEnergy15</th>\n",
       "      <td>0.013576</td>\n",
       "    </tr>\n",
       "    <tr>\n",
       "      <th>totalEnergy30</th>\n",
       "      <td>0.013268</td>\n",
       "    </tr>\n",
       "    <tr>\n",
       "      <th>count2500_7</th>\n",
       "      <td>0.012981</td>\n",
       "    </tr>\n",
       "    <tr>\n",
       "      <th>count2500_30</th>\n",
       "      <td>0.012311</td>\n",
       "    </tr>\n",
       "    <tr>\n",
       "      <th>count2500_10</th>\n",
       "      <td>0.012303</td>\n",
       "    </tr>\n",
       "    <tr>\n",
       "      <th>count2500_15</th>\n",
       "      <td>0.011920</td>\n",
       "    </tr>\n",
       "    <tr>\n",
       "      <th>count2500_20</th>\n",
       "      <td>0.010909</td>\n",
       "    </tr>\n",
       "    <tr>\n",
       "      <th>totalEnergy7</th>\n",
       "      <td>0.010013</td>\n",
       "    </tr>\n",
       "    <tr>\n",
       "      <th>totalEnergy10</th>\n",
       "      <td>0.009277</td>\n",
       "    </tr>\n",
       "    <tr>\n",
       "      <th>totalEnergy15</th>\n",
       "      <td>0.008566</td>\n",
       "    </tr>\n",
       "    <tr>\n",
       "      <th>count2500_5</th>\n",
       "      <td>0.008552</td>\n",
       "    </tr>\n",
       "    <tr>\n",
       "      <th>count5</th>\n",
       "      <td>0.008263</td>\n",
       "    </tr>\n",
       "    <tr>\n",
       "      <th>totalEnergy5</th>\n",
       "      <td>0.008167</td>\n",
       "    </tr>\n",
       "    <tr>\n",
       "      <th>medianTimeDif30</th>\n",
       "      <td>0.008038</td>\n",
       "    </tr>\n",
       "  </tbody>\n",
       "</table>\n",
       "</div>"
      ],
      "text/plain": [
       "                 Importance\n",
       "minEnergy20        0.013970\n",
       "minEnergy15        0.013576\n",
       "totalEnergy30      0.013268\n",
       "count2500_7        0.012981\n",
       "count2500_30       0.012311\n",
       "count2500_10       0.012303\n",
       "count2500_15       0.011920\n",
       "count2500_20       0.010909\n",
       "totalEnergy7       0.010013\n",
       "totalEnergy10      0.009277\n",
       "totalEnergy15      0.008566\n",
       "count2500_5        0.008552\n",
       "count5             0.008263\n",
       "totalEnergy5       0.008167\n",
       "medianTimeDif30    0.008038"
      ]
     },
     "execution_count": 10,
     "metadata": {},
     "output_type": "execute_result"
    }
   ],
   "source": [
    "forest_predictions = forest.predict(X)\n",
    "features = pd.DataFrame(forest.feature_importances_, index=X.columns,\n",
    "                        columns=['Importance']).sort_values(['Importance'], ascending=False)\n",
    "features.head(15)"
   ]
  },
  {
   "cell_type": "code",
   "execution_count": 11,
   "metadata": {},
   "outputs": [
    {
     "data": {
      "text/plain": [
       "[<matplotlib.lines.Line2D at 0x238c9d31828>]"
      ]
     },
     "execution_count": 11,
     "metadata": {},
     "output_type": "execute_result"
    },
    {
     "data": {
      "image/png": "[encoded data removed]",
      "text/plain": [
       "<Figure size 432x288 with 1 Axes>"
      ]
     },
     "metadata": {
      "needs_background": "light"
     },
     "output_type": "display_data"
    }
   ],
   "source": [
    "plt.plot(range(len(features.Importance.tolist())), \n",
    "         features.Importance.tolist())"
   ]
  },
  {
   "cell_type": "code",
   "execution_count": 12,
   "metadata": {},
   "outputs": [],
   "source": [
    "col = features.index.tolist()\n",
    "X1 = X[col]\n",
    "X2 = X[col[:200]]\n",
    "X3 = X[col[:120]]\n",
    "X4 = X[col[:50]]\n",
    "X5 = X[col[:20]]\n",
    "X6 = X[col[:10]]"
   ]
  },
  {
   "cell_type": "markdown",
   "metadata": {},
   "source": [
    "#### Разбиваем на тестовую и обучающую выборки"
   ]
  },
  {
   "cell_type": "code",
   "execution_count": 13,
   "metadata": {},
   "outputs": [],
   "source": [
    "shuf = True"
   ]
  },
  {
   "cell_type": "code",
   "execution_count": 14,
   "metadata": {},
   "outputs": [],
   "source": [
    "X_train1, X_test1, y_train, y_test = train_test_split(X1, y, test_size=0.3,random_state=1234, shuffle=shuf)\n",
    "X_train2, X_test2, y_train, y_test = train_test_split(X2, y, test_size=0.3,random_state=1234, shuffle=shuf)\n",
    "X_train3, X_test3, y_train, y_test = train_test_split(X3, y, test_size=0.3,random_state=1234, shuffle=shuf)\n",
    "X_train4, X_test4, y_train, y_test = train_test_split(X4, y, test_size=0.3,random_state=1234, shuffle=shuf)\n",
    "X_train5, X_test5, y_train, y_test = train_test_split(X5, y, test_size=0.3,random_state=1234, shuffle=shuf)\n",
    "X_train6, X_test6, y_train, y_test = train_test_split(X6, y, test_size=0.3,random_state=1234, shuffle=shuf)"
   ]
  },
  {
   "cell_type": "markdown",
   "metadata": {},
   "source": [
    "## Построение моделей"
   ]
  },
  {
   "cell_type": "markdown",
   "metadata": {},
   "source": [
    "### Логистическая регрессия"
   ]
  },
  {
   "cell_type": "code",
   "execution_count": 395,
   "metadata": {
    "scrolled": true
   },
   "outputs": [
    {
     "name": "stdout",
     "output_type": "stream",
     "text": [
      "0.5754560458502604\n"
     ]
    }
   ],
   "source": [
    "lr = LogisticRegression(solver = 'liblinear')\n",
    "kf = KFold(n_splits=5,shuffle=shuf,random_state = 1234)\n",
    "print(cross_val_score(lr, X_train1, y_train, cv=kf, scoring='recall').mean()) "
   ]
  },
  {
   "cell_type": "code",
   "execution_count": 396,
   "metadata": {
    "scrolled": true
   },
   "outputs": [
    {
     "name": "stdout",
     "output_type": "stream",
     "text": [
      "roc_auc:  0.6782247765006386\n",
      "recall:  0.6379310344827587\n",
      "accuracy:  0.694300518134715\n",
      "precision:  0.49333333333333335\n"
     ]
    }
   ],
   "source": [
    "lr.fit(X_train1,y_train)\n",
    "a=metrics(X_test1,y_test,lr)"
   ]
  },
  {
   "cell_type": "code",
   "execution_count": 397,
   "metadata": {
    "scrolled": true
   },
   "outputs": [
    {
     "name": "stdout",
     "output_type": "stream",
     "text": [
      "0.6029347434762374\n"
     ]
    }
   ],
   "source": [
    "lr = LogisticRegression(solver = 'liblinear')\n",
    "kf = KFold(n_splits=5,shuffle=shuf,random_state = 1234)\n",
    "print(cross_val_score(lr, X_train2, y_train, cv=kf, scoring='recall').mean()) "
   ]
  },
  {
   "cell_type": "code",
   "execution_count": 398,
   "metadata": {
    "scrolled": true
   },
   "outputs": [
    {
     "name": "stdout",
     "output_type": "stream",
     "text": [
      "roc_auc:  0.6659003831417624\n",
      "recall:  0.6206896551724138\n",
      "accuracy:  0.6839378238341969\n",
      "precision:  0.48\n"
     ]
    }
   ],
   "source": [
    "lr.fit(X_train2,y_train)\n",
    "a=metrics(X_test2,y_test,lr)"
   ]
  },
  {
   "cell_type": "code",
   "execution_count": 399,
   "metadata": {
    "scrolled": true
   },
   "outputs": [
    {
     "name": "stdout",
     "output_type": "stream",
     "text": [
      "0.6334709077852212\n"
     ]
    }
   ],
   "source": [
    "lr = LogisticRegression(solver = 'liblinear')\n",
    "kf = KFold(n_splits=5,shuffle=shuf,random_state = 1234)\n",
    "print(cross_val_score(lr, X_train3, y_train, cv=kf, scoring='recall').mean()) "
   ]
  },
  {
   "cell_type": "code",
   "execution_count": 400,
   "metadata": {
    "scrolled": true
   },
   "outputs": [
    {
     "name": "stdout",
     "output_type": "stream",
     "text": [
      "roc_auc:  0.6905491698595146\n",
      "recall:  0.6551724137931034\n",
      "accuracy:  0.7046632124352331\n",
      "precision:  0.5066666666666667\n"
     ]
    }
   ],
   "source": [
    "lr.fit(X_train3,y_train)\n",
    "a=metrics(X_test3,y_test,lr)"
   ]
  },
  {
   "cell_type": "markdown",
   "metadata": {},
   "source": [
    "## Выбранная модель\n",
    "### -----------------------------------------------------------------------"
   ]
  },
  {
   "cell_type": "code",
   "execution_count": 401,
   "metadata": {
    "scrolled": true
   },
   "outputs": [
    {
     "name": "stdout",
     "output_type": "stream",
     "text": [
      "0.6543608829656982\n"
     ]
    }
   ],
   "source": [
    "lr = LogisticRegression(solver = 'liblinear')\n",
    "kf = KFold(n_splits=5,shuffle=shuf,random_state = 1234)\n",
    "print(cross_val_score(lr, X_train4, y_train, cv=kf, scoring='recall').mean()) "
   ]
  },
  {
   "cell_type": "code",
   "execution_count": 402,
   "metadata": {
    "scrolled": true
   },
   "outputs": [
    {
     "name": "stdout",
     "output_type": "stream",
     "text": [
      "roc_auc:  0.7263090676883781\n",
      "recall:  0.6896551724137931\n",
      "accuracy:  0.7409326424870466\n",
      "precision:  0.5555555555555556\n"
     ]
    }
   ],
   "source": [
    "lr.fit(X_train4,y_train)\n",
    "a=metrics(X_test4,y_test,lr)"
   ]
  },
  {
   "cell_type": "markdown",
   "metadata": {},
   "source": [
    "### -----------------------------------------------------------------------"
   ]
  },
  {
   "cell_type": "code",
   "execution_count": 403,
   "metadata": {
    "scrolled": true
   },
   "outputs": [
    {
     "name": "stdout",
     "output_type": "stream",
     "text": [
      "0.6300109494526992\n"
     ]
    }
   ],
   "source": [
    "lr = LogisticRegression(solver = 'liblinear')\n",
    "kf = KFold(n_splits=5,shuffle=shuf,random_state = 1234)\n",
    "print(cross_val_score(lr, X_train5, y_train, cv=kf, scoring='recall').mean()) "
   ]
  },
  {
   "cell_type": "code",
   "execution_count": 404,
   "metadata": {
    "scrolled": true
   },
   "outputs": [
    {
     "name": "stdout",
     "output_type": "stream",
     "text": [
      "roc_auc:  0.7275862068965517\n",
      "recall:  0.6551724137931034\n",
      "accuracy:  0.7564766839378239\n",
      "precision:  0.5846153846153846\n"
     ]
    }
   ],
   "source": [
    "lr.fit(X_train5,y_train)\n",
    "a=metrics(X_test5,y_test,lr)"
   ]
  },
  {
   "cell_type": "code",
   "execution_count": 405,
   "metadata": {
    "scrolled": true
   },
   "outputs": [
    {
     "name": "stdout",
     "output_type": "stream",
     "text": [
      "0.6253592455109344\n"
     ]
    }
   ],
   "source": [
    "lr = LogisticRegression(solver = 'liblinear')\n",
    "kf = KFold(n_splits=5,shuffle=shuf,random_state = 1234)\n",
    "print(cross_val_score(lr, X_train6, y_train, cv=kf, scoring='recall').mean()) "
   ]
  },
  {
   "cell_type": "code",
   "execution_count": 406,
   "metadata": {
    "scrolled": true
   },
   "outputs": [
    {
     "name": "stdout",
     "output_type": "stream",
     "text": [
      "roc_auc:  0.7312899106002554\n",
      "recall:  0.6551724137931034\n",
      "accuracy:  0.7616580310880829\n",
      "precision:  0.59375\n"
     ]
    }
   ],
   "source": [
    "lr.fit(X_train6,y_train)\n",
    "a=metrics(X_test6,y_test,lr)"
   ]
  },
  {
   "cell_type": "markdown",
   "metadata": {},
   "source": [
    "### Метод ближайших соседей"
   ]
  },
  {
   "cell_type": "code",
   "execution_count": 312,
   "metadata": {},
   "outputs": [],
   "source": [
    "clf = KNeighborsClassifier()"
   ]
  },
  {
   "cell_type": "code",
   "execution_count": 313,
   "metadata": {},
   "outputs": [
    {
     "data": {
      "text/plain": [
       "[{'n_neighbors': 8, 'weights': 'distance'}, 0.5564729550816933]"
      ]
     },
     "execution_count": 313,
     "metadata": {},
     "output_type": "execute_result"
    }
   ],
   "source": [
    "search = GridSearchCV(clf, {'n_neighbors':[8,15,21],'weights':['uniform','distance']},\n",
    "              n_jobs = -1,scoring= \"recall\",cv=kf).fit(X_train1, y_train)\n",
    "[search.best_params_,search.best_score_]"
   ]
  },
  {
   "cell_type": "code",
   "execution_count": 314,
   "metadata": {},
   "outputs": [
    {
     "data": {
      "text/plain": [
       "[{'n_neighbors': 15, 'weights': 'uniform'}, 0.5355733031105255]"
      ]
     },
     "execution_count": 314,
     "metadata": {},
     "output_type": "execute_result"
    }
   ],
   "source": [
    "search = GridSearchCV(clf, {'n_neighbors':[8,15,21],'weights':['uniform','distance']},\n",
    "              n_jobs = -1,scoring= \"recall\",cv=kf).fit(X_train2, y_train)\n",
    "[search.best_params_,search.best_score_]"
   ]
  },
  {
   "cell_type": "code",
   "execution_count": 315,
   "metadata": {},
   "outputs": [
    {
     "data": {
      "text/plain": [
       "[{'n_neighbors': 8, 'weights': 'distance'}, 0.579916966931856]"
      ]
     },
     "execution_count": 315,
     "metadata": {},
     "output_type": "execute_result"
    }
   ],
   "source": [
    "search = GridSearchCV(clf, {'n_neighbors':[8,15,21],'weights':['uniform','distance']},\n",
    "              n_jobs = -1,scoring= \"recall\",cv=kf).fit(X_train3, y_train)\n",
    "[search.best_params_,search.best_score_]"
   ]
  },
  {
   "cell_type": "code",
   "execution_count": 316,
   "metadata": {},
   "outputs": [
    {
     "data": {
      "text/plain": [
       "[{'n_neighbors': 8, 'weights': 'distance'}, 0.6309252947036691]"
      ]
     },
     "execution_count": 316,
     "metadata": {},
     "output_type": "execute_result"
    }
   ],
   "source": [
    "search = GridSearchCV(clf, {'n_neighbors':[8,15,21],'weights':['uniform','distance']},\n",
    "              n_jobs = -1,scoring= \"recall\",cv=kf).fit(X_train4, y_train)\n",
    "[search.best_params_,search.best_score_]"
   ]
  },
  {
   "cell_type": "code",
   "execution_count": 323,
   "metadata": {},
   "outputs": [
    {
     "data": {
      "text/plain": [
       "[{'n_neighbors': 7, 'weights': 'uniform'}, 0.6726662240208737]"
      ]
     },
     "execution_count": 323,
     "metadata": {},
     "output_type": "execute_result"
    }
   ],
   "source": [
    "search = GridSearchCV(clf, {'n_neighbors':[6,7,8,15,21],'weights':['uniform','distance']},\n",
    "              n_jobs = -1,scoring= \"recall\",cv=kf).fit(X_train5, y_train)\n",
    "[search.best_params_,search.best_score_]"
   ]
  },
  {
   "cell_type": "code",
   "execution_count": 319,
   "metadata": {},
   "outputs": [
    {
     "data": {
      "text/plain": [
       "[{'n_neighbors': 7, 'weights': 'uniform'}, 0.6457078435355224]"
      ]
     },
     "execution_count": 319,
     "metadata": {},
     "output_type": "execute_result"
    }
   ],
   "source": [
    "search = GridSearchCV(clf, {'n_neighbors':[6,7,8,9],'weights':['uniform','distance']},\n",
    "              n_jobs = -1,scoring= \"recall\",cv=kf).fit(X_train6, y_train)\n",
    "[search.best_params_,search.best_score_]"
   ]
  },
  {
   "cell_type": "markdown",
   "metadata": {},
   "source": [
    "## -------------------------------------------------------------------------------------------------------------------------------"
   ]
  },
  {
   "cell_type": "code",
   "execution_count": 329,
   "metadata": {},
   "outputs": [
    {
     "name": "stdout",
     "output_type": "stream",
     "text": [
      "0.645673933909228\n"
     ]
    }
   ],
   "source": [
    "clf  = KNeighborsClassifier(n_neighbors=7)\n",
    "print(cross_val_score(clf, X_train6, y_train, cv=kf, scoring='recall').mean())"
   ]
  },
  {
   "cell_type": "code",
   "execution_count": 330,
   "metadata": {},
   "outputs": [
    {
     "name": "stdout",
     "output_type": "stream",
     "text": [
      "roc_auc:  0.6842403628117913\n",
      "recall:  0.6031746031746031\n",
      "accuracy:  0.7018633540372671\n",
      "precision:  0.6229508196721312\n"
     ]
    }
   ],
   "source": [
    "a=metrics(X_test6,y_test,clf.fit(X_train6,y_train))"
   ]
  },
  {
   "cell_type": "markdown",
   "metadata": {},
   "source": [
    "### Градиентный бустинг"
   ]
  },
  {
   "cell_type": "code",
   "execution_count": 337,
   "metadata": {},
   "outputs": [
    {
     "name": "stdout",
     "output_type": "stream",
     "text": [
      "477.5710074901581\n"
     ]
    },
    {
     "data": {
      "text/plain": [
       "[{'max_depth': 15, 'min_leaf_samples': 1, 'n_estimators': 50},\n",
       " 0.6349832414757971]"
      ]
     },
     "execution_count": 337,
     "metadata": {},
     "output_type": "execute_result"
    }
   ],
   "source": [
    "a = time.time()\n",
    "xgb = xgboost.XGBClassifier()\n",
    "gs = GridSearchCV(xgb, {'n_estimators':[50,250,450,650],\n",
    "              'max_depth': [5,10,15],'min_leaf_samples':[1,2,4]},\n",
    "              n_jobs = -1,scoring= \"recall\",cv = kf).fit(X_train1, y_train)\n",
    "print(time.time()-a)\n",
    "[gs.best_params_,gs.best_score_]"
   ]
  },
  {
   "cell_type": "code",
   "execution_count": 338,
   "metadata": {},
   "outputs": [
    {
     "name": "stdout",
     "output_type": "stream",
     "text": [
      "288.1733458042145\n"
     ]
    },
    {
     "data": {
      "text/plain": [
       "[{'max_depth': 10, 'min_leaf_samples': 1, 'n_estimators': 250},\n",
       " 0.6323209375442717]"
      ]
     },
     "execution_count": 338,
     "metadata": {},
     "output_type": "execute_result"
    }
   ],
   "source": [
    "a = time.time()\n",
    "xgb = xgboost.XGBClassifier()\n",
    "gs = GridSearchCV(xgb, {'n_estimators':[50,250,450,650],\n",
    "              'max_depth': [5,10,15],'min_leaf_samples':[1,2,4]},\n",
    "              n_jobs = -1,scoring= \"recall\",cv = kf).fit(X_train2, y_train)\n",
    "print(time.time()-a)\n",
    "[gs.best_params_,gs.best_score_]"
   ]
  },
  {
   "cell_type": "code",
   "execution_count": 339,
   "metadata": {},
   "outputs": [
    {
     "name": "stdout",
     "output_type": "stream",
     "text": [
      "178.15581703186035\n"
     ]
    },
    {
     "data": {
      "text/plain": [
       "[{'max_depth': 10, 'min_leaf_samples': 1, 'n_estimators': 450},\n",
       " 0.6537401009209649]"
      ]
     },
     "execution_count": 339,
     "metadata": {},
     "output_type": "execute_result"
    }
   ],
   "source": [
    "a = time.time()\n",
    "xgb = xgboost.XGBClassifier()\n",
    "gs = GridSearchCV(xgb, {'n_estimators':[50,250,450,650],\n",
    "              'max_depth': [5,10,15],'min_leaf_samples':[1,2,4]},\n",
    "              n_jobs = -1,scoring= \"recall\",cv = kf).fit(X_train3, y_train)\n",
    "print(time.time()-a)\n",
    "[gs.best_params_,gs.best_score_]"
   ]
  },
  {
   "cell_type": "code",
   "execution_count": 351,
   "metadata": {},
   "outputs": [
    {
     "name": "stdout",
     "output_type": "stream",
     "text": [
      "10.689690828323364\n"
     ]
    },
    {
     "data": {
      "text/plain": [
       "[{'max_depth': 10, 'min_leaf_samples': 1, 'n_estimators': 28},\n",
       " 0.678487869627728]"
      ]
     },
     "execution_count": 351,
     "metadata": {},
     "output_type": "execute_result"
    }
   ],
   "source": [
    "a = time.time()\n",
    "xgb = xgboost.XGBClassifier()\n",
    "gs = GridSearchCV(xgb, {'n_estimators':[27,28,29],\n",
    "              'max_depth': [9,10,11],'min_leaf_samples':[1,2,4]},\n",
    "              n_jobs = -1,scoring= \"recall\",cv = kf).fit(X_train4, y_train)\n",
    "print(time.time()-a)\n",
    "[gs.best_params_,gs.best_score_]"
   ]
  },
  {
   "cell_type": "code",
   "execution_count": 341,
   "metadata": {},
   "outputs": [
    {
     "name": "stdout",
     "output_type": "stream",
     "text": [
      "43.98510479927063\n"
     ]
    },
    {
     "data": {
      "text/plain": [
       "[{'max_depth': 15, 'min_leaf_samples': 1, 'n_estimators': 250},\n",
       " 0.6207592911522616]"
      ]
     },
     "execution_count": 341,
     "metadata": {},
     "output_type": "execute_result"
    }
   ],
   "source": [
    "a = time.time()\n",
    "xgb = xgboost.XGBClassifier()\n",
    "gs = GridSearchCV(xgb, {'n_estimators':[50,250,450,650],\n",
    "              'max_depth': [5,10,15],'min_leaf_samples':[1,2,4]},\n",
    "              n_jobs = -1,scoring= \"recall\",cv = kf).fit(X_train5, y_train)\n",
    "print(time.time()-a)\n",
    "[gs.best_params_,gs.best_score_]"
   ]
  },
  {
   "cell_type": "code",
   "execution_count": 342,
   "metadata": {},
   "outputs": [
    {
     "name": "stdout",
     "output_type": "stream",
     "text": [
      "29.276368618011475\n"
     ]
    },
    {
     "data": {
      "text/plain": [
       "[{'max_depth': 5, 'min_leaf_samples': 1, 'n_estimators': 50},\n",
       " 0.6026398871651496]"
      ]
     },
     "execution_count": 342,
     "metadata": {},
     "output_type": "execute_result"
    }
   ],
   "source": [
    "a = time.time()\n",
    "xgb = xgboost.XGBClassifier()\n",
    "gs = GridSearchCV(xgb, {'n_estimators':[50,250,450,650],\n",
    "              'max_depth': [5,10,15],'min_leaf_samples':[1,2,4]},\n",
    "              n_jobs = -1,scoring= \"recall\",cv = kf).fit(X_train6, y_train)\n",
    "print(time.time()-a)\n",
    "[gs.best_params_,gs.best_score_]"
   ]
  },
  {
   "cell_type": "markdown",
   "metadata": {},
   "source": [
    "## -------------------------------------------------------------------------------------------------------------------------------"
   ]
  },
  {
   "cell_type": "code",
   "execution_count": 352,
   "metadata": {},
   "outputs": [],
   "source": [
    "xgb = xgboost.XGBClassifier(n_jobs = 4,n_estimators=28,max_depth =10,min_leaf_samples=1,scoring='recall',cv = 5)"
   ]
  },
  {
   "cell_type": "code",
   "execution_count": 353,
   "metadata": {},
   "outputs": [
    {
     "name": "stdout",
     "output_type": "stream",
     "text": [
      "roc_auc:  0.7131519274376417\n",
      "recall:  0.6507936507936508\n",
      "accuracy:  0.7267080745341615\n",
      "precision:  0.6507936507936508\n"
     ]
    }
   ],
   "source": [
    "a = metrics(X_test4,y_test,xgb.fit(X_train4,y_train))"
   ]
  },
  {
   "cell_type": "code",
   "execution_count": 354,
   "metadata": {},
   "outputs": [
    {
     "name": "stdout",
     "output_type": "stream",
     "text": [
      "0.6786973810503223\n"
     ]
    }
   ],
   "source": [
    "print(cross_val_score(xgb, X_train4, y_train, cv=kf, scoring='recall').mean())"
   ]
  },
  {
   "cell_type": "code",
   "execution_count": null,
   "metadata": {},
   "outputs": [],
   "source": []
  },
  {
   "cell_type": "markdown",
   "metadata": {},
   "source": [
    "## NN"
   ]
  },
  {
   "cell_type": "code",
   "execution_count": 56,
   "metadata": {},
   "outputs": [
    {
     "data": {
      "text/plain": [
       "20"
      ]
     },
     "execution_count": 56,
     "metadata": {},
     "output_type": "execute_result"
    }
   ],
   "source": [
    "len(X_train5.columns)"
   ]
  },
  {
   "cell_type": "code",
   "execution_count": 149,
   "metadata": {},
   "outputs": [],
   "source": [
    "s = 20"
   ]
  },
  {
   "cell_type": "code",
   "execution_count": 179,
   "metadata": {},
   "outputs": [],
   "source": [
    "model = Sequential()\n",
    "model.add(Dense(10, input_dim=s,activation='sigmoid'))\n",
    "model.add(Dropout(5))\n",
    "model.add(Dense(10, activation='sigmoid'))\n",
    "model.add(Dense(1, activation='sigmoid'))"
   ]
  },
  {
   "cell_type": "code",
   "execution_count": 180,
   "metadata": {},
   "outputs": [],
   "source": [
    "model.compile(loss='binary_crossentropy', optimizer='adam', metrics=[keras_metrics.recall(),keras_metrics.precision()])"
   ]
  },
  {
   "cell_type": "code",
   "execution_count": 186,
   "metadata": {},
   "outputs": [
    {
     "name": "stdout",
     "output_type": "stream",
     "text": [
      "Epoch 1/10\n",
      " - 0s - loss: 0.5621 - recall: 0.6205 - precision: 0.6914\n",
      "Epoch 2/10\n",
      " - 0s - loss: 0.5586 - recall: 0.6359 - precision: 0.6889\n",
      "Epoch 3/10\n",
      " - 0s - loss: 0.5556 - recall: 0.6462 - precision: 0.6848\n",
      "Epoch 4/10\n",
      " - 0s - loss: 0.5521 - recall: 0.6359 - precision: 0.6851\n",
      "Epoch 5/10\n",
      " - 0s - loss: 0.5494 - recall: 0.6359 - precision: 0.6851\n",
      "Epoch 6/10\n",
      " - 0s - loss: 0.5469 - recall: 0.6513 - precision: 0.6902\n",
      "Epoch 7/10\n",
      " - 0s - loss: 0.5445 - recall: 0.6462 - precision: 0.6923\n",
      "Epoch 8/10\n",
      " - 0s - loss: 0.5427 - recall: 0.6462 - precision: 0.6923\n",
      "Epoch 9/10\n",
      " - 0s - loss: 0.5416 - recall: 0.6462 - precision: 0.7000\n",
      "Epoch 10/10\n",
      " - 0s - loss: 0.5400 - recall: 0.6462 - precision: 0.7079\n"
     ]
    },
    {
     "data": {
      "text/plain": [
       "<keras.callbacks.History at 0x232af83c438>"
      ]
     },
     "execution_count": 186,
     "metadata": {},
     "output_type": "execute_result"
    }
   ],
   "source": [
    "model.fit(X_train5, y_train, epochs=10, batch_size=10,  verbose=2)"
   ]
  },
  {
   "cell_type": "code",
   "execution_count": 191,
   "metadata": {},
   "outputs": [
    {
     "name": "stdout",
     "output_type": "stream",
     "text": [
      "[58, 38]\n"
     ]
    }
   ],
   "source": [
    "predictions = model.predict(X_test5).ravel()\n",
    "pred=[]\n",
    "for i in predictions:\n",
    "    if i>0.55:\n",
    "        pred.append(1)\n",
    "    else:\n",
    "        pred.append(0)\n",
    "a = pd.DataFrame({'real':y_test,'pred':pred,'p':predictions})\n",
    "print([sum(y_test),len(a[a['real']==1][a['pred']==1])])"
   ]
  },
  {
   "cell_type": "code",
   "execution_count": 192,
   "metadata": {
    "scrolled": true
   },
   "outputs": [
    {
     "name": "stdout",
     "output_type": "stream",
     "text": [
      "roc_auc:  0.7386973180076628\n",
      "recall:  0.6551724137931034\n",
      "precision:  0.6129032258064516\n"
     ]
    }
   ],
   "source": [
    "b = metrics2(y_test,pred)"
   ]
  },
  {
   "cell_type": "code",
   "execution_count": null,
   "metadata": {},
   "outputs": [],
   "source": []
  },
  {
   "cell_type": "code",
   "execution_count": 170,
   "metadata": {},
   "outputs": [
    {
     "data": {
      "text/plain": [
       "120"
      ]
     },
     "execution_count": 170,
     "metadata": {},
     "output_type": "execute_result"
    }
   ],
   "source": [
    "len(X_train3.columns)"
   ]
  },
  {
   "cell_type": "code",
   "execution_count": 171,
   "metadata": {},
   "outputs": [],
   "source": [
    "s = 120"
   ]
  },
  {
   "cell_type": "code",
   "execution_count": 198,
   "metadata": {},
   "outputs": [],
   "source": [
    "model = Sequential()\n",
    "model.add(Dense(60, input_dim=s,activation='sigmoid'))\n",
    "model.add(Dropout(30))\n",
    "model.add(Dense(30, activation='sigmoid'))\n",
    "model.add(Dropout(15))\n",
    "model.add(Dense(15, activation='sigmoid'))\n",
    "model.add(Dropout(7))\n",
    "model.add(Dense(6, activation='sigmoid'))\n",
    "model.add(Dropout(3))\n",
    "model.add(Dense(1, activation='sigmoid'))"
   ]
  },
  {
   "cell_type": "code",
   "execution_count": 199,
   "metadata": {},
   "outputs": [],
   "source": [
    "model.compile(loss='binary_crossentropy', optimizer='adam', metrics=[keras_metrics.recall(),keras_metrics.precision()])"
   ]
  },
  {
   "cell_type": "code",
   "execution_count": 211,
   "metadata": {},
   "outputs": [
    {
     "name": "stdout",
     "output_type": "stream",
     "text": [
      "Epoch 1/10\n",
      " - 0s - loss: 0.5943 - recall: 0.6667 - precision: 0.7602\n",
      "Epoch 2/10\n",
      " - 0s - loss: 0.5834 - recall: 0.6821 - precision: 0.7733\n",
      "Epoch 3/10\n",
      " - 0s - loss: 0.5733 - recall: 0.6769 - precision: 0.7811\n",
      "Epoch 4/10\n",
      " - 0s - loss: 0.5627 - recall: 0.6821 - precision: 0.7870\n",
      "Epoch 5/10\n",
      " - 0s - loss: 0.5531 - recall: 0.7077 - precision: 0.7931\n",
      "Epoch 6/10\n",
      " - 0s - loss: 0.5448 - recall: 0.7077 - precision: 0.7931\n",
      "Epoch 7/10\n",
      " - 0s - loss: 0.5376 - recall: 0.6974 - precision: 0.7907\n",
      "Epoch 8/10\n",
      " - 0s - loss: 0.5309 - recall: 0.7282 - precision: 0.7889\n",
      "Epoch 9/10\n",
      " - 0s - loss: 0.5224 - recall: 0.7385 - precision: 0.8000\n",
      "Epoch 10/10\n",
      " - 0s - loss: 0.5159 - recall: 0.7333 - precision: 0.8079\n"
     ]
    },
    {
     "data": {
      "text/plain": [
       "<keras.callbacks.History at 0x238e40749b0>"
      ]
     },
     "execution_count": 211,
     "metadata": {},
     "output_type": "execute_result"
    }
   ],
   "source": [
    "model.fit(X_train3, y_train, epochs=10, batch_size=25,  verbose=2)"
   ]
  },
  {
   "cell_type": "code",
   "execution_count": 212,
   "metadata": {},
   "outputs": [
    {
     "name": "stdout",
     "output_type": "stream",
     "text": [
      "[58, 39]\n"
     ]
    }
   ],
   "source": [
    "predictions = model.predict(X_test3).ravel()\n",
    "pred=[]\n",
    "for i in predictions:\n",
    "    if i>0.5:\n",
    "        pred.append(1)\n",
    "    else:\n",
    "        pred.append(0)\n",
    "a = pd.DataFrame({'real':y_test,'pred':pred,'p':predictions})\n",
    "print([sum(y_test),len(a[a['real']==1][a['pred']==1])])"
   ]
  },
  {
   "cell_type": "code",
   "execution_count": 213,
   "metadata": {
    "scrolled": true
   },
   "outputs": [
    {
     "name": "stdout",
     "output_type": "stream",
     "text": [
      "roc_auc:  0.7325031928480205\n",
      "recall:  0.6724137931034483\n",
      "precision:  0.582089552238806\n"
     ]
    }
   ],
   "source": [
    "b = metrics2(y_test,pred)"
   ]
  },
  {
   "cell_type": "code",
   "execution_count": null,
   "metadata": {},
   "outputs": [],
   "source": []
  }
 ],
 "metadata": {
  "kernelspec": {
   "display_name": "Python 3",
   "language": "python",
   "name": "python3"
  },
  "language_info": {
   "codemirror_mode": {
    "name": "ipython",
    "version": 3
   },
   "file_extension": ".py",
   "mimetype": "text/x-python",
   "name": "python",
   "nbconvert_exporter": "python",
   "pygments_lexer": "ipython3",
   "version": "3.7.4"
  }
 },
 "nbformat": 4,
 "nbformat_minor": 2
}
