{
 "cells": [
  {
   "cell_type": "markdown",
   "metadata": {},
   "source": [
    "#### Импорт библиотек"
   ]
  },
  {
   "cell_type": "code",
   "execution_count": 1,
   "metadata": {},
   "outputs": [
    {
     "name": "stderr",
     "output_type": "stream",
     "text": [
      "Using TensorFlow backend.\n"
     ]
    }
   ],
   "source": [
    "import pandas as pd\n",
    "import numpy as np\n",
    "from sklearn.ensemble import ExtraTreesClassifier, RandomForestClassifier\n",
    "from sklearn import preprocessing\n",
    "from sklearn.model_selection import train_test_split\n",
    "from sklearn.linear_model import LogisticRegression,SGDClassifier\n",
    "from sklearn.metrics import roc_auc_score, log_loss, recall_score,accuracy_score,precision_score\n",
    "from sklearn.model_selection import GridSearchCV\n",
    "from sklearn.model_selection import cross_val_score,  KFold\n",
    "from sklearn.neighbors import KNeighborsClassifier\n",
    "import matplotlib.pyplot as plt\n",
    "from sklearn.model_selection import validation_curve\n",
    "from sklearn.model_selection import learning_curve\n",
    "import xgboost\n",
    "import time\n",
    "\n",
    "import keras\n",
    "import keras_metrics\n",
    "from keras.models import Sequential\n",
    "from keras.layers import Dense, Dropout\n",
    "\n",
    "\n",
    "import warnings\n",
    "warnings.filterwarnings('ignore')"
   ]
  },
  {
   "cell_type": "code",
   "execution_count": 3,
   "metadata": {},
   "outputs": [],
   "source": [
    "def metrics(x,real, clf):\n",
    "    print('roc_auc: ',roc_auc_score(real,clf.predict(x)))\n",
    "    print('recall: ',recall_score(real,clf.predict(x)))\n",
    "    print('accuracy: ',accuracy_score(real,clf.predict(x)))\n",
    "    print('precision: ',precision_score(real,clf.predict(x)))\n",
    "    return pd.DataFrame({'real':real,'predict':clf.predict(x),'proba1':clf.predict_proba(x)[:,1]})\n",
    "\n",
    "def metrics2(real,x):\n",
    "    print('roc_auc: ',roc_auc_score(real,x))\n",
    "    print('recall: ',recall_score(real,x))\n",
    "    print('precision: ',precision_score(real,x))\n",
    "    return pd.DataFrame({'real':real,'predict':x})"
   ]
  },
  {
   "cell_type": "markdown",
   "metadata": {},
   "source": [
    "#### Считывание данных"
   ]
  },
  {
   "cell_type": "code",
   "execution_count": 4,
   "metadata": {},
   "outputs": [],
   "source": [
    "data = pd.read_excel('ds3.xlsx')"
   ]
  },
  {
   "cell_type": "markdown",
   "metadata": {},
   "source": [
    "#### Удаление пропусков"
   ]
  },
  {
   "cell_type": "code",
   "execution_count": 5,
   "metadata": {},
   "outputs": [],
   "source": [
    "for i in data.columns:\n",
    "    if data[i].isna().sum()!=0:\n",
    "        data[i] = data[i].fillna(0)"
   ]
  },
  {
   "cell_type": "markdown",
   "metadata": {},
   "source": [
    "#### Разделение на целевую переменную и предикторы"
   ]
  },
  {
   "cell_type": "code",
   "execution_count": 6,
   "metadata": {},
   "outputs": [],
   "source": [
    "X = data.drop('class',axis=1)\n",
    "y = data['class']"
   ]
  },
  {
   "cell_type": "markdown",
   "metadata": {},
   "source": [
    "#### Масштабирование"
   ]
  },
  {
   "cell_type": "code",
   "execution_count": 7,
   "metadata": {},
   "outputs": [],
   "source": [
    "XScale = pd.DataFrame(preprocessing.scale(X))\n",
    "XScale.columns = X.columns\n",
    "X=XScale"
   ]
  },
  {
   "cell_type": "markdown",
   "metadata": {},
   "source": [
    "#### Распределение целевой переменной"
   ]
  },
  {
   "cell_type": "code",
   "execution_count": 8,
   "metadata": {},
   "outputs": [
    {
     "data": {
      "text/plain": [
       "0    377\n",
       "1    266\n",
       "Name: class, dtype: int64"
      ]
     },
     "execution_count": 8,
     "metadata": {},
     "output_type": "execute_result"
    }
   ],
   "source": [
    "y.value_counts()"
   ]
  },
  {
   "cell_type": "markdown",
   "metadata": {},
   "source": [
    "#### Отбор важности признаков"
   ]
  },
  {
   "cell_type": "code",
   "execution_count": 9,
   "metadata": {},
   "outputs": [],
   "source": [
    "forest = RandomForestClassifier(n_estimators=4500, max_depth = 20, n_jobs=-1,\n",
    "                                      random_state=1234).fit(X, y)"
   ]
  },
  {
   "cell_type": "code",
   "execution_count": 10,
   "metadata": {},
   "outputs": [
    {
     "data": {
      "text/html": [
       "<div>\n",
       "<style scoped>\n",
       "    .dataframe tbody tr th:only-of-type {\n",
       "        vertical-align: middle;\n",
       "    }\n",
       "\n",
       "    .dataframe tbody tr th {\n",
       "        vertical-align: top;\n",
       "    }\n",
       "\n",
       "    .dataframe thead th {\n",
       "        text-align: right;\n",
       "    }\n",
       "</style>\n",
       "<table border=\"1\" class=\"dataframe\">\n",
       "  <thead>\n",
       "    <tr style=\"text-align: right;\">\n",
       "      <th></th>\n",
       "      <th>Importance</th>\n",
       "    </tr>\n",
       "  </thead>\n",
       "  <tbody>\n",
       "    <tr>\n",
       "      <th>totalEnergy7</th>\n",
       "      <td>0.026990</td>\n",
       "    </tr>\n",
       "    <tr>\n",
       "      <th>totalEnergy10</th>\n",
       "      <td>0.023210</td>\n",
       "    </tr>\n",
       "    <tr>\n",
       "      <th>count500_10</th>\n",
       "      <td>0.022962</td>\n",
       "    </tr>\n",
       "    <tr>\n",
       "      <th>count500_7</th>\n",
       "      <td>0.022529</td>\n",
       "    </tr>\n",
       "    <tr>\n",
       "      <th>totalEnergy5</th>\n",
       "      <td>0.020814</td>\n",
       "    </tr>\n",
       "    <tr>\n",
       "      <th>count500_15</th>\n",
       "      <td>0.020531</td>\n",
       "    </tr>\n",
       "    <tr>\n",
       "      <th>totalEnergy15</th>\n",
       "      <td>0.018050</td>\n",
       "    </tr>\n",
       "    <tr>\n",
       "      <th>count500_20</th>\n",
       "      <td>0.017753</td>\n",
       "    </tr>\n",
       "    <tr>\n",
       "      <th>count500_5</th>\n",
       "      <td>0.017151</td>\n",
       "    </tr>\n",
       "    <tr>\n",
       "      <th>medianCount10</th>\n",
       "      <td>0.016887</td>\n",
       "    </tr>\n",
       "    <tr>\n",
       "      <th>count5</th>\n",
       "      <td>0.016813</td>\n",
       "    </tr>\n",
       "    <tr>\n",
       "      <th>medianCount5</th>\n",
       "      <td>0.016041</td>\n",
       "    </tr>\n",
       "    <tr>\n",
       "      <th>count7</th>\n",
       "      <td>0.014775</td>\n",
       "    </tr>\n",
       "    <tr>\n",
       "      <th>totalEnergy30</th>\n",
       "      <td>0.014074</td>\n",
       "    </tr>\n",
       "    <tr>\n",
       "      <th>count10</th>\n",
       "      <td>0.013701</td>\n",
       "    </tr>\n",
       "  </tbody>\n",
       "</table>\n",
       "</div>"
      ],
      "text/plain": [
       "               Importance\n",
       "totalEnergy7     0.026990\n",
       "totalEnergy10    0.023210\n",
       "count500_10      0.022962\n",
       "count500_7       0.022529\n",
       "totalEnergy5     0.020814\n",
       "count500_15      0.020531\n",
       "totalEnergy15    0.018050\n",
       "count500_20      0.017753\n",
       "count500_5       0.017151\n",
       "medianCount10    0.016887\n",
       "count5           0.016813\n",
       "medianCount5     0.016041\n",
       "count7           0.014775\n",
       "totalEnergy30    0.014074\n",
       "count10          0.013701"
      ]
     },
     "execution_count": 10,
     "metadata": {},
     "output_type": "execute_result"
    }
   ],
   "source": [
    "forest_predictions = forest.predict(X)\n",
    "features = pd.DataFrame(forest.feature_importances_, index=X.columns,\n",
    "                        columns=['Importance']).sort_values(['Importance'], ascending=False)\n",
    "features.head(15)"
   ]
  },
  {
   "cell_type": "code",
   "execution_count": 11,
   "metadata": {},
   "outputs": [
    {
     "data": {
      "text/plain": [
       "[<matplotlib.lines.Line2D at 0x2284f191438>]"
      ]
     },
     "execution_count": 11,
     "metadata": {},
     "output_type": "execute_result"
    },
    {
     "data": {
      "image/png": "[encoded data removed]",
      "text/plain": [
       "<Figure size 432x288 with 1 Axes>"
      ]
     },
     "metadata": {
      "needs_background": "light"
     },
     "output_type": "display_data"
    }
   ],
   "source": [
    "plt.plot(range(len(features.Importance.tolist())), \n",
    "         features.Importance.tolist())"
   ]
  },
  {
   "cell_type": "code",
   "execution_count": 12,
   "metadata": {},
   "outputs": [],
   "source": [
    "col = features.index.tolist()\n",
    "X1 = X[col]\n",
    "X2 = X[col[:200]]\n",
    "X3 = X[col[:120]]\n",
    "X4 = X[col[:50]]\n",
    "X5 = X[col[:20]]\n",
    "X6 = X[col[:10]]"
   ]
  },
  {
   "cell_type": "markdown",
   "metadata": {},
   "source": [
    "#### Разбиваем на тестовую и обучающую выборки"
   ]
  },
  {
   "cell_type": "code",
   "execution_count": 13,
   "metadata": {},
   "outputs": [],
   "source": [
    "shuf = True"
   ]
  },
  {
   "cell_type": "code",
   "execution_count": 14,
   "metadata": {},
   "outputs": [],
   "source": [
    "X_train1, X_test1, y_train, y_test = train_test_split(X1, y, test_size=0.25,random_state=12345, shuffle=shuf)\n",
    "X_train2, X_test2, y_train, y_test = train_test_split(X2, y, test_size=0.25,random_state=12345, shuffle=shuf)\n",
    "X_train3, X_test3, y_train, y_test = train_test_split(X3, y, test_size=0.25,random_state=12345, shuffle=shuf)\n",
    "X_train4, X_test4, y_train, y_test = train_test_split(X4, y, test_size=0.25,random_state=12345, shuffle=shuf)\n",
    "X_train5, X_test5, y_train, y_test = train_test_split(X5, y, test_size=0.25,random_state=12345, shuffle=shuf)\n",
    "X_train6, X_test6, y_train, y_test = train_test_split(X6, y, test_size=0.25,random_state=12345, shuffle=shuf)"
   ]
  },
  {
   "cell_type": "markdown",
   "metadata": {},
   "source": [
    "## Построение моделей"
   ]
  },
  {
   "cell_type": "markdown",
   "metadata": {},
   "source": [
    "### Логистическая регрессия"
   ]
  },
  {
   "cell_type": "code",
   "execution_count": 55,
   "metadata": {
    "scrolled": true
   },
   "outputs": [
    {
     "name": "stdout",
     "output_type": "stream",
     "text": [
      "0.7511380250548113\n"
     ]
    }
   ],
   "source": [
    "lr = LogisticRegression(solver = 'liblinear')\n",
    "kf = KFold(n_splits=5,shuffle=shuf,random_state = 1234)\n",
    "print(cross_val_score(lr, X_train1, y_train, cv=kf, scoring='recall').mean()) "
   ]
  },
  {
   "cell_type": "code",
   "execution_count": 56,
   "metadata": {
    "scrolled": true
   },
   "outputs": [
    {
     "name": "stdout",
     "output_type": "stream",
     "text": [
      "roc_auc:  0.7794943820224719\n",
      "recall:  0.75\n",
      "accuracy:  0.782608695652174\n",
      "precision:  0.7605633802816901\n"
     ]
    }
   ],
   "source": [
    "lr.fit(X_train1,y_train)\n",
    "a=metrics(X_test1,y_test,lr)"
   ]
  },
  {
   "cell_type": "code",
   "execution_count": 57,
   "metadata": {
    "scrolled": true
   },
   "outputs": [
    {
     "name": "stdout",
     "output_type": "stream",
     "text": [
      "0.7446455123069183\n"
     ]
    }
   ],
   "source": [
    "lr = LogisticRegression(solver = 'liblinear')\n",
    "kf = KFold(n_splits=5,shuffle=shuf,random_state = 1234)\n",
    "print(cross_val_score(lr, X_train2, y_train, cv=kf, scoring='recall').mean()) "
   ]
  },
  {
   "cell_type": "code",
   "execution_count": 58,
   "metadata": {
    "scrolled": true
   },
   "outputs": [
    {
     "name": "stdout",
     "output_type": "stream",
     "text": [
      "roc_auc:  0.8145287141073657\n",
      "recall:  0.7638888888888888\n",
      "accuracy:  0.8198757763975155\n",
      "precision:  0.8208955223880597\n"
     ]
    }
   ],
   "source": [
    "lr.fit(X_train2,y_train)\n",
    "a=metrics(X_test2,y_test,lr)"
   ]
  },
  {
   "cell_type": "code",
   "execution_count": 59,
   "metadata": {
    "scrolled": true
   },
   "outputs": [
    {
     "name": "stdout",
     "output_type": "stream",
     "text": [
      "0.7652200214897489\n"
     ]
    }
   ],
   "source": [
    "lr = LogisticRegression(solver = 'liblinear')\n",
    "kf = KFold(n_splits=5,shuffle=shuf,random_state = 1234)\n",
    "print(cross_val_score(lr, X_train3, y_train, cv=kf, scoring='recall').mean()) "
   ]
  },
  {
   "cell_type": "code",
   "execution_count": 60,
   "metadata": {
    "scrolled": true
   },
   "outputs": [
    {
     "name": "stdout",
     "output_type": "stream",
     "text": [
      "roc_auc:  0.8102372034956306\n",
      "recall:  0.7777777777777778\n",
      "accuracy:  0.8136645962732919\n",
      "precision:  0.8\n"
     ]
    }
   ],
   "source": [
    "lr.fit(X_train3,y_train)\n",
    "a=metrics(X_test3,y_test,lr)"
   ]
  },
  {
   "cell_type": "markdown",
   "metadata": {},
   "source": [
    "# Выбранная модель\n",
    "### -----------------------------------------------------------------------"
   ]
  },
  {
   "cell_type": "code",
   "execution_count": 61,
   "metadata": {
    "scrolled": true
   },
   "outputs": [
    {
     "name": "stdout",
     "output_type": "stream",
     "text": [
      "0.7759600514263354\n"
     ]
    }
   ],
   "source": [
    "lr = LogisticRegression(solver = 'liblinear')\n",
    "kf = KFold(n_splits=5,shuffle=shuf,random_state = 1234)\n",
    "print(cross_val_score(lr, X_train4, y_train, cv=kf, scoring='recall').mean()) "
   ]
  },
  {
   "cell_type": "code",
   "execution_count": 62,
   "metadata": {
    "scrolled": true
   },
   "outputs": [
    {
     "name": "stdout",
     "output_type": "stream",
     "text": [
      "roc_auc:  0.8214731585518102\n",
      "recall:  0.7777777777777778\n",
      "accuracy:  0.8260869565217391\n",
      "precision:  0.8235294117647058\n"
     ]
    }
   ],
   "source": [
    "lr.fit(X_train4,y_train)\n",
    "a=metrics(X_test4,y_test,lr)"
   ]
  },
  {
   "cell_type": "markdown",
   "metadata": {},
   "source": [
    "\n",
    "### -----------------------------------------------------------------------"
   ]
  },
  {
   "cell_type": "code",
   "execution_count": 63,
   "metadata": {
    "scrolled": true
   },
   "outputs": [
    {
     "name": "stdout",
     "output_type": "stream",
     "text": [
      "0.7192551876626482\n"
     ]
    }
   ],
   "source": [
    "lr = LogisticRegression(solver = 'liblinear')\n",
    "kf = KFold(n_splits=5,shuffle=shuf,random_state = 1234)\n",
    "print(cross_val_score(lr, X_train5, y_train, cv=kf, scoring='recall').mean()) "
   ]
  },
  {
   "cell_type": "code",
   "execution_count": 64,
   "metadata": {
    "scrolled": true
   },
   "outputs": [
    {
     "name": "stdout",
     "output_type": "stream",
     "text": [
      "roc_auc:  0.8036048689138577\n",
      "recall:  0.7083333333333334\n",
      "accuracy:  0.8136645962732919\n",
      "precision:  0.85\n"
     ]
    }
   ],
   "source": [
    "lr.fit(X_train5,y_train)\n",
    "a=metrics(X_test5,y_test,lr)"
   ]
  },
  {
   "cell_type": "code",
   "execution_count": 65,
   "metadata": {
    "scrolled": true
   },
   "outputs": [
    {
     "name": "stdout",
     "output_type": "stream",
     "text": [
      "0.7372587527250367\n"
     ]
    }
   ],
   "source": [
    "lr = LogisticRegression(solver = 'liblinear')\n",
    "kf = KFold(n_splits=5,shuffle=shuf,random_state = 1234)\n",
    "print(cross_val_score(lr, X_train6, y_train, cv=kf, scoring='recall').mean()) "
   ]
  },
  {
   "cell_type": "code",
   "execution_count": 66,
   "metadata": {
    "scrolled": true
   },
   "outputs": [
    {
     "name": "stdout",
     "output_type": "stream",
     "text": [
      "roc_auc:  0.7936953807740326\n",
      "recall:  0.7222222222222222\n",
      "accuracy:  0.8012422360248447\n",
      "precision:  0.8125\n"
     ]
    }
   ],
   "source": [
    "lr.fit(X_train6,y_train)\n",
    "a=metrics(X_test6,y_test,lr)"
   ]
  },
  {
   "cell_type": "code",
   "execution_count": 69,
   "metadata": {},
   "outputs": [
    {
     "data": {
      "image/png": "[encoded data removed]",
      "text/plain": [
       "<Figure size 432x288 with 1 Axes>"
      ]
     },
     "metadata": {
      "needs_background": "light"
     },
     "output_type": "display_data"
    }
   ],
   "source": [
    "plot_learning_curve(LogisticRegression(solver = 'liblinear'), X_train4, y_train, scoring = 'recall', cv=10)"
   ]
  },
  {
   "cell_type": "markdown",
   "metadata": {},
   "source": [
    "### Метод ближайших соседей"
   ]
  },
  {
   "cell_type": "code",
   "execution_count": 70,
   "metadata": {},
   "outputs": [],
   "source": [
    "clf = KNeighborsClassifier()"
   ]
  },
  {
   "cell_type": "code",
   "execution_count": 100,
   "metadata": {},
   "outputs": [
    {
     "data": {
      "text/plain": [
       "[{'n_neighbors': 16, 'weights': 'distance'}, 0.805400378587184]"
      ]
     },
     "execution_count": 100,
     "metadata": {},
     "output_type": "execute_result"
    }
   ],
   "source": [
    "search = GridSearchCV(clf, {'n_neighbors':[15,16,17],'weights':['uniform','distance']},\n",
    "              n_jobs = -1,scoring= \"recall\",cv=kf).fit(X_train1, y_train)\n",
    "[search.best_params_,search.best_score_]"
   ]
  },
  {
   "cell_type": "code",
   "execution_count": 103,
   "metadata": {},
   "outputs": [
    {
     "data": {
      "text/plain": [
       "[{'n_neighbors': 22, 'weights': 'distance'}, 0.7648668377012139]"
      ]
     },
     "execution_count": 103,
     "metadata": {},
     "output_type": "execute_result"
    }
   ],
   "source": [
    "search = GridSearchCV(clf, {'n_neighbors':[21,22,23],'weights':['uniform','distance']},\n",
    "              n_jobs = -1,scoring= \"recall\",cv=kf).fit(X_train2, y_train)\n",
    "[search.best_params_,search.best_score_]"
   ]
  },
  {
   "cell_type": "code",
   "execution_count": 105,
   "metadata": {},
   "outputs": [
    {
     "data": {
      "text/plain": [
       "[{'n_neighbors': 20, 'weights': 'distance'}, 0.8006406257381093]"
      ]
     },
     "execution_count": 105,
     "metadata": {},
     "output_type": "execute_result"
    }
   ],
   "source": [
    "search = GridSearchCV(clf, {'n_neighbors':[19,20,21],'weights':['uniform','distance']},\n",
    "              n_jobs = -1,scoring= \"recall\",cv=kf).fit(X_train3, y_train)\n",
    "[search.best_params_,search.best_score_]"
   ]
  },
  {
   "cell_type": "code",
   "execution_count": 106,
   "metadata": {},
   "outputs": [
    {
     "data": {
      "text/plain": [
       "[{'n_neighbors': 8, 'weights': 'distance'}, 0.7863136359603138]"
      ]
     },
     "execution_count": 106,
     "metadata": {},
     "output_type": "execute_result"
    }
   ],
   "source": [
    "search = GridSearchCV(clf, {'n_neighbors':[7,8,9],'weights':['uniform','distance']},\n",
    "              n_jobs = -1,scoring= \"recall\",cv=kf).fit(X_train4, y_train)\n",
    "[search.best_params_,search.best_score_]"
   ]
  },
  {
   "cell_type": "code",
   "execution_count": 108,
   "metadata": {},
   "outputs": [
    {
     "data": {
      "text/plain": [
       "[{'n_neighbors': 20, 'weights': 'distance'}, 0.7942295748745442]"
      ]
     },
     "execution_count": 108,
     "metadata": {},
     "output_type": "execute_result"
    }
   ],
   "source": [
    "search = GridSearchCV(clf, {'n_neighbors':[19,20,21],'weights':['uniform','distance']},\n",
    "              n_jobs = -1,scoring= \"recall\",cv=kf).fit(X_train5, y_train)\n",
    "[search.best_params_,search.best_score_]"
   ]
  },
  {
   "cell_type": "code",
   "execution_count": 96,
   "metadata": {},
   "outputs": [
    {
     "data": {
      "text/plain": [
       "[{'n_neighbors': 20, 'weights': 'distance'}, 0.8039451907029016]"
      ]
     },
     "execution_count": 96,
     "metadata": {},
     "output_type": "execute_result"
    }
   ],
   "source": [
    "search = GridSearchCV(clf, {'n_neighbors':[19,20,21],'weights':['uniform','distance']},\n",
    "              n_jobs = -1,scoring= \"recall\",cv=kf).fit(X_train6, y_train)\n",
    "[search.best_params_,search.best_score_]"
   ]
  },
  {
   "cell_type": "markdown",
   "metadata": {},
   "source": [
    "## -------------------------------------------------------------------------------------------------------------------------------"
   ]
  },
  {
   "cell_type": "code",
   "execution_count": 111,
   "metadata": {},
   "outputs": [
    {
     "name": "stdout",
     "output_type": "stream",
     "text": [
      "0.8037298999422386\n"
     ]
    }
   ],
   "source": [
    "clf  = KNeighborsClassifier(n_neighbors=20,weights='distance')\n",
    "print(cross_val_score(clf, X_train6, y_train, cv=kf, scoring='recall').mean())"
   ]
  },
  {
   "cell_type": "code",
   "execution_count": 112,
   "metadata": {},
   "outputs": [
    {
     "name": "stdout",
     "output_type": "stream",
     "text": [
      "roc_auc:  0.8132022471910113\n",
      "recall:  0.75\n",
      "accuracy:  0.8198757763975155\n",
      "precision:  0.8307692307692308\n"
     ]
    }
   ],
   "source": [
    "a=metrics(X_test6,y_test,clf.fit(X_train6,y_train))"
   ]
  },
  {
   "cell_type": "markdown",
   "metadata": {},
   "source": [
    "### Градиентный бустинг"
   ]
  },
  {
   "cell_type": "code",
   "execution_count": 125,
   "metadata": {},
   "outputs": [
    {
     "name": "stdout",
     "output_type": "stream",
     "text": [
      "78.83890128135681\n"
     ]
    },
    {
     "data": {
      "text/plain": [
       "[{'max_depth': 5, 'min_leaf_samples': 1, 'n_estimators': 50},\n",
       " 0.8062588603722212]"
      ]
     },
     "execution_count": 125,
     "metadata": {},
     "output_type": "execute_result"
    }
   ],
   "source": [
    "a = time.time()\n",
    "xgb = xgboost.XGBClassifier()\n",
    "gs = GridSearchCV(xgb, {'n_estimators':[45,50,55],\n",
    "              'max_depth': [3,5,10],'min_leaf_samples':[1,2,4]},\n",
    "              n_jobs = -1,scoring= \"recall\",cv = kf).fit(X_train1, y_train)\n",
    "print(time.time()-a)\n",
    "[gs.best_params_,gs.best_score_]"
   ]
  },
  {
   "cell_type": "code",
   "execution_count": 131,
   "metadata": {},
   "outputs": [
    {
     "name": "stdout",
     "output_type": "stream",
     "text": [
      "85.20146417617798\n"
     ]
    },
    {
     "data": {
      "text/plain": [
       "[{'max_depth': 10, 'n_estimators': 450}, 0.7946863550970065]"
      ]
     },
     "execution_count": 131,
     "metadata": {},
     "output_type": "execute_result"
    }
   ],
   "source": [
    "a = time.time()\n",
    "xgb = xgboost.XGBClassifier()\n",
    "gs = GridSearchCV(xgb, {'n_estimators':[440,450,460],\n",
    "              'max_depth': [9,10,11]},\n",
    "              n_jobs = -1,scoring= \"recall\",cv = kf).fit(X_train2, y_train)\n",
    "print(time.time()-a)\n",
    "[gs.best_params_,gs.best_score_]"
   ]
  },
  {
   "cell_type": "code",
   "execution_count": 132,
   "metadata": {},
   "outputs": [
    {
     "name": "stdout",
     "output_type": "stream",
     "text": [
      "157.16761565208435\n"
     ]
    },
    {
     "data": {
      "text/plain": [
       "[{'max_depth': 4, 'min_leaf_samples': 1, 'n_estimators': 590},\n",
       " 0.797175414681978]"
      ]
     },
     "execution_count": 132,
     "metadata": {},
     "output_type": "execute_result"
    }
   ],
   "source": [
    "a = time.time()\n",
    "xgb = xgboost.XGBClassifier()\n",
    "gs = GridSearchCV(xgb, {'n_estimators':[590,600,610],\n",
    "              'max_depth': [3,4,5],'min_leaf_samples':[1,2,4]},\n",
    "              n_jobs = -1,scoring= \"recall\",cv = kf).fit(X_train3, y_train)\n",
    "print(time.time()-a)\n",
    "[gs.best_params_,gs.best_score_]"
   ]
  },
  {
   "cell_type": "code",
   "execution_count": 133,
   "metadata": {},
   "outputs": [
    {
     "name": "stdout",
     "output_type": "stream",
     "text": [
      "5.43146276473999\n"
     ]
    },
    {
     "data": {
      "text/plain": [
       "[{'max_depth': 10, 'n_estimators': 50}, 0.7742059589842322]"
      ]
     },
     "execution_count": 133,
     "metadata": {},
     "output_type": "execute_result"
    }
   ],
   "source": [
    "a = time.time()\n",
    "xgb = xgboost.XGBClassifier()\n",
    "gs = GridSearchCV(xgb, {'n_estimators':[45,50,55],\n",
    "              'max_depth': [9,10,11]},\n",
    "              n_jobs = -1,scoring= \"recall\",cv = kf).fit(X_train4, y_train)\n",
    "print(time.time()-a)\n",
    "[gs.best_params_,gs.best_score_]"
   ]
  },
  {
   "cell_type": "code",
   "execution_count": 134,
   "metadata": {},
   "outputs": [
    {
     "name": "stdout",
     "output_type": "stream",
     "text": [
      "2.8298139572143555\n"
     ]
    },
    {
     "data": {
      "text/plain": [
       "[{'max_depth': 6, 'n_estimators': 55}, 0.8017438122261997]"
      ]
     },
     "execution_count": 134,
     "metadata": {},
     "output_type": "execute_result"
    }
   ],
   "source": [
    "a = time.time()\n",
    "xgb = xgboost.XGBClassifier()\n",
    "gs = GridSearchCV(xgb, {'n_estimators':[52,55,60],\n",
    "              'max_depth': [6,7,8]},\n",
    "              n_jobs = -1,scoring= \"recall\",cv = kf).fit(X_train5, y_train)\n",
    "print(time.time()-a)\n",
    "[gs.best_params_,gs.best_score_]"
   ]
  },
  {
   "cell_type": "code",
   "execution_count": 135,
   "metadata": {},
   "outputs": [
    {
     "name": "stdout",
     "output_type": "stream",
     "text": [
      "1.3503363132476807\n"
     ]
    },
    {
     "data": {
      "text/plain": [
       "[{'max_depth': 3, 'n_estimators': 40}, 0.8011606696206374]"
      ]
     },
     "execution_count": 135,
     "metadata": {},
     "output_type": "execute_result"
    }
   ],
   "source": [
    "a = time.time()\n",
    "xgb = xgboost.XGBClassifier()\n",
    "gs = GridSearchCV(xgb, {'n_estimators':[40,45,50],\n",
    "              'max_depth': [3,4,5]},\n",
    "              n_jobs = -1,scoring= \"recall\",cv = kf).fit(X_train6, y_train)\n",
    "print(time.time()-a)\n",
    "[gs.best_params_,gs.best_score_]"
   ]
  },
  {
   "cell_type": "markdown",
   "metadata": {},
   "source": [
    "## -------------------------------------------------------------------------------------------------------------------------------"
   ]
  },
  {
   "cell_type": "code",
   "execution_count": 174,
   "metadata": {},
   "outputs": [],
   "source": [
    "xgb = xgboost.XGBClassifier(n_jobs = 4,n_estimators=590,max_depth =4,min_leaf_samples=1,scoring='recall',cv = 5)"
   ]
  },
  {
   "cell_type": "code",
   "execution_count": 182,
   "metadata": {},
   "outputs": [
    {
     "name": "stdout",
     "output_type": "stream",
     "text": [
      "roc_auc:  0.8439450686641697\n",
      "recall:  0.7777777777777778\n",
      "accuracy:  0.8509316770186336\n",
      "precision:  0.875\n"
     ]
    }
   ],
   "source": [
    "a = metrics(X_test3,y_test,xgb.fit(X_train3,y_train))"
   ]
  },
  {
   "cell_type": "code",
   "execution_count": 185,
   "metadata": {},
   "outputs": [
    {
     "name": "stdout",
     "output_type": "stream",
     "text": [
      "0.7968910668480254\n"
     ]
    }
   ],
   "source": [
    "print(cross_val_score(xgb, X_train3, y_train, cv=kf, scoring='recall').mean())"
   ]
  },
  {
   "cell_type": "markdown",
   "metadata": {},
   "source": [
    "## NN"
   ]
  },
  {
   "cell_type": "code",
   "execution_count": 174,
   "metadata": {},
   "outputs": [
    {
     "data": {
      "text/plain": [
       "385"
      ]
     },
     "execution_count": 174,
     "metadata": {},
     "output_type": "execute_result"
    }
   ],
   "source": [
    "len(X_train1.columns)"
   ]
  },
  {
   "cell_type": "code",
   "execution_count": 175,
   "metadata": {},
   "outputs": [],
   "source": [
    "s = 385"
   ]
  },
  {
   "cell_type": "code",
   "execution_count": 176,
   "metadata": {},
   "outputs": [],
   "source": [
    "model = Sequential()\n",
    "model.add(Dense(10, input_dim=s,activation='sigmoid'))\n",
    "model.add(Dropout(8))\n",
    "model.add(Dense(10, activation='sigmoid'))\n",
    "model.add(Dropout(8))\n",
    "model.add(Dense(1, activation='sigmoid'))"
   ]
  },
  {
   "cell_type": "code",
   "execution_count": 177,
   "metadata": {},
   "outputs": [],
   "source": [
    "model.compile(loss='binary_crossentropy', optimizer='adamax', metrics=[keras_metrics.recall(),keras_metrics.precision()])"
   ]
  },
  {
   "cell_type": "code",
   "execution_count": 179,
   "metadata": {},
   "outputs": [
    {
     "name": "stdout",
     "output_type": "stream",
     "text": [
      "Epoch 1/7\n",
      " - 1s - loss: 0.7377 - recall: 1.0000 - precision: 0.4025\n",
      "Epoch 2/7\n",
      " - 0s - loss: 0.6851 - recall: 1.0000 - precision: 0.4076\n",
      "Epoch 3/7\n",
      " - 0s - loss: 0.6547 - recall: 0.9897 - precision: 0.4776\n",
      "Epoch 4/7\n",
      " - 0s - loss: 0.6326 - recall: 0.9588 - precision: 0.6019\n",
      "Epoch 5/7\n",
      " - 0s - loss: 0.6129 - recall: 0.9175 - precision: 0.6617\n",
      "Epoch 6/7\n",
      " - 0s - loss: 0.5975 - recall: 0.8918 - precision: 0.7208\n",
      "Epoch 7/7\n",
      " - 0s - loss: 0.5859 - recall: 0.8763 - precision: 0.7359\n"
     ]
    },
    {
     "data": {
      "text/plain": [
       "<keras.callbacks.History at 0x22866c04860>"
      ]
     },
     "execution_count": 179,
     "metadata": {},
     "output_type": "execute_result"
    }
   ],
   "source": [
    "model.fit(X_train1, y_train, epochs=7, batch_size=60,  verbose=2)"
   ]
  },
  {
   "cell_type": "code",
   "execution_count": 194,
   "metadata": {},
   "outputs": [
    {
     "name": "stdout",
     "output_type": "stream",
     "text": [
      "[72, 59]\n"
     ]
    }
   ],
   "source": [
    "predictions = model.predict(X_test1).ravel()\n",
    "pred=[]\n",
    "for i in predictions:\n",
    "    if i>0.5:\n",
    "        pred.append(1)\n",
    "    else:\n",
    "        pred.append(0)\n",
    "a = pd.DataFrame({'real':y_test,'pred':pred,'p':predictions})\n",
    "print([sum(y_test),len(a[a['real']==1][a['pred']==1])])"
   ]
  },
  {
   "cell_type": "code",
   "execution_count": 195,
   "metadata": {},
   "outputs": [
    {
     "name": "stdout",
     "output_type": "stream",
     "text": [
      "roc_auc:  0.8085986267166041\n",
      "recall:  0.8194444444444444\n",
      "precision:  0.7662337662337663\n"
     ]
    }
   ],
   "source": [
    "b = metrics2(y_test,pred)"
   ]
  },
  {
   "cell_type": "code",
   "execution_count": null,
   "metadata": {},
   "outputs": [],
   "source": []
  }
 ],
 "metadata": {
  "kernelspec": {
   "display_name": "Python 3",
   "language": "python",
   "name": "python3"
  },
  "language_info": {
   "codemirror_mode": {
    "name": "ipython",
    "version": 3
   },
   "file_extension": ".py",
   "mimetype": "text/x-python",
   "name": "python",
   "nbconvert_exporter": "python",
   "pygments_lexer": "ipython3",
   "version": "3.7.3"
  }
 },
 "nbformat": 4,
 "nbformat_minor": 2
}
