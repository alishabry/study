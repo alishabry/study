{
 "cells": [
  {
   "cell_type": "markdown",
   "metadata": {},
   "source": [
    "#### Импорт библиотек"
   ]
  },
  {
   "cell_type": "code",
   "execution_count": 1,
   "metadata": {},
   "outputs": [
    {
     "name": "stderr",
     "output_type": "stream",
     "text": [
      "Using TensorFlow backend.\n"
     ]
    }
   ],
   "source": [
    "import pandas as pd\n",
    "import numpy as np\n",
    "from sklearn.ensemble import ExtraTreesClassifier, RandomForestClassifier\n",
    "from sklearn import preprocessing\n",
    "from sklearn.model_selection import train_test_split\n",
    "from sklearn.linear_model import LogisticRegression,SGDClassifier\n",
    "from sklearn.metrics import roc_auc_score, log_loss, recall_score,accuracy_score,precision_score\n",
    "from sklearn.model_selection import GridSearchCV\n",
    "from sklearn.model_selection import cross_val_score,  KFold\n",
    "from sklearn.neighbors import KNeighborsClassifier\n",
    "import matplotlib.pyplot as plt\n",
    "import xgboost\n",
    "import time\n",
    "\n",
    "import keras\n",
    "import keras_metrics\n",
    "from keras.models import Sequential\n",
    "from keras.layers import Dense, Dropout\n",
    "\n",
    "\n",
    "import warnings\n",
    "warnings.filterwarnings('ignore')"
   ]
  },
  {
   "cell_type": "code",
   "execution_count": 2,
   "metadata": {},
   "outputs": [],
   "source": [
    "def metrics(x,real, clf):\n",
    "    print('roc_auc: ',roc_auc_score(real,clf.predict(x)))\n",
    "    print('recall: ',recall_score(real,clf.predict(x)))\n",
    "    print('accuracy: ',accuracy_score(real,clf.predict(x)))\n",
    "    print('precision: ',precision_score(real,clf.predict(x)))\n",
    "    return pd.DataFrame({'real':real,'predict':clf.predict(x),'proba1':clf.predict_proba(x)[:,1]})\n",
    "def metrics2(real,x):\n",
    "    print('roc_auc: ',roc_auc_score(real,x))\n",
    "    print('recall: ',recall_score(real,x))\n",
    "    print('precision: ',precision_score(real,x))\n",
    "    return pd.DataFrame({'real':real,'predict':x,})"
   ]
  },
  {
   "cell_type": "markdown",
   "metadata": {},
   "source": [
    "#### Считывание данных"
   ]
  },
  {
   "cell_type": "code",
   "execution_count": 3,
   "metadata": {},
   "outputs": [],
   "source": [
    "data = pd.read_excel('ds1.xls')"
   ]
  },
  {
   "cell_type": "code",
   "execution_count": 4,
   "metadata": {},
   "outputs": [],
   "source": [
    "data = data[:-1000]"
   ]
  },
  {
   "cell_type": "markdown",
   "metadata": {},
   "source": [
    "#### Удаление пропусков"
   ]
  },
  {
   "cell_type": "code",
   "execution_count": 5,
   "metadata": {},
   "outputs": [],
   "source": [
    "for i in data.columns:\n",
    "    if data[i].isna().sum()!=0:\n",
    "        data[i] = data[i].fillna(0)"
   ]
  },
  {
   "cell_type": "markdown",
   "metadata": {},
   "source": [
    "#### Разделение на целевую переменную и предикторы"
   ]
  },
  {
   "cell_type": "code",
   "execution_count": 6,
   "metadata": {},
   "outputs": [],
   "source": [
    "X = data.drop('class',axis=1)\n",
    "y = data['class']"
   ]
  },
  {
   "cell_type": "markdown",
   "metadata": {},
   "source": [
    "#### Масштабирование"
   ]
  },
  {
   "cell_type": "code",
   "execution_count": 7,
   "metadata": {},
   "outputs": [],
   "source": [
    "XScale = pd.DataFrame(preprocessing.scale(X))\n",
    "XScale.columns = X.columns\n",
    "X=XScale"
   ]
  },
  {
   "cell_type": "markdown",
   "metadata": {},
   "source": [
    "#### Распределение целевой переменной"
   ]
  },
  {
   "cell_type": "code",
   "execution_count": 8,
   "metadata": {},
   "outputs": [
    {
     "data": {
      "text/plain": [
       "1    3179\n",
       "0    2220\n",
       "Name: class, dtype: int64"
      ]
     },
     "execution_count": 8,
     "metadata": {},
     "output_type": "execute_result"
    }
   ],
   "source": [
    "y.value_counts()"
   ]
  },
  {
   "cell_type": "markdown",
   "metadata": {},
   "source": [
    "#### Отбор важности признаков"
   ]
  },
  {
   "cell_type": "code",
   "execution_count": 9,
   "metadata": {},
   "outputs": [],
   "source": [
    "forest = RandomForestClassifier(n_estimators=4500, max_depth = 20, n_jobs=-1,\n",
    "                                      random_state=1234).fit(X, y)"
   ]
  },
  {
   "cell_type": "code",
   "execution_count": 10,
   "metadata": {},
   "outputs": [
    {
     "data": {
      "text/html": [
       "<div>\n",
       "<style scoped>\n",
       "    .dataframe tbody tr th:only-of-type {\n",
       "        vertical-align: middle;\n",
       "    }\n",
       "\n",
       "    .dataframe tbody tr th {\n",
       "        vertical-align: top;\n",
       "    }\n",
       "\n",
       "    .dataframe thead th {\n",
       "        text-align: right;\n",
       "    }\n",
       "</style>\n",
       "<table border=\"1\" class=\"dataframe\">\n",
       "  <thead>\n",
       "    <tr style=\"text-align: right;\">\n",
       "      <th></th>\n",
       "      <th>Importance</th>\n",
       "    </tr>\n",
       "  </thead>\n",
       "  <tbody>\n",
       "    <tr>\n",
       "      <th>totalEn_15__(3000, 7000)</th>\n",
       "      <td>0.041591</td>\n",
       "    </tr>\n",
       "    <tr>\n",
       "      <th>totalEn_7__(3000, 7000)</th>\n",
       "      <td>0.035264</td>\n",
       "    </tr>\n",
       "    <tr>\n",
       "      <th>countEv_15__(3000, 7000)</th>\n",
       "      <td>0.030161</td>\n",
       "    </tr>\n",
       "    <tr>\n",
       "      <th>totalEn_15__</th>\n",
       "      <td>0.024522</td>\n",
       "    </tr>\n",
       "    <tr>\n",
       "      <th>totalEn_15__(7000, 20000)</th>\n",
       "      <td>0.024082</td>\n",
       "    </tr>\n",
       "    <tr>\n",
       "      <th>totalEn_7__</th>\n",
       "      <td>0.022274</td>\n",
       "    </tr>\n",
       "    <tr>\n",
       "      <th>totalEn_7__(500, 3000)</th>\n",
       "      <td>0.022220</td>\n",
       "    </tr>\n",
       "    <tr>\n",
       "      <th>countEv_15__</th>\n",
       "      <td>0.021956</td>\n",
       "    </tr>\n",
       "    <tr>\n",
       "      <th>countEv_7__(3000, 7000)</th>\n",
       "      <td>0.021508</td>\n",
       "    </tr>\n",
       "    <tr>\n",
       "      <th>MedianEn_15__(7000, 20000)</th>\n",
       "      <td>0.020785</td>\n",
       "    </tr>\n",
       "    <tr>\n",
       "      <th>MaxEn_15__</th>\n",
       "      <td>0.019914</td>\n",
       "    </tr>\n",
       "    <tr>\n",
       "      <th>totalEn_15__(500, 3000)</th>\n",
       "      <td>0.019138</td>\n",
       "    </tr>\n",
       "    <tr>\n",
       "      <th>MaxEn_15__(7000, 20000)</th>\n",
       "      <td>0.019058</td>\n",
       "    </tr>\n",
       "    <tr>\n",
       "      <th>countEv_7__</th>\n",
       "      <td>0.017830</td>\n",
       "    </tr>\n",
       "    <tr>\n",
       "      <th>countEv_15__(500, 3000)</th>\n",
       "      <td>0.015791</td>\n",
       "    </tr>\n",
       "  </tbody>\n",
       "</table>\n",
       "</div>"
      ],
      "text/plain": [
       "                            Importance\n",
       "totalEn_15__(3000, 7000)      0.041591\n",
       "totalEn_7__(3000, 7000)       0.035264\n",
       "countEv_15__(3000, 7000)      0.030161\n",
       "totalEn_15__                  0.024522\n",
       "totalEn_15__(7000, 20000)     0.024082\n",
       "totalEn_7__                   0.022274\n",
       "totalEn_7__(500, 3000)        0.022220\n",
       "countEv_15__                  0.021956\n",
       "countEv_7__(3000, 7000)       0.021508\n",
       "MedianEn_15__(7000, 20000)    0.020785\n",
       "MaxEn_15__                    0.019914\n",
       "totalEn_15__(500, 3000)       0.019138\n",
       "MaxEn_15__(7000, 20000)       0.019058\n",
       "countEv_7__                   0.017830\n",
       "countEv_15__(500, 3000)       0.015791"
      ]
     },
     "execution_count": 10,
     "metadata": {},
     "output_type": "execute_result"
    }
   ],
   "source": [
    "forest_predictions = forest.predict(X)\n",
    "features = pd.DataFrame(forest.feature_importances_, index=X.columns,\n",
    "                        columns=['Importance']).sort_values(['Importance'], ascending=False)\n",
    "features.head(15)"
   ]
  },
  {
   "cell_type": "code",
   "execution_count": 11,
   "metadata": {},
   "outputs": [
    {
     "data": {
      "text/plain": [
       "[<matplotlib.lines.Line2D at 0x1aabef01978>]"
      ]
     },
     "execution_count": 11,
     "metadata": {},
     "output_type": "execute_result"
    },
    {
     "data": {
      "image/png": "[encoded data removed]",
      "text/plain": [
       "<Figure size 432x288 with 1 Axes>"
      ]
     },
     "metadata": {
      "needs_background": "light"
     },
     "output_type": "display_data"
    }
   ],
   "source": [
    "plt.plot(range(len(features.Importance.tolist())), \n",
    "         features.Importance.tolist())"
   ]
  },
  {
   "cell_type": "code",
   "execution_count": 12,
   "metadata": {},
   "outputs": [],
   "source": [
    "col = features.index.tolist()\n",
    "X1 = X[col]\n",
    "X2 = X[col[:200]]\n",
    "X3 = X[col[:120]]\n",
    "X4 = X[col[:50]]\n",
    "X5 = X[col[:20]]\n",
    "X6 = X[col[:10]]"
   ]
  },
  {
   "cell_type": "markdown",
   "metadata": {},
   "source": [
    "#### Разбиваем на тестовую и обучающую выборки"
   ]
  },
  {
   "cell_type": "code",
   "execution_count": 13,
   "metadata": {},
   "outputs": [],
   "source": [
    "shuf = False"
   ]
  },
  {
   "cell_type": "code",
   "execution_count": 14,
   "metadata": {},
   "outputs": [],
   "source": [
    "X_train1, X_test1, y_train, y_test = train_test_split(X1, y, test_size=0.25,random_state=12345, shuffle=shuf)\n",
    "X_train2, X_test2, y_train, y_test = train_test_split(X2, y, test_size=0.25,random_state=12345, shuffle=shuf)\n",
    "X_train3, X_test3, y_train, y_test = train_test_split(X3, y, test_size=0.25,random_state=12345, shuffle=shuf)\n",
    "X_train4, X_test4, y_train, y_test = train_test_split(X4, y, test_size=0.25,random_state=12345, shuffle=shuf)\n",
    "X_train5, X_test5, y_train, y_test = train_test_split(X5, y, test_size=0.25,random_state=12345, shuffle=shuf)\n",
    "X_train6, X_test6, y_train, y_test = train_test_split(X6, y, test_size=0.25,random_state=12345, shuffle=shuf)"
   ]
  },
  {
   "cell_type": "markdown",
   "metadata": {},
   "source": [
    "## Построение моделей"
   ]
  },
  {
   "cell_type": "markdown",
   "metadata": {},
   "source": [
    "### Логистическая регрессия"
   ]
  },
  {
   "cell_type": "code",
   "execution_count": 71,
   "metadata": {
    "scrolled": true
   },
   "outputs": [
    {
     "name": "stdout",
     "output_type": "stream",
     "text": [
      "0.6768317306137037\n"
     ]
    }
   ],
   "source": [
    "lr = LogisticRegression(solver = 'liblinear')\n",
    "kf = KFold(n_splits=5,shuffle=shuf,random_state = 1234)\n",
    "print(cross_val_score(lr, X_train1, y_train, cv=kf, scoring='recall').mean()) "
   ]
  },
  {
   "cell_type": "code",
   "execution_count": 72,
   "metadata": {
    "scrolled": true
   },
   "outputs": [
    {
     "name": "stdout",
     "output_type": "stream",
     "text": [
      "roc_auc:  0.5746124031007751\n",
      "recall:  0.6666666666666666\n",
      "accuracy:  0.5493827160493827\n",
      "precision:  0.42332613390928725\n"
     ]
    }
   ],
   "source": [
    "lr.fit(X_train1,y_train)\n",
    "a=metrics(X_test1,y_test,lr)"
   ]
  },
  {
   "cell_type": "code",
   "execution_count": 73,
   "metadata": {
    "scrolled": true
   },
   "outputs": [
    {
     "name": "stdout",
     "output_type": "stream",
     "text": [
      "0.6768317306137037\n"
     ]
    }
   ],
   "source": [
    "lr = LogisticRegression(solver = 'liblinear')\n",
    "kf = KFold(n_splits=5,shuffle=shuf,random_state = 1234)\n",
    "print(cross_val_score(lr, X_train2, y_train, cv=kf, scoring='recall').mean()) "
   ]
  },
  {
   "cell_type": "code",
   "execution_count": 74,
   "metadata": {
    "scrolled": true
   },
   "outputs": [
    {
     "name": "stdout",
     "output_type": "stream",
     "text": [
      "roc_auc:  0.5746124031007751\n",
      "recall:  0.6666666666666666\n",
      "accuracy:  0.5493827160493827\n",
      "precision:  0.42332613390928725\n"
     ]
    }
   ],
   "source": [
    "lr.fit(X_train2,y_train)\n",
    "a=metrics(X_test2,y_test,lr)"
   ]
  },
  {
   "cell_type": "code",
   "execution_count": 75,
   "metadata": {
    "scrolled": true
   },
   "outputs": [
    {
     "name": "stdout",
     "output_type": "stream",
     "text": [
      "0.6768317306137037\n"
     ]
    }
   ],
   "source": [
    "lr = LogisticRegression(solver = 'liblinear')\n",
    "kf = KFold(n_splits=5,shuffle=shuf,random_state = 1234)\n",
    "print(cross_val_score(lr, X_train3, y_train, cv=kf, scoring='recall').mean()) "
   ]
  },
  {
   "cell_type": "code",
   "execution_count": 76,
   "metadata": {
    "scrolled": true
   },
   "outputs": [
    {
     "name": "stdout",
     "output_type": "stream",
     "text": [
      "roc_auc:  0.5746124031007751\n",
      "recall:  0.6666666666666666\n",
      "accuracy:  0.5493827160493827\n",
      "precision:  0.42332613390928725\n"
     ]
    }
   ],
   "source": [
    "lr.fit(X_train3,y_train)\n",
    "a=metrics(X_test3,y_test,lr)"
   ]
  },
  {
   "cell_type": "code",
   "execution_count": 77,
   "metadata": {
    "scrolled": true
   },
   "outputs": [
    {
     "name": "stdout",
     "output_type": "stream",
     "text": [
      "0.6754180347416427\n"
     ]
    }
   ],
   "source": [
    "lr = LogisticRegression(solver = 'liblinear')\n",
    "kf = KFold(n_splits=5,shuffle=shuf,random_state = 1234)\n",
    "print(cross_val_score(lr, X_train4, y_train, cv=kf, scoring='recall').mean()) "
   ]
  },
  {
   "cell_type": "code",
   "execution_count": 78,
   "metadata": {
    "scrolled": true
   },
   "outputs": [
    {
     "name": "stdout",
     "output_type": "stream",
     "text": [
      "roc_auc:  0.5710132890365449\n",
      "recall:  0.6904761904761905\n",
      "accuracy:  0.5382716049382716\n",
      "precision:  0.4176954732510288\n"
     ]
    }
   ],
   "source": [
    "lr.fit(X_train4,y_train)\n",
    "a=metrics(X_test4,y_test,lr)"
   ]
  },
  {
   "cell_type": "code",
   "execution_count": 79,
   "metadata": {
    "scrolled": true
   },
   "outputs": [
    {
     "name": "stdout",
     "output_type": "stream",
     "text": [
      "0.6716212417465004\n"
     ]
    }
   ],
   "source": [
    "lr = LogisticRegression(solver = 'liblinear')\n",
    "kf = KFold(n_splits=5,shuffle=shuf,random_state = 1234)\n",
    "print(cross_val_score(lr, X_train5, y_train, cv=kf, scoring='recall').mean()) "
   ]
  },
  {
   "cell_type": "code",
   "execution_count": 81,
   "metadata": {
    "scrolled": true
   },
   "outputs": [
    {
     "name": "stdout",
     "output_type": "stream",
     "text": [
      "roc_auc:  0.6045918367346939\n",
      "recall:  0.7925170068027211\n",
      "accuracy:  0.5530864197530864\n",
      "precision:  0.4363295880149813\n"
     ]
    }
   ],
   "source": [
    "lr.fit(X_train5,y_train)\n",
    "a=metrics(X_test5,y_test,lr)"
   ]
  },
  {
   "cell_type": "markdown",
   "metadata": {},
   "source": [
    "# Выбранная модель\n",
    "### -----------------------------------------------------------------------"
   ]
  },
  {
   "cell_type": "code",
   "execution_count": 82,
   "metadata": {
    "scrolled": true
   },
   "outputs": [
    {
     "name": "stdout",
     "output_type": "stream",
     "text": [
      "0.7377735085048842\n"
     ]
    }
   ],
   "source": [
    "lr = LogisticRegression(solver = 'liblinear')\n",
    "kf = KFold(n_splits=5,shuffle=shuf,random_state = 1234)\n",
    "print(cross_val_score(lr, X_train6, y_train, cv=kf, scoring='recall').mean()) "
   ]
  },
  {
   "cell_type": "code",
   "execution_count": 83,
   "metadata": {
    "scrolled": true
   },
   "outputs": [
    {
     "name": "stdout",
     "output_type": "stream",
     "text": [
      "roc_auc:  0.6091203923429838\n",
      "recall:  0.7414965986394558\n",
      "accuracy:  0.5728395061728395\n",
      "precision:  0.44672131147540983\n"
     ]
    }
   ],
   "source": [
    "lr.fit(X_train6,y_train)\n",
    "a=metrics(X_test6,y_test,lr)"
   ]
  },
  {
   "cell_type": "markdown",
   "metadata": {},
   "source": [
    "### -----------------------------------------------------------------------"
   ]
  },
  {
   "cell_type": "markdown",
   "metadata": {},
   "source": [
    "### Метод ближайших соседей"
   ]
  },
  {
   "cell_type": "code",
   "execution_count": 90,
   "metadata": {},
   "outputs": [],
   "source": [
    "clf = KNeighborsClassifier()"
   ]
  },
  {
   "cell_type": "code",
   "execution_count": 91,
   "metadata": {},
   "outputs": [
    {
     "data": {
      "text/plain": [
       "[{'n_neighbors': 21, 'weights': 'distance'}, 0.7364081820149933]"
      ]
     },
     "execution_count": 91,
     "metadata": {},
     "output_type": "execute_result"
    }
   ],
   "source": [
    "search = GridSearchCV(clf, {'n_neighbors':[8,15,21],'weights':['uniform','distance']},\n",
    "              n_jobs = -1,scoring= \"recall\",cv=kf).fit(X_train1, y_train)\n",
    "[search.best_params_,search.best_score_]"
   ]
  },
  {
   "cell_type": "code",
   "execution_count": 92,
   "metadata": {},
   "outputs": [
    {
     "data": {
      "text/plain": [
       "[{'n_neighbors': 21, 'weights': 'distance'}, 0.7364081820149933]"
      ]
     },
     "execution_count": 92,
     "metadata": {},
     "output_type": "execute_result"
    }
   ],
   "source": [
    "search = GridSearchCV(clf, {'n_neighbors':[8,15,21],'weights':['uniform','distance']},\n",
    "              n_jobs = -1,scoring= \"recall\",cv=kf).fit(X_train2, y_train)\n",
    "[search.best_params_,search.best_score_]"
   ]
  },
  {
   "cell_type": "code",
   "execution_count": 93,
   "metadata": {},
   "outputs": [
    {
     "data": {
      "text/plain": [
       "[{'n_neighbors': 21, 'weights': 'distance'}, 0.7364081820149933]"
      ]
     },
     "execution_count": 93,
     "metadata": {},
     "output_type": "execute_result"
    }
   ],
   "source": [
    "search = GridSearchCV(clf, {'n_neighbors':[8,15,21],'weights':['uniform','distance']},\n",
    "              n_jobs = -1,scoring= \"recall\",cv=kf).fit(X_train3, y_train)\n",
    "[search.best_params_,search.best_score_]"
   ]
  },
  {
   "cell_type": "code",
   "execution_count": 94,
   "metadata": {},
   "outputs": [
    {
     "data": {
      "text/plain": [
       "[{'n_neighbors': 15, 'weights': 'uniform'}, 0.790371852843797]"
      ]
     },
     "execution_count": 94,
     "metadata": {},
     "output_type": "execute_result"
    }
   ],
   "source": [
    "search = GridSearchCV(clf, {'n_neighbors':[8,15,21],'weights':['uniform','distance']},\n",
    "              n_jobs = -1,scoring= \"recall\",cv=kf).fit(X_train4, y_train)\n",
    "[search.best_params_,search.best_score_]"
   ]
  },
  {
   "cell_type": "code",
   "execution_count": 95,
   "metadata": {},
   "outputs": [
    {
     "data": {
      "text/plain": [
       "[{'n_neighbors': 21, 'weights': 'uniform'}, 0.6957403371431271]"
      ]
     },
     "execution_count": 95,
     "metadata": {},
     "output_type": "execute_result"
    }
   ],
   "source": [
    "search = GridSearchCV(clf, {'n_neighbors':[6,7,8,15,21],'weights':['uniform','distance']},\n",
    "              n_jobs = -1,scoring= \"recall\",cv=kf).fit(X_train5, y_train)\n",
    "[search.best_params_,search.best_score_]"
   ]
  },
  {
   "cell_type": "code",
   "execution_count": 96,
   "metadata": {},
   "outputs": [
    {
     "data": {
      "text/plain": [
       "[{'n_neighbors': 9, 'weights': 'uniform'}, 0.7011346159837697]"
      ]
     },
     "execution_count": 96,
     "metadata": {},
     "output_type": "execute_result"
    }
   ],
   "source": [
    "search = GridSearchCV(clf, {'n_neighbors':[6,7,8,9],'weights':['uniform','distance']},\n",
    "              n_jobs = -1,scoring= \"recall\",cv=kf).fit(X_train6, y_train)\n",
    "[search.best_params_,search.best_score_]"
   ]
  },
  {
   "cell_type": "markdown",
   "metadata": {},
   "source": [
    "## -------------------------------------------------------------------------------------------------------------------------------\n"
   ]
  },
  {
   "cell_type": "code",
   "execution_count": 104,
   "metadata": {},
   "outputs": [
    {
     "name": "stdout",
     "output_type": "stream",
     "text": [
      "0.7364626752185918\n"
     ]
    }
   ],
   "source": [
    "clf  = KNeighborsClassifier(n_neighbors=21,weights = 'distance')\n",
    "print(cross_val_score(clf, X_train1, y_train, cv=kf, scoring='recall').mean())"
   ]
  },
  {
   "cell_type": "code",
   "execution_count": 105,
   "metadata": {},
   "outputs": [
    {
     "name": "stdout",
     "output_type": "stream",
     "text": [
      "roc_auc:  0.5411129568106312\n",
      "recall:  0.4523809523809524\n",
      "accuracy:  0.5654320987654321\n",
      "precision:  0.4104938271604938\n"
     ]
    }
   ],
   "source": [
    "a=metrics(X_test1,y_test,clf.fit(X_train1,y_train))"
   ]
  },
  {
   "cell_type": "markdown",
   "metadata": {},
   "source": [
    "### Градиентный бустинг"
   ]
  },
  {
   "cell_type": "code",
   "execution_count": 60,
   "metadata": {},
   "outputs": [
    {
     "name": "stdout",
     "output_type": "stream",
     "text": [
      "204.2529788017273\n"
     ]
    },
    {
     "data": {
      "text/plain": [
       "[{'max_depth': 5, 'n_estimators': 100}, 0.8346060214151364]"
      ]
     },
     "execution_count": 60,
     "metadata": {},
     "output_type": "execute_result"
    }
   ],
   "source": [
    "a = time.time()\n",
    "xgb = xgboost.XGBClassifier()\n",
    "gs = GridSearchCV(xgb, {'n_estimators':[25,50,100,200],\n",
    "              'max_depth': [5,10,15]},\n",
    "              n_jobs = -1,scoring= \"recall\",cv = kf).fit(X_train1, y_train)\n",
    "print(time.time()-a)\n",
    "[gs.best_params_,gs.best_score_]"
   ]
  },
  {
   "cell_type": "code",
   "execution_count": 61,
   "metadata": {},
   "outputs": [
    {
     "name": "stdout",
     "output_type": "stream",
     "text": [
      "27.21227526664734\n"
     ]
    },
    {
     "data": {
      "text/plain": [
       "[{'max_depth': 5, 'n_estimators': 50}, 0.8302515243407805]"
      ]
     },
     "execution_count": 61,
     "metadata": {},
     "output_type": "execute_result"
    }
   ],
   "source": [
    "a = time.time()\n",
    "xgb = xgboost.XGBClassifier()\n",
    "gs = GridSearchCV(xgb, {'n_estimators':[30,50,70],\n",
    "              'max_depth': [5]},\n",
    "              n_jobs = -1,scoring= \"recall\",cv = kf).fit(X_train2, y_train)\n",
    "print(time.time()-a)\n",
    "[gs.best_params_,gs.best_score_]"
   ]
  },
  {
   "cell_type": "code",
   "execution_count": 62,
   "metadata": {},
   "outputs": [
    {
     "name": "stdout",
     "output_type": "stream",
     "text": [
      "25.63415765762329\n"
     ]
    },
    {
     "data": {
      "text/plain": [
       "[{'max_depth': 5, 'n_estimators': 50}, 0.8302515243407805]"
      ]
     },
     "execution_count": 62,
     "metadata": {},
     "output_type": "execute_result"
    }
   ],
   "source": [
    "a = time.time()\n",
    "xgb = xgboost.XGBClassifier()\n",
    "gs = GridSearchCV(xgb, {'n_estimators':[30,50,70],\n",
    "              'max_depth': [5]},\n",
    "              n_jobs = -1,scoring= \"recall\",cv = kf).fit(X_train3, y_train)\n",
    "print(time.time()-a)\n",
    "[gs.best_params_,gs.best_score_]"
   ]
  },
  {
   "cell_type": "code",
   "execution_count": 63,
   "metadata": {},
   "outputs": [
    {
     "name": "stdout",
     "output_type": "stream",
     "text": [
      "13.88680100440979\n"
     ]
    },
    {
     "data": {
      "text/plain": [
       "[{'max_depth': 11, 'n_estimators': 27}, 0.8320657357989516]"
      ]
     },
     "execution_count": 63,
     "metadata": {},
     "output_type": "execute_result"
    }
   ],
   "source": [
    "a = time.time()\n",
    "xgb = xgboost.XGBClassifier()\n",
    "gs = GridSearchCV(xgb, {'n_estimators':[26,27],\n",
    "              'max_depth': [11,12]},\n",
    "              n_jobs = -1,scoring= \"recall\",cv = kf).fit(X_train4, y_train)\n",
    "print(time.time()-a)\n",
    "[gs.best_params_,gs.best_score_]"
   ]
  },
  {
   "cell_type": "code",
   "execution_count": 64,
   "metadata": {},
   "outputs": [
    {
     "name": "stdout",
     "output_type": "stream",
     "text": [
      "9.186903953552246\n"
     ]
    },
    {
     "data": {
      "text/plain": [
       "[{'max_depth': 5, 'n_estimators': 30}, 0.837842782805321]"
      ]
     },
     "execution_count": 64,
     "metadata": {},
     "output_type": "execute_result"
    }
   ],
   "source": [
    "a = time.time()\n",
    "xgb = xgboost.XGBClassifier()\n",
    "gs = GridSearchCV(xgb, {'n_estimators':[30,50,70],\n",
    "              'max_depth': [5,8]},\n",
    "              n_jobs = -1,scoring= \"recall\",cv = kf).fit(X_train5, y_train)\n",
    "print(time.time()-a)\n",
    "[gs.best_params_,gs.best_score_]"
   ]
  },
  {
   "cell_type": "code",
   "execution_count": 77,
   "metadata": {},
   "outputs": [
    {
     "name": "stdout",
     "output_type": "stream",
     "text": [
      "5.831139326095581\n"
     ]
    },
    {
     "data": {
      "text/plain": [
       "[{'max_depth': 4, 'n_estimators': 70}, 0.8872568856211219]"
      ]
     },
     "execution_count": 77,
     "metadata": {},
     "output_type": "execute_result"
    }
   ],
   "source": [
    "a = time.time()\n",
    "xgb = xgboost.XGBClassifier()\n",
    "gs = GridSearchCV(xgb, {'n_estimators':[30,50,70],\n",
    "              'max_depth': [4,5,6]},\n",
    "              n_jobs = -1,scoring= \"recall\",cv = kf).fit(X_train6, y_train)\n",
    "print(time.time()-a)\n",
    "[gs.best_params_,gs.best_score_]"
   ]
  },
  {
   "cell_type": "markdown",
   "metadata": {},
   "source": [
    "## -------------------------------------------------------------------------------------------------------------------------------"
   ]
  },
  {
   "cell_type": "code",
   "execution_count": 149,
   "metadata": {},
   "outputs": [],
   "source": [
    "xgb = xgboost.XGBClassifier(n_jobs = 4,n_estimators=100,max_depth =4,scoring='recall',cv = kf)"
   ]
  },
  {
   "cell_type": "code",
   "execution_count": 150,
   "metadata": {},
   "outputs": [
    {
     "name": "stdout",
     "output_type": "stream",
     "text": [
      "roc_auc:  0.6047378547378548\n",
      "recall:  0.8417508417508418\n",
      "accuracy:  0.5762962962962963\n",
      "precision:  0.5112474437627812\n"
     ]
    }
   ],
   "source": [
    "model = xgb.fit(X_train6,y_train)\n",
    "a = metrics(X_test6,y_test,model)"
   ]
  },
  {
   "cell_type": "code",
   "execution_count": 151,
   "metadata": {},
   "outputs": [
    {
     "name": "stdout",
     "output_type": "stream",
     "text": [
      "0.846584734166747\n"
     ]
    }
   ],
   "source": [
    "print(cross_val_score(xgb, X_train6, y_train, cv=kf, scoring='recall').mean())"
   ]
  },
  {
   "cell_type": "markdown",
   "metadata": {},
   "source": [
    "## NN"
   ]
  },
  {
   "cell_type": "code",
   "execution_count": 21,
   "metadata": {},
   "outputs": [
    {
     "data": {
      "text/plain": [
       "10"
      ]
     },
     "execution_count": 21,
     "metadata": {},
     "output_type": "execute_result"
    }
   ],
   "source": [
    "len(X_train6.columns)"
   ]
  },
  {
   "cell_type": "code",
   "execution_count": 279,
   "metadata": {},
   "outputs": [],
   "source": [
    "s = 10"
   ]
  },
  {
   "cell_type": "code",
   "execution_count": 280,
   "metadata": {},
   "outputs": [],
   "source": [
    "model = Sequential()\n",
    "model.add(Dense(150, input_dim=s,activation='sigmoid'))\n",
    "model.add(Dropout(50))\n",
    "model.add(Dense(10, activation='sigmoid'))\n",
    "model.add(Dropout(5))\n",
    "model.add(Dense(150, activation='sigmoid'))\n",
    "model.add(Dropout(50))\n",
    "model.add(Dense(1, activation='sigmoid'))"
   ]
  },
  {
   "cell_type": "code",
   "execution_count": 281,
   "metadata": {},
   "outputs": [],
   "source": [
    "model.compile(loss='binary_crossentropy', optimizer='rmsprop', metrics=[keras_metrics.recall(),keras_metrics.precision()])"
   ]
  },
  {
   "cell_type": "code",
   "execution_count": 282,
   "metadata": {},
   "outputs": [
    {
     "name": "stdout",
     "output_type": "stream",
     "text": [
      "Epoch 1/28\n",
      " - 2s - loss: 0.5754 - recall: 0.8983 - precision: 0.7097\n",
      "Epoch 2/28\n",
      " - 1s - loss: 0.4912 - recall: 0.8379 - precision: 0.8524\n",
      "Epoch 3/28\n",
      " - 1s - loss: 0.4879 - recall: 0.8414 - precision: 0.8536\n",
      "Epoch 4/28\n",
      " - 1s - loss: 0.4857 - recall: 0.8437 - precision: 0.8506\n",
      "Epoch 5/28\n",
      " - 1s - loss: 0.4845 - recall: 0.8491 - precision: 0.8488\n",
      "Epoch 6/28\n",
      " - 1s - loss: 0.4842 - recall: 0.8495 - precision: 0.8492\n",
      "Epoch 7/28\n",
      " - 1s - loss: 0.4833 - recall: 0.8503 - precision: 0.8490\n",
      "Epoch 8/28\n",
      " - 1s - loss: 0.4826 - recall: 0.8491 - precision: 0.8491\n",
      "Epoch 9/28\n",
      " - 1s - loss: 0.4823 - recall: 0.8507 - precision: 0.8471\n",
      "Epoch 10/28\n",
      " - 1s - loss: 0.4809 - recall: 0.8511 - precision: 0.8471\n",
      "Epoch 11/28\n",
      " - 1s - loss: 0.4817 - recall: 0.8511 - precision: 0.8488\n",
      "Epoch 12/28\n",
      " - 1s - loss: 0.4812 - recall: 0.8503 - precision: 0.8477\n",
      "Epoch 13/28\n",
      " - 1s - loss: 0.4810 - recall: 0.8499 - precision: 0.8496\n",
      "Epoch 14/28\n",
      " - 1s - loss: 0.4818 - recall: 0.8511 - precision: 0.8484\n",
      "Epoch 15/28\n",
      " - 1s - loss: 0.4807 - recall: 0.8507 - precision: 0.8484\n",
      "Epoch 16/28\n",
      " - 1s - loss: 0.4807 - recall: 0.8503 - precision: 0.8496\n",
      "Epoch 17/28\n",
      " - 1s - loss: 0.4798 - recall: 0.8515 - precision: 0.8482\n",
      "Epoch 18/28\n",
      " - 1s - loss: 0.4796 - recall: 0.8491 - precision: 0.8495\n",
      "Epoch 19/28\n",
      " - 1s - loss: 0.4806 - recall: 0.8511 - precision: 0.8484\n",
      "Epoch 20/28\n",
      " - 1s - loss: 0.4800 - recall: 0.8507 - precision: 0.8481\n",
      "Epoch 21/28\n",
      " - 1s - loss: 0.4798 - recall: 0.8503 - precision: 0.8477\n",
      "Epoch 22/28\n",
      " - 1s - loss: 0.4800 - recall: 0.8507 - precision: 0.8497\n",
      "Epoch 23/28\n",
      " - 1s - loss: 0.4796 - recall: 0.8511 - precision: 0.8484\n",
      "Epoch 24/28\n",
      " - 1s - loss: 0.4791 - recall: 0.8511 - precision: 0.8504\n",
      "Epoch 25/28\n",
      " - 1s - loss: 0.4788 - recall: 0.8507 - precision: 0.8487\n",
      "Epoch 26/28\n",
      " - 1s - loss: 0.4792 - recall: 0.8507 - precision: 0.8494\n",
      "Epoch 27/28\n",
      " - 1s - loss: 0.4787 - recall: 0.8499 - precision: 0.8483\n",
      "Epoch 28/28\n",
      " - 1s - loss: 0.4783 - recall: 0.8515 - precision: 0.8478\n"
     ]
    },
    {
     "data": {
      "text/plain": [
       "<keras.callbacks.History at 0x1f21493f2b0>"
      ]
     },
     "execution_count": 282,
     "metadata": {},
     "output_type": "execute_result"
    }
   ],
   "source": [
    "model.fit(X_train6, y_train, epochs=28, batch_size=30,  verbose=2)"
   ]
  },
  {
   "cell_type": "code",
   "execution_count": 283,
   "metadata": {},
   "outputs": [
    {
     "name": "stdout",
     "output_type": "stream",
     "text": [
      "[594, 473]\n"
     ]
    }
   ],
   "source": [
    "predictions = model.predict(X_test6).ravel()\n",
    "pred=[]\n",
    "for i in predictions:\n",
    "    if i>0.5:\n",
    "        pred.append(1)\n",
    "    else:\n",
    "        pred.append(0)\n",
    "a = pd.DataFrame({'real':y_test,'pred':pred,'p':predictions})\n",
    "print([sum(y_test),len(a[a['real']==1][a['pred']==1])])"
   ]
  },
  {
   "cell_type": "code",
   "execution_count": 284,
   "metadata": {
    "scrolled": true
   },
   "outputs": [
    {
     "name": "stdout",
     "output_type": "stream",
     "text": [
      "roc_auc:  0.6296296296296295\n",
      "recall:  0.7962962962962963\n",
      "precision:  0.5381114903299203\n"
     ]
    }
   ],
   "source": [
    "b = metrics2(y_test,pred)"
   ]
  },
  {
   "cell_type": "code",
   "execution_count": null,
   "metadata": {},
   "outputs": [],
   "source": []
  },
  {
   "cell_type": "markdown",
   "metadata": {},
   "source": [
    "## Построение моделей"
   ]
  },
  {
   "cell_type": "markdown",
   "metadata": {},
   "source": [
    "### Логистическая регрессия"
   ]
  },
  {
   "cell_type": "code",
   "execution_count": 71,
   "metadata": {
    "scrolled": true
   },
   "outputs": [
    {
     "name": "stdout",
     "output_type": "stream",
     "text": [
      "0.6768317306137037\n"
     ]
    }
   ],
   "source": [
    "lr = LogisticRegression(solver = 'liblinear')\n",
    "kf = KFold(n_splits=5,shuffle=shuf,random_state = 1234)\n",
    "print(cross_val_score(lr, X_train1, y_train, cv=kf, scoring='recall').mean()) "
   ]
  },
  {
   "cell_type": "code",
   "execution_count": 72,
   "metadata": {
    "scrolled": true
   },
   "outputs": [
    {
     "name": "stdout",
     "output_type": "stream",
     "text": [
      "roc_auc:  0.5746124031007751\n",
      "recall:  0.6666666666666666\n",
      "accuracy:  0.5493827160493827\n",
      "precision:  0.42332613390928725\n"
     ]
    }
   ],
   "source": [
    "lr.fit(X_train1,y_train)\n",
    "a=metrics(X_test1,y_test,lr)"
   ]
  },
  {
   "cell_type": "code",
   "execution_count": 73,
   "metadata": {
    "scrolled": true
   },
   "outputs": [
    {
     "name": "stdout",
     "output_type": "stream",
     "text": [
      "0.6768317306137037\n"
     ]
    }
   ],
   "source": [
    "lr = LogisticRegression(solver = 'liblinear')\n",
    "kf = KFold(n_splits=5,shuffle=shuf,random_state = 1234)\n",
    "print(cross_val_score(lr, X_train2, y_train, cv=kf, scoring='recall').mean()) "
   ]
  },
  {
   "cell_type": "code",
   "execution_count": 74,
   "metadata": {
    "scrolled": true
   },
   "outputs": [
    {
     "name": "stdout",
     "output_type": "stream",
     "text": [
      "roc_auc:  0.5746124031007751\n",
      "recall:  0.6666666666666666\n",
      "accuracy:  0.5493827160493827\n",
      "precision:  0.42332613390928725\n"
     ]
    }
   ],
   "source": [
    "lr.fit(X_train2,y_train)\n",
    "a=metrics(X_test2,y_test,lr)"
   ]
  },
  {
   "cell_type": "code",
   "execution_count": 75,
   "metadata": {
    "scrolled": true
   },
   "outputs": [
    {
     "name": "stdout",
     "output_type": "stream",
     "text": [
      "0.6768317306137037\n"
     ]
    }
   ],
   "source": [
    "lr = LogisticRegression(solver = 'liblinear')\n",
    "kf = KFold(n_splits=5,shuffle=shuf,random_state = 1234)\n",
    "print(cross_val_score(lr, X_train3, y_train, cv=kf, scoring='recall').mean()) "
   ]
  },
  {
   "cell_type": "code",
   "execution_count": 76,
   "metadata": {
    "scrolled": true
   },
   "outputs": [
    {
     "name": "stdout",
     "output_type": "stream",
     "text": [
      "roc_auc:  0.5746124031007751\n",
      "recall:  0.6666666666666666\n",
      "accuracy:  0.5493827160493827\n",
      "precision:  0.42332613390928725\n"
     ]
    }
   ],
   "source": [
    "lr.fit(X_train3,y_train)\n",
    "a=metrics(X_test3,y_test,lr)"
   ]
  },
  {
   "cell_type": "code",
   "execution_count": 77,
   "metadata": {
    "scrolled": true
   },
   "outputs": [
    {
     "name": "stdout",
     "output_type": "stream",
     "text": [
      "0.6754180347416427\n"
     ]
    }
   ],
   "source": [
    "lr = LogisticRegression(solver = 'liblinear')\n",
    "kf = KFold(n_splits=5,shuffle=shuf,random_state = 1234)\n",
    "print(cross_val_score(lr, X_train4, y_train, cv=kf, scoring='recall').mean()) "
   ]
  },
  {
   "cell_type": "code",
   "execution_count": 78,
   "metadata": {
    "scrolled": true
   },
   "outputs": [
    {
     "name": "stdout",
     "output_type": "stream",
     "text": [
      "roc_auc:  0.5710132890365449\n",
      "recall:  0.6904761904761905\n",
      "accuracy:  0.5382716049382716\n",
      "precision:  0.4176954732510288\n"
     ]
    }
   ],
   "source": [
    "lr.fit(X_train4,y_train)\n",
    "a=metrics(X_test4,y_test,lr)"
   ]
  },
  {
   "cell_type": "code",
   "execution_count": 79,
   "metadata": {
    "scrolled": true
   },
   "outputs": [
    {
     "name": "stdout",
     "output_type": "stream",
     "text": [
      "0.6716212417465004\n"
     ]
    }
   ],
   "source": [
    "lr = LogisticRegression(solver = 'liblinear')\n",
    "kf = KFold(n_splits=5,shuffle=shuf,random_state = 1234)\n",
    "print(cross_val_score(lr, X_train5, y_train, cv=kf, scoring='recall').mean()) "
   ]
  },
  {
   "cell_type": "code",
   "execution_count": 81,
   "metadata": {
    "scrolled": true
   },
   "outputs": [
    {
     "name": "stdout",
     "output_type": "stream",
     "text": [
      "roc_auc:  0.6045918367346939\n",
      "recall:  0.7925170068027211\n",
      "accuracy:  0.5530864197530864\n",
      "precision:  0.4363295880149813\n"
     ]
    }
   ],
   "source": [
    "lr.fit(X_train5,y_train)\n",
    "a=metrics(X_test5,y_test,lr)"
   ]
  },
  {
   "cell_type": "markdown",
   "metadata": {},
   "source": [
    "# Выбранная модель\n",
    "### -----------------------------------------------------------------------"
   ]
  },
  {
   "cell_type": "code",
   "execution_count": 82,
   "metadata": {
    "scrolled": true
   },
   "outputs": [
    {
     "name": "stdout",
     "output_type": "stream",
     "text": [
      "0.7377735085048842\n"
     ]
    }
   ],
   "source": [
    "lr = LogisticRegression(solver = 'liblinear')\n",
    "kf = KFold(n_splits=5,shuffle=shuf,random_state = 1234)\n",
    "print(cross_val_score(lr, X_train6, y_train, cv=kf, scoring='recall').mean()) "
   ]
  },
  {
   "cell_type": "code",
   "execution_count": 83,
   "metadata": {
    "scrolled": true
   },
   "outputs": [
    {
     "name": "stdout",
     "output_type": "stream",
     "text": [
      "roc_auc:  0.6091203923429838\n",
      "recall:  0.7414965986394558\n",
      "accuracy:  0.5728395061728395\n",
      "precision:  0.44672131147540983\n"
     ]
    }
   ],
   "source": [
    "lr.fit(X_train6,y_train)\n",
    "a=metrics(X_test6,y_test,lr)"
   ]
  },
  {
   "cell_type": "markdown",
   "metadata": {},
   "source": [
    "### -----------------------------------------------------------------------"
   ]
  },
  {
   "cell_type": "markdown",
   "metadata": {},
   "source": [
    "### Метод ближайших соседей"
   ]
  },
  {
   "cell_type": "code",
   "execution_count": 90,
   "metadata": {},
   "outputs": [],
   "source": [
    "clf = KNeighborsClassifier()"
   ]
  },
  {
   "cell_type": "code",
   "execution_count": 91,
   "metadata": {},
   "outputs": [
    {
     "data": {
      "text/plain": [
       "[{'n_neighbors': 21, 'weights': 'distance'}, 0.7364081820149933]"
      ]
     },
     "execution_count": 91,
     "metadata": {},
     "output_type": "execute_result"
    }
   ],
   "source": [
    "search = GridSearchCV(clf, {'n_neighbors':[8,15,21],'weights':['uniform','distance']},\n",
    "              n_jobs = -1,scoring= \"recall\",cv=kf).fit(X_train1, y_train)\n",
    "[search.best_params_,search.best_score_]"
   ]
  },
  {
   "cell_type": "code",
   "execution_count": 92,
   "metadata": {},
   "outputs": [
    {
     "data": {
      "text/plain": [
       "[{'n_neighbors': 21, 'weights': 'distance'}, 0.7364081820149933]"
      ]
     },
     "execution_count": 92,
     "metadata": {},
     "output_type": "execute_result"
    }
   ],
   "source": [
    "search = GridSearchCV(clf, {'n_neighbors':[8,15,21],'weights':['uniform','distance']},\n",
    "              n_jobs = -1,scoring= \"recall\",cv=kf).fit(X_train2, y_train)\n",
    "[search.best_params_,search.best_score_]"
   ]
  },
  {
   "cell_type": "code",
   "execution_count": 93,
   "metadata": {},
   "outputs": [
    {
     "data": {
      "text/plain": [
       "[{'n_neighbors': 21, 'weights': 'distance'}, 0.7364081820149933]"
      ]
     },
     "execution_count": 93,
     "metadata": {},
     "output_type": "execute_result"
    }
   ],
   "source": [
    "search = GridSearchCV(clf, {'n_neighbors':[8,15,21],'weights':['uniform','distance']},\n",
    "              n_jobs = -1,scoring= \"recall\",cv=kf).fit(X_train3, y_train)\n",
    "[search.best_params_,search.best_score_]"
   ]
  },
  {
   "cell_type": "code",
   "execution_count": 94,
   "metadata": {},
   "outputs": [
    {
     "data": {
      "text/plain": [
       "[{'n_neighbors': 15, 'weights': 'uniform'}, 0.790371852843797]"
      ]
     },
     "execution_count": 94,
     "metadata": {},
     "output_type": "execute_result"
    }
   ],
   "source": [
    "search = GridSearchCV(clf, {'n_neighbors':[8,15,21],'weights':['uniform','distance']},\n",
    "              n_jobs = -1,scoring= \"recall\",cv=kf).fit(X_train4, y_train)\n",
    "[search.best_params_,search.best_score_]"
   ]
  },
  {
   "cell_type": "code",
   "execution_count": 95,
   "metadata": {},
   "outputs": [
    {
     "data": {
      "text/plain": [
       "[{'n_neighbors': 21, 'weights': 'uniform'}, 0.6957403371431271]"
      ]
     },
     "execution_count": 95,
     "metadata": {},
     "output_type": "execute_result"
    }
   ],
   "source": [
    "search = GridSearchCV(clf, {'n_neighbors':[6,7,8,15,21],'weights':['uniform','distance']},\n",
    "              n_jobs = -1,scoring= \"recall\",cv=kf).fit(X_train5, y_train)\n",
    "[search.best_params_,search.best_score_]"
   ]
  },
  {
   "cell_type": "code",
   "execution_count": 96,
   "metadata": {},
   "outputs": [
    {
     "data": {
      "text/plain": [
       "[{'n_neighbors': 9, 'weights': 'uniform'}, 0.7011346159837697]"
      ]
     },
     "execution_count": 96,
     "metadata": {},
     "output_type": "execute_result"
    }
   ],
   "source": [
    "search = GridSearchCV(clf, {'n_neighbors':[6,7,8,9],'weights':['uniform','distance']},\n",
    "              n_jobs = -1,scoring= \"recall\",cv=kf).fit(X_train6, y_train)\n",
    "[search.best_params_,search.best_score_]"
   ]
  },
  {
   "cell_type": "markdown",
   "metadata": {},
   "source": [
    "## -------------------------------------------------------------------------------------------------------------------------------\n"
   ]
  },
  {
   "cell_type": "code",
   "execution_count": 104,
   "metadata": {},
   "outputs": [
    {
     "name": "stdout",
     "output_type": "stream",
     "text": [
      "0.7364626752185918\n"
     ]
    }
   ],
   "source": [
    "clf  = KNeighborsClassifier(n_neighbors=21,weights = 'distance')\n",
    "print(cross_val_score(clf, X_train1, y_train, cv=kf, scoring='recall').mean())"
   ]
  },
  {
   "cell_type": "code",
   "execution_count": 105,
   "metadata": {},
   "outputs": [
    {
     "name": "stdout",
     "output_type": "stream",
     "text": [
      "roc_auc:  0.5411129568106312\n",
      "recall:  0.4523809523809524\n",
      "accuracy:  0.5654320987654321\n",
      "precision:  0.4104938271604938\n"
     ]
    }
   ],
   "source": [
    "a=metrics(X_test1,y_test,clf.fit(X_train1,y_train))"
   ]
  },
  {
   "cell_type": "markdown",
   "metadata": {},
   "source": [
    "### Градиентный бустинг"
   ]
  },
  {
   "cell_type": "code",
   "execution_count": 60,
   "metadata": {},
   "outputs": [
    {
     "name": "stdout",
     "output_type": "stream",
     "text": [
      "204.2529788017273\n"
     ]
    },
    {
     "data": {
      "text/plain": [
       "[{'max_depth': 5, 'n_estimators': 100}, 0.8346060214151364]"
      ]
     },
     "execution_count": 60,
     "metadata": {},
     "output_type": "execute_result"
    }
   ],
   "source": [
    "a = time.time()\n",
    "xgb = xgboost.XGBClassifier()\n",
    "gs = GridSearchCV(xgb, {'n_estimators':[25,50,100,200],\n",
    "              'max_depth': [5,10,15]},\n",
    "              n_jobs = -1,scoring= \"recall\",cv = kf).fit(X_train1, y_train)\n",
    "print(time.time()-a)\n",
    "[gs.best_params_,gs.best_score_]"
   ]
  },
  {
   "cell_type": "code",
   "execution_count": 61,
   "metadata": {},
   "outputs": [
    {
     "name": "stdout",
     "output_type": "stream",
     "text": [
      "27.21227526664734\n"
     ]
    },
    {
     "data": {
      "text/plain": [
       "[{'max_depth': 5, 'n_estimators': 50}, 0.8302515243407805]"
      ]
     },
     "execution_count": 61,
     "metadata": {},
     "output_type": "execute_result"
    }
   ],
   "source": [
    "a = time.time()\n",
    "xgb = xgboost.XGBClassifier()\n",
    "gs = GridSearchCV(xgb, {'n_estimators':[30,50,70],\n",
    "              'max_depth': [5]},\n",
    "              n_jobs = -1,scoring= \"recall\",cv = kf).fit(X_train2, y_train)\n",
    "print(time.time()-a)\n",
    "[gs.best_params_,gs.best_score_]"
   ]
  },
  {
   "cell_type": "code",
   "execution_count": 62,
   "metadata": {},
   "outputs": [
    {
     "name": "stdout",
     "output_type": "stream",
     "text": [
      "25.63415765762329\n"
     ]
    },
    {
     "data": {
      "text/plain": [
       "[{'max_depth': 5, 'n_estimators': 50}, 0.8302515243407805]"
      ]
     },
     "execution_count": 62,
     "metadata": {},
     "output_type": "execute_result"
    }
   ],
   "source": [
    "a = time.time()\n",
    "xgb = xgboost.XGBClassifier()\n",
    "gs = GridSearchCV(xgb, {'n_estimators':[30,50,70],\n",
    "              'max_depth': [5]},\n",
    "              n_jobs = -1,scoring= \"recall\",cv = kf).fit(X_train3, y_train)\n",
    "print(time.time()-a)\n",
    "[gs.best_params_,gs.best_score_]"
   ]
  },
  {
   "cell_type": "code",
   "execution_count": 63,
   "metadata": {},
   "outputs": [
    {
     "name": "stdout",
     "output_type": "stream",
     "text": [
      "13.88680100440979\n"
     ]
    },
    {
     "data": {
      "text/plain": [
       "[{'max_depth': 11, 'n_estimators': 27}, 0.8320657357989516]"
      ]
     },
     "execution_count": 63,
     "metadata": {},
     "output_type": "execute_result"
    }
   ],
   "source": [
    "a = time.time()\n",
    "xgb = xgboost.XGBClassifier()\n",
    "gs = GridSearchCV(xgb, {'n_estimators':[26,27],\n",
    "              'max_depth': [11,12]},\n",
    "              n_jobs = -1,scoring= \"recall\",cv = kf).fit(X_train4, y_train)\n",
    "print(time.time()-a)\n",
    "[gs.best_params_,gs.best_score_]"
   ]
  },
  {
   "cell_type": "code",
   "execution_count": 64,
   "metadata": {},
   "outputs": [
    {
     "name": "stdout",
     "output_type": "stream",
     "text": [
      "9.186903953552246\n"
     ]
    },
    {
     "data": {
      "text/plain": [
       "[{'max_depth': 5, 'n_estimators': 30}, 0.837842782805321]"
      ]
     },
     "execution_count": 64,
     "metadata": {},
     "output_type": "execute_result"
    }
   ],
   "source": [
    "a = time.time()\n",
    "xgb = xgboost.XGBClassifier()\n",
    "gs = GridSearchCV(xgb, {'n_estimators':[30,50,70],\n",
    "              'max_depth': [5,8]},\n",
    "              n_jobs = -1,scoring= \"recall\",cv = kf).fit(X_train5, y_train)\n",
    "print(time.time()-a)\n",
    "[gs.best_params_,gs.best_score_]"
   ]
  },
  {
   "cell_type": "code",
   "execution_count": 77,
   "metadata": {},
   "outputs": [
    {
     "name": "stdout",
     "output_type": "stream",
     "text": [
      "5.831139326095581\n"
     ]
    },
    {
     "data": {
      "text/plain": [
       "[{'max_depth': 4, 'n_estimators': 70}, 0.8872568856211219]"
      ]
     },
     "execution_count": 77,
     "metadata": {},
     "output_type": "execute_result"
    }
   ],
   "source": [
    "a = time.time()\n",
    "xgb = xgboost.XGBClassifier()\n",
    "gs = GridSearchCV(xgb, {'n_estimators':[30,50,70],\n",
    "              'max_depth': [4,5,6]},\n",
    "              n_jobs = -1,scoring= \"recall\",cv = kf).fit(X_train6, y_train)\n",
    "print(time.time()-a)\n",
    "[gs.best_params_,gs.best_score_]"
   ]
  },
  {
   "cell_type": "markdown",
   "metadata": {},
   "source": [
    "## -------------------------------------------------------------------------------------------------------------------------------"
   ]
  },
  {
   "cell_type": "code",
   "execution_count": 149,
   "metadata": {},
   "outputs": [],
   "source": [
    "xgb = xgboost.XGBClassifier(n_jobs = 4,n_estimators=100,max_depth =4,scoring='recall',cv = kf)"
   ]
  },
  {
   "cell_type": "code",
   "execution_count": 150,
   "metadata": {},
   "outputs": [
    {
     "name": "stdout",
     "output_type": "stream",
     "text": [
      "roc_auc:  0.6047378547378548\n",
      "recall:  0.8417508417508418\n",
      "accuracy:  0.5762962962962963\n",
      "precision:  0.5112474437627812\n"
     ]
    }
   ],
   "source": [
    "model = xgb.fit(X_train6,y_train)\n",
    "a = metrics(X_test6,y_test,model)"
   ]
  },
  {
   "cell_type": "code",
   "execution_count": 151,
   "metadata": {},
   "outputs": [
    {
     "name": "stdout",
     "output_type": "stream",
     "text": [
      "0.846584734166747\n"
     ]
    }
   ],
   "source": [
    "print(cross_val_score(xgb, X_train6, y_train, cv=kf, scoring='recall').mean())"
   ]
  },
  {
   "cell_type": "markdown",
   "metadata": {},
   "source": [
    "## NN"
   ]
  },
  {
   "cell_type": "code",
   "execution_count": 15,
   "metadata": {},
   "outputs": [
    {
     "data": {
      "text/plain": [
       "10"
      ]
     },
     "execution_count": 15,
     "metadata": {},
     "output_type": "execute_result"
    }
   ],
   "source": [
    "len(X_train6.columns)"
   ]
  },
  {
   "cell_type": "code",
   "execution_count": 16,
   "metadata": {},
   "outputs": [],
   "source": [
    "s = 10"
   ]
  },
  {
   "cell_type": "code",
   "execution_count": 27,
   "metadata": {},
   "outputs": [],
   "source": [
    "model = Sequential()\n",
    "model.add(Dense(12, input_dim=s,activation='sigmoid'))\n",
    "model.add(Dropout(5))\n",
    "model.add(Dense(6, activation='sigmoid'))\n",
    "model.add(Dropout(3))\n",
    "model.add(Dense(3, activation='sigmoid'))\n",
    "model.add(Dropout(1))\n",
    "model.add(Dense(1, activation='sigmoid'))"
   ]
  },
  {
   "cell_type": "code",
   "execution_count": 28,
   "metadata": {},
   "outputs": [],
   "source": [
    "model.compile(loss='binary_crossentropy', optimizer='rmsprop', metrics=[keras_metrics.recall(),keras_metrics.precision()])"
   ]
  },
  {
   "cell_type": "code",
   "execution_count": 44,
   "metadata": {},
   "outputs": [
    {
     "name": "stdout",
     "output_type": "stream",
     "text": [
      "Epoch 1/10\n",
      " - 0s - loss: 0.4753 - recall: 0.8518 - precision: 0.8466\n",
      "Epoch 2/10\n",
      " - 0s - loss: 0.4751 - recall: 0.8518 - precision: 0.8466\n",
      "Epoch 3/10\n",
      " - 0s - loss: 0.4750 - recall: 0.8511 - precision: 0.8478\n",
      "Epoch 4/10\n",
      " - 0s - loss: 0.4749 - recall: 0.8518 - precision: 0.8466\n",
      "Epoch 5/10\n",
      " - 0s - loss: 0.4748 - recall: 0.8522 - precision: 0.8467\n",
      "Epoch 6/10\n",
      " - 0s - loss: 0.4746 - recall: 0.8538 - precision: 0.8469\n",
      "Epoch 7/10\n",
      " - 0s - loss: 0.4744 - recall: 0.8545 - precision: 0.8467\n",
      "Epoch 8/10\n",
      " - 0s - loss: 0.4743 - recall: 0.8538 - precision: 0.8469\n",
      "Epoch 9/10\n",
      " - 0s - loss: 0.4742 - recall: 0.8542 - precision: 0.8466\n",
      "Epoch 10/10\n",
      " - 0s - loss: 0.4740 - recall: 0.8557 - precision: 0.8449\n"
     ]
    },
    {
     "data": {
      "text/plain": [
       "<keras.callbacks.History at 0x1aad6c74fd0>"
      ]
     },
     "execution_count": 44,
     "metadata": {},
     "output_type": "execute_result"
    }
   ],
   "source": [
    "model.fit(X_train6, y_train, epochs=10, batch_size=50,  verbose=2)"
   ]
  },
  {
   "cell_type": "code",
   "execution_count": 51,
   "metadata": {},
   "outputs": [
    {
     "name": "stdout",
     "output_type": "stream",
     "text": [
      "[594, 500]\n"
     ]
    }
   ],
   "source": [
    "predictions = model.predict(X_test6).ravel()\n",
    "pred=[]\n",
    "for i in predictions:\n",
    "    if i>0.4:\n",
    "        pred.append(1)\n",
    "    else:\n",
    "        pred.append(0)\n",
    "a = pd.DataFrame({'real':y_test,'pred':pred,'p':predictions})\n",
    "print([sum(y_test),len(a[a['real']==1][a['pred']==1])])"
   ]
  },
  {
   "cell_type": "code",
   "execution_count": 52,
   "metadata": {
    "scrolled": true
   },
   "outputs": [
    {
     "name": "stdout",
     "output_type": "stream",
     "text": [
      "roc_auc:  0.6239177489177489\n",
      "recall:  0.8417508417508418\n",
      "precision:  0.5268703898840885\n"
     ]
    }
   ],
   "source": [
    "b = metrics2(y_test,pred)"
   ]
  },
  {
   "cell_type": "code",
   "execution_count": null,
   "metadata": {},
   "outputs": [],
   "source": []
  }
 ],
 "metadata": {
  "kernelspec": {
   "display_name": "Python 3",
   "language": "python",
   "name": "python3"
  },
  "language_info": {
   "codemirror_mode": {
    "name": "ipython",
    "version": 3
   },
   "file_extension": ".py",
   "mimetype": "text/x-python",
   "name": "python",
   "nbconvert_exporter": "python",
   "pygments_lexer": "ipython3",
   "version": "3.7.4"
  }
 },
 "nbformat": 4,
 "nbformat_minor": 2
}
