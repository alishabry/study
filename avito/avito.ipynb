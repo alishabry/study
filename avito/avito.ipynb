{
 "cells": [
  {
   "cell_type": "markdown",
   "metadata": {},
   "source": [
    "<center>\n",
    "    \n",
    "### Прогнозирование числа просмотров объявлений на Авито\n",
    "    \n",
    "ПМ-1501 Брыкова Алина\n",
    "   "
   ]
  },
  {
   "cell_type": "code",
   "execution_count": 1,
   "metadata": {},
   "outputs": [
    {
     "name": "stdout",
     "output_type": "stream",
     "text": [
      "Requirement already satisfied: xgboost in c:\\programdata\\anaconda3\\lib\\site-packages (0.81)\n",
      "Requirement already satisfied: numpy in c:\\programdata\\anaconda3\\lib\\site-packages (from xgboost) (1.15.4)\n",
      "Requirement already satisfied: scipy in c:\\programdata\\anaconda3\\lib\\site-packages (from xgboost) (1.1.0)\n"
     ]
    }
   ],
   "source": [
    "!pip install xgboost"
   ]
  },
  {
   "cell_type": "code",
   "execution_count": 2,
   "metadata": {},
   "outputs": [],
   "source": [
    "import pandas as pd\n",
    "import numpy as np\n",
    "\n",
    "import matplotlib.pyplot as plt\n",
    "import seaborn as sns\n",
    "%matplotlib inline\n",
    "\n",
    "from sklearn.preprocessing import LabelEncoder,  Normalizer\n",
    "from sklearn.linear_model import LinearRegression, Lasso, Ridge\n",
    "from sklearn.model_selection import train_test_split, KFold, GridSearchCV, cross_val_score\n",
    "from sklearn.metrics import mean_absolute_error, mean_squared_error, r2_score\n",
    "from sklearn.neighbors import KNeighborsRegressor\n",
    "from sklearn.tree import DecisionTreeRegressor\n",
    "from sklearn.ensemble import RandomForestRegressor\n",
    "from sklearn.model_selection import validation_curve\n",
    "from sklearn.model_selection import learning_curve\n",
    "from sklearn.svm import SVR\n",
    "import re\n",
    "import xgboost\n",
    "from scipy import stats\n",
    "plt.rcParams['figure.figsize'] = (12,8)\n",
    "import warnings\n",
    "warnings.filterwarnings('ignore')"
   ]
  },
  {
   "cell_type": "code",
   "execution_count": 3,
   "metadata": {},
   "outputs": [],
   "source": [
    "data = pd.read_csv('avito_full.csv')"
   ]
  },
  {
   "cell_type": "markdown",
   "metadata": {},
   "source": [
    "### Описание набора данных и признаков"
   ]
  },
  {
   "cell_type": "code",
   "execution_count": 5,
   "metadata": {},
   "outputs": [
    {
     "data": {
      "text/html": [
       "<div>\n",
       "<style scoped>\n",
       "    .dataframe tbody tr th:only-of-type {\n",
       "        vertical-align: middle;\n",
       "    }\n",
       "\n",
       "    .dataframe tbody tr th {\n",
       "        vertical-align: top;\n",
       "    }\n",
       "\n",
       "    .dataframe thead th {\n",
       "        text-align: right;\n",
       "    }\n",
       "</style>\n",
       "<table border=\"1\" class=\"dataframe\">\n",
       "  <thead>\n",
       "    <tr style=\"text-align: right;\">\n",
       "      <th></th>\n",
       "      <th>start_time</th>\n",
       "      <th>title</th>\n",
       "      <th>price</th>\n",
       "      <th>owner_type</th>\n",
       "      <th>category</th>\n",
       "      <th>subcategory</th>\n",
       "      <th>param1</th>\n",
       "      <th>param2</th>\n",
       "      <th>param3</th>\n",
       "      <th>region</th>\n",
       "      <th>item_views</th>\n",
       "    </tr>\n",
       "  </thead>\n",
       "  <tbody>\n",
       "    <tr>\n",
       "      <th>0</th>\n",
       "      <td>2016-12-27 10:38:04</td>\n",
       "      <td>Сандали фирмы Crocs</td>\n",
       "      <td>800</td>\n",
       "      <td>Private</td>\n",
       "      <td>Личные вещи</td>\n",
       "      <td>Детская одежда и обувь</td>\n",
       "      <td>Для мальчиков</td>\n",
       "      <td>Обувь</td>\n",
       "      <td>&gt; 36</td>\n",
       "      <td>Москва</td>\n",
       "      <td>27</td>\n",
       "    </tr>\n",
       "    <tr>\n",
       "      <th>1</th>\n",
       "      <td>2016-12-27 15:23:55</td>\n",
       "      <td>Бутсы футбольные Reebok</td>\n",
       "      <td>2000</td>\n",
       "      <td>Private</td>\n",
       "      <td>Личные вещи</td>\n",
       "      <td>Детская одежда и обувь</td>\n",
       "      <td>Для мальчиков</td>\n",
       "      <td>Обувь</td>\n",
       "      <td>&gt; 36</td>\n",
       "      <td>Омская область</td>\n",
       "      <td>9</td>\n",
       "    </tr>\n",
       "    <tr>\n",
       "      <th>2</th>\n",
       "      <td>2016-12-28 19:34:15</td>\n",
       "      <td>Nike hypervenom Бутсы</td>\n",
       "      <td>600</td>\n",
       "      <td>Private</td>\n",
       "      <td>Личные вещи</td>\n",
       "      <td>Детская одежда и обувь</td>\n",
       "      <td>Для мальчиков</td>\n",
       "      <td>Обувь</td>\n",
       "      <td>&gt; 36</td>\n",
       "      <td>Санкт-Петербург</td>\n",
       "      <td>105</td>\n",
       "    </tr>\n",
       "    <tr>\n",
       "      <th>3</th>\n",
       "      <td>2016-12-26 10:26:02</td>\n",
       "      <td>Сапоги</td>\n",
       "      <td>150</td>\n",
       "      <td>Private</td>\n",
       "      <td>Личные вещи</td>\n",
       "      <td>Детская одежда и обувь</td>\n",
       "      <td>Для мальчиков</td>\n",
       "      <td>Обувь</td>\n",
       "      <td>&gt; 36</td>\n",
       "      <td>Тульская область</td>\n",
       "      <td>28</td>\n",
       "    </tr>\n",
       "    <tr>\n",
       "      <th>4</th>\n",
       "      <td>2016-12-26 17:09:19</td>\n",
       "      <td>Кеды 38</td>\n",
       "      <td>500</td>\n",
       "      <td>Private</td>\n",
       "      <td>Личные вещи</td>\n",
       "      <td>Детская одежда и обувь</td>\n",
       "      <td>Для мальчиков</td>\n",
       "      <td>Обувь</td>\n",
       "      <td>&gt; 36</td>\n",
       "      <td>Самарская область</td>\n",
       "      <td>9</td>\n",
       "    </tr>\n",
       "  </tbody>\n",
       "</table>\n",
       "</div>"
      ],
      "text/plain": [
       "            start_time                    title  price owner_type  \\\n",
       "0  2016-12-27 10:38:04      Сандали фирмы Crocs    800    Private   \n",
       "1  2016-12-27 15:23:55  Бутсы футбольные Reebok   2000    Private   \n",
       "2  2016-12-28 19:34:15    Nike hypervenom Бутсы    600    Private   \n",
       "3  2016-12-26 10:26:02                   Сапоги    150    Private   \n",
       "4  2016-12-26 17:09:19                  Кеды 38    500    Private   \n",
       "\n",
       "      category             subcategory         param1 param2 param3  \\\n",
       "0  Личные вещи  Детская одежда и обувь  Для мальчиков  Обувь   > 36   \n",
       "1  Личные вещи  Детская одежда и обувь  Для мальчиков  Обувь   > 36   \n",
       "2  Личные вещи  Детская одежда и обувь  Для мальчиков  Обувь   > 36   \n",
       "3  Личные вещи  Детская одежда и обувь  Для мальчиков  Обувь   > 36   \n",
       "4  Личные вещи  Детская одежда и обувь  Для мальчиков  Обувь   > 36   \n",
       "\n",
       "              region  item_views  \n",
       "0             Москва          27  \n",
       "1     Омская область           9  \n",
       "2    Санкт-Петербург         105  \n",
       "3   Тульская область          28  \n",
       "4  Самарская область           9  "
      ]
     },
     "execution_count": 5,
     "metadata": {},
     "output_type": "execute_result"
    }
   ],
   "source": [
    "# Проверка, что файл прочитался нормально\n",
    "data.head()"
   ]
  },
  {
   "cell_type": "markdown",
   "metadata": {},
   "source": [
    "Каждая строка - одно объявление на платформе avito.ru (объект исследования)\n",
    "<br>Каждый столбец - определенный признак объекта\n",
    "\n",
    "<b>Описание признаков:</b>\n",
    "    \n",
    "<b> start_time </b> - время подачи объявления (МСК)<br>\n",
    "<b>title </b>- заголовок объявления<br>\n",
    "<b>price </b>- цена<br>\n",
    "<b>item_id</b> - идентификатор объявления<br>\n",
    "<b>owner_type</b> - тип владельца объявления (Private - частный пользователь\n",
    "Company - компания; Shop - владелец магазина на Avito)<br>\n",
    "<b>category</b> - категория объявления (транспорт, недвижимость и т.д.)<br>\n",
    "<b>subcategory</b> - подкатегория объявления<br>\n",
    "<b>param1, param2, param3 </b>- параметры объявления. Отсортированы по\n",
    "нахождению в дереве категорий Авито <br>\n",
    "<b>region </b>- регион размещения объявления<br>\n",
    "\n",
    "<b>item_views</b> - целевая переменная, количество просмотров объявления до конца следующего дня с момента подачи"
   ]
  },
  {
   "cell_type": "markdown",
   "metadata": {},
   "source": [
    "###   Первичный анализ данных"
   ]
  },
  {
   "cell_type": "code",
   "execution_count": 6,
   "metadata": {},
   "outputs": [
    {
     "name": "stdout",
     "output_type": "stream",
     "text": [
      "<class 'pandas.core.frame.DataFrame'>\n",
      "RangeIndex: 423772 entries, 0 to 423771\n",
      "Data columns (total 11 columns):\n",
      "start_time     423772 non-null object\n",
      "title          423772 non-null object\n",
      "price          423772 non-null int64\n",
      "owner_type     423772 non-null object\n",
      "category       423772 non-null object\n",
      "subcategory    423772 non-null object\n",
      "param1         406622 non-null object\n",
      "param2         220506 non-null object\n",
      "param3         166075 non-null object\n",
      "region         423772 non-null object\n",
      "item_views     423772 non-null int64\n",
      "dtypes: int64(2), object(9)\n",
      "memory usage: 35.6+ MB\n"
     ]
    }
   ],
   "source": [
    "#посмотрим типы данных\n",
    "data.info()"
   ]
  },
  {
   "cell_type": "markdown",
   "metadata": {},
   "source": [
    "Всего наблюдений 423772<br>\n",
    "Большинство признаков имеют тип object (текстовый формат)<br>\n",
    "Пропуски есть в признаках param1, param2, param3.<br>\n"
   ]
  },
  {
   "cell_type": "code",
   "execution_count": 7,
   "metadata": {},
   "outputs": [
    {
     "data": {
      "text/html": [
       "<div>\n",
       "<style scoped>\n",
       "    .dataframe tbody tr th:only-of-type {\n",
       "        vertical-align: middle;\n",
       "    }\n",
       "\n",
       "    .dataframe tbody tr th {\n",
       "        vertical-align: top;\n",
       "    }\n",
       "\n",
       "    .dataframe thead th {\n",
       "        text-align: right;\n",
       "    }\n",
       "</style>\n",
       "<table border=\"1\" class=\"dataframe\">\n",
       "  <thead>\n",
       "    <tr style=\"text-align: right;\">\n",
       "      <th></th>\n",
       "      <th>price</th>\n",
       "      <th>item_views</th>\n",
       "    </tr>\n",
       "  </thead>\n",
       "  <tbody>\n",
       "    <tr>\n",
       "      <th>count</th>\n",
       "      <td>4.237720e+05</td>\n",
       "      <td>423772.000000</td>\n",
       "    </tr>\n",
       "    <tr>\n",
       "      <th>mean</th>\n",
       "      <td>1.312350e+06</td>\n",
       "      <td>60.310087</td>\n",
       "    </tr>\n",
       "    <tr>\n",
       "      <th>std</th>\n",
       "      <td>6.966541e+08</td>\n",
       "      <td>113.971829</td>\n",
       "    </tr>\n",
       "    <tr>\n",
       "      <th>min</th>\n",
       "      <td>0.000000e+00</td>\n",
       "      <td>0.000000</td>\n",
       "    </tr>\n",
       "    <tr>\n",
       "      <th>25%</th>\n",
       "      <td>5.000000e+02</td>\n",
       "      <td>14.000000</td>\n",
       "    </tr>\n",
       "    <tr>\n",
       "      <th>50%</th>\n",
       "      <td>2.000000e+03</td>\n",
       "      <td>28.000000</td>\n",
       "    </tr>\n",
       "    <tr>\n",
       "      <th>75%</th>\n",
       "      <td>9.990000e+03</td>\n",
       "      <td>59.000000</td>\n",
       "    </tr>\n",
       "    <tr>\n",
       "      <th>max</th>\n",
       "      <td>4.534535e+11</td>\n",
       "      <td>4140.000000</td>\n",
       "    </tr>\n",
       "  </tbody>\n",
       "</table>\n",
       "</div>"
      ],
      "text/plain": [
       "              price     item_views\n",
       "count  4.237720e+05  423772.000000\n",
       "mean   1.312350e+06      60.310087\n",
       "std    6.966541e+08     113.971829\n",
       "min    0.000000e+00       0.000000\n",
       "25%    5.000000e+02      14.000000\n",
       "50%    2.000000e+03      28.000000\n",
       "75%    9.990000e+03      59.000000\n",
       "max    4.534535e+11    4140.000000"
      ]
     },
     "execution_count": 7,
     "metadata": {},
     "output_type": "execute_result"
    }
   ],
   "source": [
    "data.describe() #посмотрим описательные статистики числовых признаков"
   ]
  },
  {
   "cell_type": "code",
   "execution_count": 8,
   "metadata": {},
   "outputs": [
    {
     "data": {
      "text/plain": [
       "start_time     179915\n",
       "title          293336\n",
       "price           10292\n",
       "owner_type          3\n",
       "category           10\n",
       "subcategory        51\n",
       "param1            418\n",
       "param2            363\n",
       "param3           1341\n",
       "region             84\n",
       "item_views       1595\n",
       "dtype: int64"
      ]
     },
     "execution_count": 8,
     "metadata": {},
     "output_type": "execute_result"
    }
   ],
   "source": [
    "data.nunique()#число уникальных значений всех признаков и целевой переменной."
   ]
  },
  {
   "cell_type": "code",
   "execution_count": 9,
   "metadata": {},
   "outputs": [
    {
     "data": {
      "text/plain": [
       "<matplotlib.axes._subplots.AxesSubplot at 0x1c0dc623748>"
      ]
     },
     "execution_count": 9,
     "metadata": {},
     "output_type": "execute_result"
    },
    {
     "data": {
      "image/png": "[encoded data removed]",
      "text/plain": [
       "<Figure size 432x288 with 1 Axes>"
      ]
     },
     "metadata": {
      "needs_background": "light"
     },
     "output_type": "display_data"
    }
   ],
   "source": [
    "data['item_views'].hist() # посмотрим распределение целевой переменной"
   ]
  },
  {
   "cell_type": "code",
   "execution_count": 10,
   "metadata": {},
   "outputs": [
    {
     "data": {
      "text/plain": [
       "<matplotlib.axes._subplots.AxesSubplot at 0x1c0d8c0aac8>"
      ]
     },
     "execution_count": 10,
     "metadata": {},
     "output_type": "execute_result"
    },
    {
     "data": {
      "image/png": "[encoded data removed]",
      "text/plain": [
       "<Figure size 432x288 with 1 Axes>"
      ]
     },
     "metadata": {
      "needs_background": "light"
     },
     "output_type": "display_data"
    }
   ],
   "source": [
    "np.log(data['item_views']+1).hist() #логарифмируем целевую переменную,чтобы привести к нормальному виду"
   ]
  },
  {
   "cell_type": "code",
   "execution_count": 11,
   "metadata": {},
   "outputs": [
    {
     "data": {
      "text/html": [
       "<div>\n",
       "<style scoped>\n",
       "    .dataframe tbody tr th:only-of-type {\n",
       "        vertical-align: middle;\n",
       "    }\n",
       "\n",
       "    .dataframe tbody tr th {\n",
       "        vertical-align: top;\n",
       "    }\n",
       "\n",
       "    .dataframe thead th {\n",
       "        text-align: right;\n",
       "    }\n",
       "</style>\n",
       "<table border=\"1\" class=\"dataframe\">\n",
       "  <thead>\n",
       "    <tr style=\"text-align: right;\">\n",
       "      <th></th>\n",
       "      <th>start_time</th>\n",
       "      <th>title</th>\n",
       "      <th>price</th>\n",
       "      <th>owner_type</th>\n",
       "      <th>category</th>\n",
       "      <th>subcategory</th>\n",
       "      <th>param1</th>\n",
       "      <th>param2</th>\n",
       "      <th>param3</th>\n",
       "      <th>region</th>\n",
       "      <th>item_views</th>\n",
       "    </tr>\n",
       "  </thead>\n",
       "  <tbody>\n",
       "    <tr>\n",
       "      <th>223059</th>\n",
       "      <td>2016-12-26 00:24:07</td>\n",
       "      <td>LADA Priora, 2012</td>\n",
       "      <td>170000</td>\n",
       "      <td>Private</td>\n",
       "      <td>Транспорт</td>\n",
       "      <td>Автомобили</td>\n",
       "      <td>С пробегом</td>\n",
       "      <td>ВАЗ (LADA)</td>\n",
       "      <td>Priora</td>\n",
       "      <td>Дагестан</td>\n",
       "      <td>4140</td>\n",
       "    </tr>\n",
       "    <tr>\n",
       "      <th>20199</th>\n",
       "      <td>2016-12-26 09:56:17</td>\n",
       "      <td>Телевизор 3D Philips 42PFL7606H/60</td>\n",
       "      <td>20000</td>\n",
       "      <td>Private</td>\n",
       "      <td>Бытовая электроника</td>\n",
       "      <td>Аудио и видео</td>\n",
       "      <td>Телевизоры и проекторы</td>\n",
       "      <td>NaN</td>\n",
       "      <td>NaN</td>\n",
       "      <td>Санкт-Петербург</td>\n",
       "      <td>3761</td>\n",
       "    </tr>\n",
       "    <tr>\n",
       "      <th>223101</th>\n",
       "      <td>2016-12-26 18:57:43</td>\n",
       "      <td>LADA Priora, 2010</td>\n",
       "      <td>185000</td>\n",
       "      <td>Company</td>\n",
       "      <td>Транспорт</td>\n",
       "      <td>Автомобили</td>\n",
       "      <td>С пробегом</td>\n",
       "      <td>ВАЗ (LADA)</td>\n",
       "      <td>Priora</td>\n",
       "      <td>Чеченская республика</td>\n",
       "      <td>3758</td>\n",
       "    </tr>\n",
       "    <tr>\n",
       "      <th>223055</th>\n",
       "      <td>2016-12-26 16:47:05</td>\n",
       "      <td>LADA Priora, 2008</td>\n",
       "      <td>137000</td>\n",
       "      <td>Private</td>\n",
       "      <td>Транспорт</td>\n",
       "      <td>Автомобили</td>\n",
       "      <td>С пробегом</td>\n",
       "      <td>ВАЗ (LADA)</td>\n",
       "      <td>Priora</td>\n",
       "      <td>Чеченская республика</td>\n",
       "      <td>3659</td>\n",
       "    </tr>\n",
       "    <tr>\n",
       "      <th>332413</th>\n",
       "      <td>2016-12-26 15:45:15</td>\n",
       "      <td>ВАЗ 21099, 2002</td>\n",
       "      <td>20000</td>\n",
       "      <td>Private</td>\n",
       "      <td>Транспорт</td>\n",
       "      <td>Автомобили</td>\n",
       "      <td>С пробегом</td>\n",
       "      <td>ВАЗ (LADA)</td>\n",
       "      <td>21099</td>\n",
       "      <td>Москва</td>\n",
       "      <td>3330</td>\n",
       "    </tr>\n",
       "    <tr>\n",
       "      <th>165994</th>\n",
       "      <td>2016-12-28 18:18:12</td>\n",
       "      <td>Lamborghini Aventador, 2015</td>\n",
       "      <td>300000</td>\n",
       "      <td>Private</td>\n",
       "      <td>Транспорт</td>\n",
       "      <td>Автомобили</td>\n",
       "      <td>С пробегом</td>\n",
       "      <td>Lamborghini</td>\n",
       "      <td>Aventador</td>\n",
       "      <td>Белгородская область</td>\n",
       "      <td>3271</td>\n",
       "    </tr>\n",
       "    <tr>\n",
       "      <th>244863</th>\n",
       "      <td>2016-12-26 14:09:04</td>\n",
       "      <td>Mercedes-Benz 190 (W201), 1984</td>\n",
       "      <td>15000</td>\n",
       "      <td>Private</td>\n",
       "      <td>Транспорт</td>\n",
       "      <td>Автомобили</td>\n",
       "      <td>С пробегом</td>\n",
       "      <td>Mercedes-Benz</td>\n",
       "      <td>190 (W201)</td>\n",
       "      <td>Москва</td>\n",
       "      <td>3225</td>\n",
       "    </tr>\n",
       "    <tr>\n",
       "      <th>223288</th>\n",
       "      <td>2016-12-28 17:51:10</td>\n",
       "      <td>LADA Priora, 2013</td>\n",
       "      <td>230000</td>\n",
       "      <td>Private</td>\n",
       "      <td>Транспорт</td>\n",
       "      <td>Автомобили</td>\n",
       "      <td>С пробегом</td>\n",
       "      <td>ВАЗ (LADA)</td>\n",
       "      <td>Priora</td>\n",
       "      <td>Чеченская республика</td>\n",
       "      <td>3153</td>\n",
       "    </tr>\n",
       "    <tr>\n",
       "      <th>253255</th>\n",
       "      <td>2016-12-26 17:46:59</td>\n",
       "      <td>LADA Granta, 2012</td>\n",
       "      <td>98000</td>\n",
       "      <td>Company</td>\n",
       "      <td>Транспорт</td>\n",
       "      <td>Автомобили</td>\n",
       "      <td>С пробегом</td>\n",
       "      <td>ВАЗ (LADA)</td>\n",
       "      <td>Granta</td>\n",
       "      <td>Дагестан</td>\n",
       "      <td>3029</td>\n",
       "    </tr>\n",
       "    <tr>\n",
       "      <th>352078</th>\n",
       "      <td>2016-12-27 16:46:22</td>\n",
       "      <td>ВАЗ 2110, 2006</td>\n",
       "      <td>83000</td>\n",
       "      <td>Private</td>\n",
       "      <td>Транспорт</td>\n",
       "      <td>Автомобили</td>\n",
       "      <td>С пробегом</td>\n",
       "      <td>ВАЗ (LADA)</td>\n",
       "      <td>2110</td>\n",
       "      <td>Москва</td>\n",
       "      <td>3023</td>\n",
       "    </tr>\n",
       "    <tr>\n",
       "      <th>166323</th>\n",
       "      <td>2016-12-28 18:00:16</td>\n",
       "      <td>Камаз 53215</td>\n",
       "      <td>1200000</td>\n",
       "      <td>Private</td>\n",
       "      <td>Транспорт</td>\n",
       "      <td>Грузовики и спецтехника</td>\n",
       "      <td>Грузовики</td>\n",
       "      <td>NaN</td>\n",
       "      <td>NaN</td>\n",
       "      <td>Дагестан</td>\n",
       "      <td>2993</td>\n",
       "    </tr>\n",
       "    <tr>\n",
       "      <th>392977</th>\n",
       "      <td>2016-12-27 16:46:34</td>\n",
       "      <td>ВАЗ 2114 Samara, 2004</td>\n",
       "      <td>50000</td>\n",
       "      <td>Private</td>\n",
       "      <td>Транспорт</td>\n",
       "      <td>Автомобили</td>\n",
       "      <td>С пробегом</td>\n",
       "      <td>ВАЗ (LADA)</td>\n",
       "      <td>2114 Samara</td>\n",
       "      <td>Москва</td>\n",
       "      <td>2972</td>\n",
       "    </tr>\n",
       "    <tr>\n",
       "      <th>223296</th>\n",
       "      <td>2016-12-27 21:47:51</td>\n",
       "      <td>LADA Priora, 2016</td>\n",
       "      <td>285000</td>\n",
       "      <td>Private</td>\n",
       "      <td>Транспорт</td>\n",
       "      <td>Автомобили</td>\n",
       "      <td>С пробегом</td>\n",
       "      <td>ВАЗ (LADA)</td>\n",
       "      <td>Priora</td>\n",
       "      <td>Чеченская республика</td>\n",
       "      <td>2933</td>\n",
       "    </tr>\n",
       "    <tr>\n",
       "      <th>223085</th>\n",
       "      <td>2016-12-28 16:48:45</td>\n",
       "      <td>LADA Priora, 2010</td>\n",
       "      <td>150000</td>\n",
       "      <td>Private</td>\n",
       "      <td>Транспорт</td>\n",
       "      <td>Автомобили</td>\n",
       "      <td>С пробегом</td>\n",
       "      <td>ВАЗ (LADA)</td>\n",
       "      <td>Priora</td>\n",
       "      <td>Москва</td>\n",
       "      <td>2926</td>\n",
       "    </tr>\n",
       "    <tr>\n",
       "      <th>222621</th>\n",
       "      <td>2016-12-26 14:14:27</td>\n",
       "      <td>LADA Priora, 2009</td>\n",
       "      <td>120000</td>\n",
       "      <td>Private</td>\n",
       "      <td>Транспорт</td>\n",
       "      <td>Автомобили</td>\n",
       "      <td>С пробегом</td>\n",
       "      <td>ВАЗ (LADA)</td>\n",
       "      <td>Priora</td>\n",
       "      <td>Чеченская республика</td>\n",
       "      <td>2884</td>\n",
       "    </tr>\n",
       "    <tr>\n",
       "      <th>10230</th>\n",
       "      <td>2016-12-26 18:02:56</td>\n",
       "      <td>Jeep Grand Cherokee, 1995</td>\n",
       "      <td>50000</td>\n",
       "      <td>Company</td>\n",
       "      <td>Транспорт</td>\n",
       "      <td>Автомобили</td>\n",
       "      <td>С пробегом</td>\n",
       "      <td>Jeep</td>\n",
       "      <td>Grand Cherokee</td>\n",
       "      <td>Москва</td>\n",
       "      <td>2869</td>\n",
       "    </tr>\n",
       "    <tr>\n",
       "      <th>222648</th>\n",
       "      <td>2016-12-26 13:52:14</td>\n",
       "      <td>LADA Priora, 2010</td>\n",
       "      <td>130000</td>\n",
       "      <td>Private</td>\n",
       "      <td>Транспорт</td>\n",
       "      <td>Автомобили</td>\n",
       "      <td>С пробегом</td>\n",
       "      <td>ВАЗ (LADA)</td>\n",
       "      <td>Priora</td>\n",
       "      <td>Дагестан</td>\n",
       "      <td>2842</td>\n",
       "    </tr>\n",
       "    <tr>\n",
       "      <th>222975</th>\n",
       "      <td>2016-12-28 20:00:07</td>\n",
       "      <td>LADA Priora, 2007</td>\n",
       "      <td>165000</td>\n",
       "      <td>Private</td>\n",
       "      <td>Транспорт</td>\n",
       "      <td>Автомобили</td>\n",
       "      <td>С пробегом</td>\n",
       "      <td>ВАЗ (LADA)</td>\n",
       "      <td>Priora</td>\n",
       "      <td>Чеченская республика</td>\n",
       "      <td>2831</td>\n",
       "    </tr>\n",
       "    <tr>\n",
       "      <th>392999</th>\n",
       "      <td>2016-12-28 20:28:48</td>\n",
       "      <td>ВАЗ 2114 Samara, 2011</td>\n",
       "      <td>130000</td>\n",
       "      <td>Private</td>\n",
       "      <td>Транспорт</td>\n",
       "      <td>Автомобили</td>\n",
       "      <td>С пробегом</td>\n",
       "      <td>ВАЗ (LADA)</td>\n",
       "      <td>2114 Samara</td>\n",
       "      <td>Дагестан</td>\n",
       "      <td>2772</td>\n",
       "    </tr>\n",
       "    <tr>\n",
       "      <th>322817</th>\n",
       "      <td>2016-12-27 01:11:44</td>\n",
       "      <td>BMW 3 серия, 2004</td>\n",
       "      <td>295000</td>\n",
       "      <td>Private</td>\n",
       "      <td>Транспорт</td>\n",
       "      <td>Автомобили</td>\n",
       "      <td>С пробегом</td>\n",
       "      <td>BMW</td>\n",
       "      <td>3 серия</td>\n",
       "      <td>Москва</td>\n",
       "      <td>2700</td>\n",
       "    </tr>\n",
       "  </tbody>\n",
       "</table>\n",
       "</div>"
      ],
      "text/plain": [
       "                 start_time                               title    price  \\\n",
       "223059  2016-12-26 00:24:07                   LADA Priora, 2012   170000   \n",
       "20199   2016-12-26 09:56:17  Телевизор 3D Philips 42PFL7606H/60    20000   \n",
       "223101  2016-12-26 18:57:43                   LADA Priora, 2010   185000   \n",
       "223055  2016-12-26 16:47:05                   LADA Priora, 2008   137000   \n",
       "332413  2016-12-26 15:45:15                     ВАЗ 21099, 2002    20000   \n",
       "165994  2016-12-28 18:18:12         Lamborghini Aventador, 2015   300000   \n",
       "244863  2016-12-26 14:09:04      Mercedes-Benz 190 (W201), 1984    15000   \n",
       "223288  2016-12-28 17:51:10                   LADA Priora, 2013   230000   \n",
       "253255  2016-12-26 17:46:59                   LADA Granta, 2012    98000   \n",
       "352078  2016-12-27 16:46:22                      ВАЗ 2110, 2006    83000   \n",
       "166323  2016-12-28 18:00:16                         Камаз 53215  1200000   \n",
       "392977  2016-12-27 16:46:34               ВАЗ 2114 Samara, 2004    50000   \n",
       "223296  2016-12-27 21:47:51                   LADA Priora, 2016   285000   \n",
       "223085  2016-12-28 16:48:45                   LADA Priora, 2010   150000   \n",
       "222621  2016-12-26 14:14:27                   LADA Priora, 2009   120000   \n",
       "10230   2016-12-26 18:02:56           Jeep Grand Cherokee, 1995    50000   \n",
       "222648  2016-12-26 13:52:14                   LADA Priora, 2010   130000   \n",
       "222975  2016-12-28 20:00:07                   LADA Priora, 2007   165000   \n",
       "392999  2016-12-28 20:28:48               ВАЗ 2114 Samara, 2011   130000   \n",
       "322817  2016-12-27 01:11:44                   BMW 3 серия, 2004   295000   \n",
       "\n",
       "       owner_type             category              subcategory  \\\n",
       "223059    Private            Транспорт               Автомобили   \n",
       "20199     Private  Бытовая электроника            Аудио и видео   \n",
       "223101    Company            Транспорт               Автомобили   \n",
       "223055    Private            Транспорт               Автомобили   \n",
       "332413    Private            Транспорт               Автомобили   \n",
       "165994    Private            Транспорт               Автомобили   \n",
       "244863    Private            Транспорт               Автомобили   \n",
       "223288    Private            Транспорт               Автомобили   \n",
       "253255    Company            Транспорт               Автомобили   \n",
       "352078    Private            Транспорт               Автомобили   \n",
       "166323    Private            Транспорт  Грузовики и спецтехника   \n",
       "392977    Private            Транспорт               Автомобили   \n",
       "223296    Private            Транспорт               Автомобили   \n",
       "223085    Private            Транспорт               Автомобили   \n",
       "222621    Private            Транспорт               Автомобили   \n",
       "10230     Company            Транспорт               Автомобили   \n",
       "222648    Private            Транспорт               Автомобили   \n",
       "222975    Private            Транспорт               Автомобили   \n",
       "392999    Private            Транспорт               Автомобили   \n",
       "322817    Private            Транспорт               Автомобили   \n",
       "\n",
       "                        param1         param2          param3  \\\n",
       "223059              С пробегом     ВАЗ (LADA)          Priora   \n",
       "20199   Телевизоры и проекторы            NaN             NaN   \n",
       "223101              С пробегом     ВАЗ (LADA)          Priora   \n",
       "223055              С пробегом     ВАЗ (LADA)          Priora   \n",
       "332413              С пробегом     ВАЗ (LADA)           21099   \n",
       "165994              С пробегом    Lamborghini       Aventador   \n",
       "244863              С пробегом  Mercedes-Benz      190 (W201)   \n",
       "223288              С пробегом     ВАЗ (LADA)          Priora   \n",
       "253255              С пробегом     ВАЗ (LADA)          Granta   \n",
       "352078              С пробегом     ВАЗ (LADA)            2110   \n",
       "166323               Грузовики            NaN             NaN   \n",
       "392977              С пробегом     ВАЗ (LADA)     2114 Samara   \n",
       "223296              С пробегом     ВАЗ (LADA)          Priora   \n",
       "223085              С пробегом     ВАЗ (LADA)          Priora   \n",
       "222621              С пробегом     ВАЗ (LADA)          Priora   \n",
       "10230               С пробегом           Jeep  Grand Cherokee   \n",
       "222648              С пробегом     ВАЗ (LADA)          Priora   \n",
       "222975              С пробегом     ВАЗ (LADA)          Priora   \n",
       "392999              С пробегом     ВАЗ (LADA)     2114 Samara   \n",
       "322817              С пробегом            BMW         3 серия   \n",
       "\n",
       "                      region  item_views  \n",
       "223059              Дагестан        4140  \n",
       "20199        Санкт-Петербург        3761  \n",
       "223101  Чеченская республика        3758  \n",
       "223055  Чеченская республика        3659  \n",
       "332413                Москва        3330  \n",
       "165994  Белгородская область        3271  \n",
       "244863                Москва        3225  \n",
       "223288  Чеченская республика        3153  \n",
       "253255              Дагестан        3029  \n",
       "352078                Москва        3023  \n",
       "166323              Дагестан        2993  \n",
       "392977                Москва        2972  \n",
       "223296  Чеченская республика        2933  \n",
       "223085                Москва        2926  \n",
       "222621  Чеченская республика        2884  \n",
       "10230                 Москва        2869  \n",
       "222648              Дагестан        2842  \n",
       "222975  Чеченская республика        2831  \n",
       "392999              Дагестан        2772  \n",
       "322817                Москва        2700  "
      ]
     },
     "execution_count": 11,
     "metadata": {},
     "output_type": "execute_result"
    }
   ],
   "source": [
    "#посмотрим, какие выбросы есть в переменной item_views\n",
    "data.sort_values(by='item_views',ascending=False).head(20)"
   ]
  },
  {
   "cell_type": "markdown",
   "metadata": {},
   "source": [
    "Как видим, очень много просмотров набирается у автомобилей с пробегом. Однако, есть один выброс - это объявление с телевизором, набравшее 3761 просмотр. Возможно, это по причине относительно небольшой цены на телевизор"
   ]
  },
  {
   "cell_type": "code",
   "execution_count": 12,
   "metadata": {},
   "outputs": [
    {
     "data": {
      "text/html": [
       "<div>\n",
       "<style scoped>\n",
       "    .dataframe tbody tr th:only-of-type {\n",
       "        vertical-align: middle;\n",
       "    }\n",
       "\n",
       "    .dataframe tbody tr th {\n",
       "        vertical-align: top;\n",
       "    }\n",
       "\n",
       "    .dataframe thead th {\n",
       "        text-align: right;\n",
       "    }\n",
       "</style>\n",
       "<table border=\"1\" class=\"dataframe\">\n",
       "  <thead>\n",
       "    <tr style=\"text-align: right;\">\n",
       "      <th></th>\n",
       "      <th>start_time</th>\n",
       "      <th>title</th>\n",
       "      <th>price</th>\n",
       "      <th>owner_type</th>\n",
       "      <th>category</th>\n",
       "      <th>subcategory</th>\n",
       "      <th>param1</th>\n",
       "      <th>param2</th>\n",
       "      <th>param3</th>\n",
       "      <th>region</th>\n",
       "      <th>item_views</th>\n",
       "    </tr>\n",
       "  </thead>\n",
       "  <tbody>\n",
       "    <tr>\n",
       "      <th>20199</th>\n",
       "      <td>2016-12-26 09:56:17</td>\n",
       "      <td>Телевизор 3D Philips 42PFL7606H/60</td>\n",
       "      <td>20000</td>\n",
       "      <td>Private</td>\n",
       "      <td>Бытовая электроника</td>\n",
       "      <td>Аудио и видео</td>\n",
       "      <td>Телевизоры и проекторы</td>\n",
       "      <td>NaN</td>\n",
       "      <td>NaN</td>\n",
       "      <td>Санкт-Петербург</td>\n",
       "      <td>3761</td>\n",
       "    </tr>\n",
       "    <tr>\n",
       "      <th>48001</th>\n",
       "      <td>2016-12-28 20:40:51</td>\n",
       "      <td>Телевизор Supra</td>\n",
       "      <td>2500</td>\n",
       "      <td>Private</td>\n",
       "      <td>Бытовая электроника</td>\n",
       "      <td>Аудио и видео</td>\n",
       "      <td>Телевизоры и проекторы</td>\n",
       "      <td>NaN</td>\n",
       "      <td>NaN</td>\n",
       "      <td>Санкт-Петербург</td>\n",
       "      <td>2177</td>\n",
       "    </tr>\n",
       "    <tr>\n",
       "      <th>38575</th>\n",
       "      <td>2016-12-27 18:12:47</td>\n",
       "      <td>Телевизор LG 28 дюймов</td>\n",
       "      <td>12000</td>\n",
       "      <td>Company</td>\n",
       "      <td>Бытовая электроника</td>\n",
       "      <td>Аудио и видео</td>\n",
       "      <td>Телевизоры и проекторы</td>\n",
       "      <td>NaN</td>\n",
       "      <td>NaN</td>\n",
       "      <td>Санкт-Петербург</td>\n",
       "      <td>2112</td>\n",
       "    </tr>\n",
       "    <tr>\n",
       "      <th>20449</th>\n",
       "      <td>2016-12-28 15:49:10</td>\n",
       "      <td>Телевизор Philips ЖК 42\" Smart, DVB-T2</td>\n",
       "      <td>19000</td>\n",
       "      <td>Company</td>\n",
       "      <td>Бытовая электроника</td>\n",
       "      <td>Аудио и видео</td>\n",
       "      <td>Телевизоры и проекторы</td>\n",
       "      <td>NaN</td>\n",
       "      <td>NaN</td>\n",
       "      <td>Санкт-Петербург</td>\n",
       "      <td>2086</td>\n",
       "    </tr>\n",
       "    <tr>\n",
       "      <th>20245</th>\n",
       "      <td>2016-12-26 17:59:06</td>\n",
       "      <td>Фирменный ЖК телевизор Philips 42PFL3619sd, FHD</td>\n",
       "      <td>9500</td>\n",
       "      <td>Company</td>\n",
       "      <td>Бытовая электроника</td>\n",
       "      <td>Аудио и видео</td>\n",
       "      <td>Телевизоры и проекторы</td>\n",
       "      <td>NaN</td>\n",
       "      <td>NaN</td>\n",
       "      <td>Санкт-Петербург</td>\n",
       "      <td>2078</td>\n",
       "    </tr>\n",
       "    <tr>\n",
       "      <th>38940</th>\n",
       "      <td>2016-12-27 10:52:19</td>\n",
       "      <td>Плазменный телевизор Samsung PS51E450A1W 51 дюйм</td>\n",
       "      <td>22000</td>\n",
       "      <td>Private</td>\n",
       "      <td>Бытовая электроника</td>\n",
       "      <td>Аудио и видео</td>\n",
       "      <td>Телевизоры и проекторы</td>\n",
       "      <td>NaN</td>\n",
       "      <td>NaN</td>\n",
       "      <td>Санкт-Петербург</td>\n",
       "      <td>2047</td>\n",
       "    </tr>\n",
       "    <tr>\n",
       "      <th>20432</th>\n",
       "      <td>2016-12-28 15:46:53</td>\n",
       "      <td>Телевизор LG (торг уместен) срочно продам</td>\n",
       "      <td>15000</td>\n",
       "      <td>Private</td>\n",
       "      <td>Бытовая электроника</td>\n",
       "      <td>Аудио и видео</td>\n",
       "      <td>Телевизоры и проекторы</td>\n",
       "      <td>NaN</td>\n",
       "      <td>NaN</td>\n",
       "      <td>Санкт-Петербург</td>\n",
       "      <td>1998</td>\n",
       "    </tr>\n",
       "    <tr>\n",
       "      <th>20498</th>\n",
       "      <td>2016-12-26 10:27:54</td>\n",
       "      <td>Телевизор samsung</td>\n",
       "      <td>27000</td>\n",
       "      <td>Company</td>\n",
       "      <td>Бытовая электроника</td>\n",
       "      <td>Аудио и видео</td>\n",
       "      <td>Телевизоры и проекторы</td>\n",
       "      <td>NaN</td>\n",
       "      <td>NaN</td>\n",
       "      <td>Санкт-Петербург</td>\n",
       "      <td>1908</td>\n",
       "    </tr>\n",
       "    <tr>\n",
       "      <th>20055</th>\n",
       "      <td>2016-12-28 19:48:38</td>\n",
       "      <td>Новый телевизор Thomson 46 дюймов/1080p Full HD</td>\n",
       "      <td>23000</td>\n",
       "      <td>Company</td>\n",
       "      <td>Бытовая электроника</td>\n",
       "      <td>Аудио и видео</td>\n",
       "      <td>Телевизоры и проекторы</td>\n",
       "      <td>NaN</td>\n",
       "      <td>NaN</td>\n",
       "      <td>Санкт-Петербург</td>\n",
       "      <td>1899</td>\n",
       "    </tr>\n",
       "    <tr>\n",
       "      <th>20348</th>\n",
       "      <td>2016-12-26 14:28:48</td>\n",
       "      <td>Продам телевизор LG 55LW575S</td>\n",
       "      <td>50000</td>\n",
       "      <td>Private</td>\n",
       "      <td>Бытовая электроника</td>\n",
       "      <td>Аудио и видео</td>\n",
       "      <td>Телевизоры и проекторы</td>\n",
       "      <td>NaN</td>\n",
       "      <td>NaN</td>\n",
       "      <td>Санкт-Петербург</td>\n",
       "      <td>1847</td>\n",
       "    </tr>\n",
       "  </tbody>\n",
       "</table>\n",
       "</div>"
      ],
      "text/plain": [
       "                start_time                                             title  \\\n",
       "20199  2016-12-26 09:56:17                Телевизор 3D Philips 42PFL7606H/60   \n",
       "48001  2016-12-28 20:40:51                                   Телевизор Supra   \n",
       "38575  2016-12-27 18:12:47                            Телевизор LG 28 дюймов   \n",
       "20449  2016-12-28 15:49:10            Телевизор Philips ЖК 42\" Smart, DVB-T2   \n",
       "20245  2016-12-26 17:59:06   Фирменный ЖК телевизор Philips 42PFL3619sd, FHD   \n",
       "38940  2016-12-27 10:52:19  Плазменный телевизор Samsung PS51E450A1W 51 дюйм   \n",
       "20432  2016-12-28 15:46:53         Телевизор LG (торг уместен) срочно продам   \n",
       "20498  2016-12-26 10:27:54                                 Телевизор samsung   \n",
       "20055  2016-12-28 19:48:38   Новый телевизор Thomson 46 дюймов/1080p Full HD   \n",
       "20348  2016-12-26 14:28:48                      Продам телевизор LG 55LW575S   \n",
       "\n",
       "       price owner_type             category    subcategory  \\\n",
       "20199  20000    Private  Бытовая электроника  Аудио и видео   \n",
       "48001   2500    Private  Бытовая электроника  Аудио и видео   \n",
       "38575  12000    Company  Бытовая электроника  Аудио и видео   \n",
       "20449  19000    Company  Бытовая электроника  Аудио и видео   \n",
       "20245   9500    Company  Бытовая электроника  Аудио и видео   \n",
       "38940  22000    Private  Бытовая электроника  Аудио и видео   \n",
       "20432  15000    Private  Бытовая электроника  Аудио и видео   \n",
       "20498  27000    Company  Бытовая электроника  Аудио и видео   \n",
       "20055  23000    Company  Бытовая электроника  Аудио и видео   \n",
       "20348  50000    Private  Бытовая электроника  Аудио и видео   \n",
       "\n",
       "                       param1 param2 param3           region  item_views  \n",
       "20199  Телевизоры и проекторы    NaN    NaN  Санкт-Петербург        3761  \n",
       "48001  Телевизоры и проекторы    NaN    NaN  Санкт-Петербург        2177  \n",
       "38575  Телевизоры и проекторы    NaN    NaN  Санкт-Петербург        2112  \n",
       "20449  Телевизоры и проекторы    NaN    NaN  Санкт-Петербург        2086  \n",
       "20245  Телевизоры и проекторы    NaN    NaN  Санкт-Петербург        2078  \n",
       "38940  Телевизоры и проекторы    NaN    NaN  Санкт-Петербург        2047  \n",
       "20432  Телевизоры и проекторы    NaN    NaN  Санкт-Петербург        1998  \n",
       "20498  Телевизоры и проекторы    NaN    NaN  Санкт-Петербург        1908  \n",
       "20055  Телевизоры и проекторы    NaN    NaN  Санкт-Петербург        1899  \n",
       "20348  Телевизоры и проекторы    NaN    NaN  Санкт-Петербург        1847  "
      ]
     },
     "execution_count": 12,
     "metadata": {},
     "output_type": "execute_result"
    }
   ],
   "source": [
    "y=data['title']\n",
    "data[y.str.contains('Телевизор',case=False)].sort_values(by='item_views',ascending=False).head(10)\n",
    "#можно сказать, что обычно телевизоры не набирают такие большие значения, как этот выброс. \n",
    "#Хотя столько просмотров может быть обусловлено тем, что оно размещено утром и поэтому у него было больше времени набрать их."
   ]
  },
  {
   "cell_type": "code",
   "execution_count": 13,
   "metadata": {},
   "outputs": [
    {
     "data": {
      "text/plain": [
       "Private    262354\n",
       "Company    120952\n",
       "Shop        40466\n",
       "Name: owner_type, dtype: int64"
      ]
     },
     "execution_count": 13,
     "metadata": {},
     "output_type": "execute_result"
    }
   ],
   "source": [
    "data['owner_type'].value_counts()#посмотрим распределение переменной Тип собственника. Больше всего частных объявлений. "
   ]
  },
  {
   "cell_type": "markdown",
   "metadata": {},
   "source": [
    "###  Предобработка данных"
   ]
  },
  {
   "cell_type": "markdown",
   "metadata": {},
   "source": [
    "Объединение признаков param1, param2, param3 в один describe"
   ]
  },
  {
   "cell_type": "code",
   "execution_count": 4,
   "metadata": {},
   "outputs": [],
   "source": [
    "data_new = data.copy()"
   ]
  },
  {
   "cell_type": "code",
   "execution_count": 5,
   "metadata": {},
   "outputs": [],
   "source": [
    "data_new['describe'] = data.param1 +' '+ data.param2 + ' ' + data.param3\n",
    "data_new =  data_new.drop(['param1', 'param2', 'param3'], axis=1)"
   ]
  },
  {
   "cell_type": "markdown",
   "metadata": {},
   "source": [
    "Заполним пропуски в новом признаке describe на текст 'отсутствует описание'"
   ]
  },
  {
   "cell_type": "code",
   "execution_count": 6,
   "metadata": {},
   "outputs": [],
   "source": [
    "data_new = data_new.fillna('отсутствует описание')"
   ]
  },
  {
   "cell_type": "markdown",
   "metadata": {},
   "source": [
    "Я решила попробовать поменять параметр, где указано время размещения объявления. Теперь это параметр, показывающий за сколько времени набралось данное количество просмотров в item_views. Для этого я написала функцию change_time. Можно было попробовать рассчитывать данные значения с помощью библиотеки datetime, однако, мне показалось, что так работает немного быстрее."
   ]
  },
  {
   "cell_type": "code",
   "execution_count": 7,
   "metadata": {},
   "outputs": [],
   "source": [
    "def change_time(x):\n",
    "    return 172800 - (int(x[-2:]) + int(x[-5:-3])*60 + int(x[-8:-6])*3600)\n",
    "data_new['start_time'] = data['start_time'].apply(change_time)"
   ]
  },
  {
   "cell_type": "markdown",
   "metadata": {},
   "source": [
    "Найдем все английские слова, встречающиеся в title, создадим список  500 самых повторяющихся"
   ]
  },
  {
   "cell_type": "code",
   "execution_count": 8,
   "metadata": {},
   "outputs": [],
   "source": [
    "result=[]\n",
    "wordPattern = re.compile(\"((?:[a-zA-Z]+[-']?)*[a-zA-Z]+)\")\n",
    "for i in data['title']:\n",
    "    for j in wordPattern.findall(i):\n",
    "        if len(j)>=3:\n",
    "            result.append(j.lower())          \n",
    "dictEngW = pd.Series(result).value_counts().head(500).index.tolist()"
   ]
  },
  {
   "cell_type": "markdown",
   "metadata": {},
   "source": [
    "Так как title имеет очень много уникальных значений (больше половины размера всей выборки), я попробую заменить title на индикатор, имеет ли он бренд(часто встречающиеся английские слова). (0 - нет бренда, 1 - есть бренд)"
   ]
  },
  {
   "cell_type": "code",
   "execution_count": 9,
   "metadata": {},
   "outputs": [],
   "source": [
    "def title(y):\n",
    "    for q in dictEngW:\n",
    "        if q in y.lower():\n",
    "            return 1\n",
    "    return 0\n",
    "    \n",
    "            \n",
    "data_new['title'] = data['title'].apply(title)"
   ]
  },
  {
   "cell_type": "code",
   "execution_count": 10,
   "metadata": {},
   "outputs": [
    {
     "data": {
      "text/plain": [
       "0    308341\n",
       "1    115431\n",
       "Name: title, dtype: int64"
      ]
     },
     "execution_count": 10,
     "metadata": {},
     "output_type": "execute_result"
    }
   ],
   "source": [
    "data_new['title'].value_counts().head()"
   ]
  },
  {
   "cell_type": "markdown",
   "metadata": {},
   "source": [
    "Закодируем текстовые признаки с помощью LabelEncoder"
   ]
  },
  {
   "cell_type": "code",
   "execution_count": 11,
   "metadata": {},
   "outputs": [],
   "source": [
    "encoder = LabelEncoder()\n",
    "for col in ['owner_type', 'category', 'subcategory', 'describe',  'region']:\n",
    "        encoder.fit(data_new[col])\n",
    "        data_new[col] = encoder.transform(data_new[col])"
   ]
  },
  {
   "cell_type": "markdown",
   "metadata": {},
   "source": [
    "Проверим, имеет ли логарифм целевой переменной нормальный вид"
   ]
  },
  {
   "cell_type": "code",
   "execution_count": 12,
   "metadata": {},
   "outputs": [
    {
     "data": {
      "text/plain": [
       "(0.9747441411018372, 0.0)"
      ]
     },
     "execution_count": 12,
     "metadata": {},
     "output_type": "execute_result"
    }
   ],
   "source": [
    "stats.shapiro(np.log(data[['item_views']]+1)) #можем логарифмировать целевую переменную"
   ]
  },
  {
   "cell_type": "markdown",
   "metadata": {},
   "source": [
    "### Визуальный анализ данных"
   ]
  },
  {
   "cell_type": "code",
   "execution_count": 23,
   "metadata": {},
   "outputs": [
    {
     "data": {
      "image/png": "[encoded data removed]",
      "text/plain": [
       "<Figure size 432x288 with 2 Axes>"
      ]
     },
     "metadata": {
      "needs_background": "light"
     },
     "output_type": "display_data"
    }
   ],
   "source": [
    "corr_matrix = data_new.corr()\n",
    "sns.heatmap(corr_matrix, annot=True, cmap='RdYlBu');"
   ]
  },
  {
   "cell_type": "code",
   "execution_count": 24,
   "metadata": {},
   "outputs": [
    {
     "data": {
      "image/png": "[encoded data removed]",
      "text/plain": [
       "<Figure size 432x288 with 1 Axes>"
      ]
     },
     "metadata": {
      "needs_background": "light"
     },
     "output_type": "display_data"
    }
   ],
   "source": [
    "data['region'].value_counts().head(10).plot.bar();"
   ]
  },
  {
   "cell_type": "code",
   "execution_count": 13,
   "metadata": {
    "scrolled": true
   },
   "outputs": [
    {
     "data": {
      "image/png": "[encoded data removed]",
      "text/plain": [
       "<Figure size 432x288 with 1 Axes>"
      ]
     },
     "metadata": {
      "needs_background": "light"
     },
     "output_type": "display_data"
    }
   ],
   "source": [
    "y = data_new['item_views']\n",
    "sns.boxplot(np.log(y+1));"
   ]
  },
  {
   "cell_type": "markdown",
   "metadata": {},
   "source": [
    "Удалим выбросы"
   ]
  },
  {
   "cell_type": "code",
   "execution_count": 14,
   "metadata": {},
   "outputs": [],
   "source": [
    "data_new['log_views'] = np.log(y+1)"
   ]
  },
  {
   "cell_type": "code",
   "execution_count": 15,
   "metadata": {},
   "outputs": [
    {
     "data": {
      "text/plain": [
       "0.9789745429145862"
      ]
     },
     "execution_count": 15,
     "metadata": {},
     "output_type": "execute_result"
    }
   ],
   "source": [
    "data_new = data_new[data_new['log_views']<6][data_new['log_views']>1]\n",
    "data_new = data_new.drop(['log_views'],axis=1)\n",
    "len(data_new)/len(data)"
   ]
  },
  {
   "cell_type": "markdown",
   "metadata": {},
   "source": [
    "Разделим данные на целевой столбец и столбцы признаков"
   ]
  },
  {
   "cell_type": "code",
   "execution_count": 16,
   "metadata": {},
   "outputs": [],
   "source": [
    "X = data_new[['title','start_time','price','owner_type', 'category','subcategory', 'region','describe' ]]"
   ]
  },
  {
   "cell_type": "code",
   "execution_count": 17,
   "metadata": {},
   "outputs": [],
   "source": [
    "y = data_new['item_views']"
   ]
  },
  {
   "cell_type": "markdown",
   "metadata": {},
   "source": [
    "Создадим выборку train для обучения и отложенную выборку test для определения ошибки"
   ]
  },
  {
   "cell_type": "code",
   "execution_count": 18,
   "metadata": {},
   "outputs": [],
   "source": [
    "x_train, x_test, y_train, y_test = train_test_split(X, y, test_size=0.3, random_state=75)"
   ]
  },
  {
   "cell_type": "markdown",
   "metadata": {},
   "source": [
    "### Линейная регрессия"
   ]
  },
  {
   "cell_type": "markdown",
   "metadata": {},
   "source": [
    "Построим линейную регрессию"
   ]
  },
  {
   "cell_type": "code",
   "execution_count": 31,
   "metadata": {},
   "outputs": [
    {
     "data": {
      "text/plain": [
       "3547.483246618762"
      ]
     },
     "execution_count": 31,
     "metadata": {},
     "output_type": "execute_result"
    }
   ],
   "source": [
    "model = LinearRegression().fit(x_train,np.log(y_train+1))\n",
    "pred = model.predict(x_test)\n",
    "mean_squared_error(y_test, np.exp(pred)-1)"
   ]
  },
  {
   "cell_type": "markdown",
   "metadata": {},
   "source": [
    "Нормализуем наши признаки"
   ]
  },
  {
   "cell_type": "code",
   "execution_count": 19,
   "metadata": {},
   "outputs": [],
   "source": [
    "transformer = Normalizer().fit(x_train)\n",
    "x_train = transformer.transform(x_train)\n",
    "transformer = Normalizer().fit(x_test)\n",
    "x_test = transformer.transform(x_test)"
   ]
  },
  {
   "cell_type": "markdown",
   "metadata": {},
   "source": [
    "Строим линейную регрессию по нормализованной выборке"
   ]
  },
  {
   "cell_type": "code",
   "execution_count": null,
   "metadata": {},
   "outputs": [],
   "source": [
    "model = LinearRegression().fit(x_train,np.log(y_train+1))"
   ]
  },
  {
   "cell_type": "markdown",
   "metadata": {},
   "source": [
    "Сделаем кросс-валидацию по 5 блокам, обучая модель на логарифмированной переменной и найдем среднее ошибок по блокам"
   ]
  },
  {
   "cell_type": "code",
   "execution_count": null,
   "metadata": {},
   "outputs": [],
   "source": [
    "kf = KFold(n_splits=5)\n",
    "scores = []\n",
    "model = LinearRegression()\n",
    "kfold = kf.split(data_new)\n",
    "for  train, test in kfold:\n",
    "    x1_train = data_new[train[1]:train[-1]].drop(['item_views'],axis=1)\n",
    "    y1_train = data_new[train[1]:train[-1]]['item_views']\n",
    "    x1_test = data_new[test[1]:test[-1]].drop(['item_views'],axis=1)\n",
    "    y1_test = data_new[test[1]:test[-1]]['item_views']\n",
    "    transformer = Normalizer().fit(x1_train)\n",
    "    x1_train = transformer.transform(x1_train)\n",
    "    transformer = Normalizer().fit(x1_test)\n",
    "    x1_test = transformer.transform(x1_test)\n",
    "    model = model.fit(x1_train,np.log(y1_train+1))\n",
    "    pred = model.predict(x1_test) \n",
    "    scores.append(mean_squared_error(y1_test, np.exp(pred)-1))\n",
    "\n",
    "\n",
    "np.mean(scores)"
   ]
  },
  {
   "cell_type": "markdown",
   "metadata": {},
   "source": [
    "Построим гребневую регрессию"
   ]
  },
  {
   "cell_type": "code",
   "execution_count": null,
   "metadata": {},
   "outputs": [],
   "source": [
    "kf = KFold(n_splits=5)\n",
    "scores = []\n",
    "model = Ridge(alpha=0.005, solver = 'auto')\n",
    "kfold = kf.split(data_new)\n",
    "for  train, test in kfold:\n",
    "    x1_train = data_new[train[1]:train[-1]].drop(['item_views'],axis=1)\n",
    "    y1_train = data_new[train[1]:train[-1]]['item_views']\n",
    "    x1_test = data_new[test[1]:test[-1]].drop(['item_views'],axis=1)\n",
    "    y1_test = data_new[test[1]:test[-1]]['item_views']\n",
    "    transformer = Normalizer().fit(x1_train)\n",
    "    x1_train = transformer.transform(x1_train)\n",
    "    transformer = Normalizer().fit(x1_test)\n",
    "    x1_test = transformer.transform(x1_test)\n",
    "    model = model.fit(x1_train,np.log(y1_train+1))\n",
    "    pred = model.predict(x1_test) \n",
    "    scores.append(mean_squared_error(y1_test, np.exp(pred)-1))\n",
    "\n",
    "np.mean(scores)"
   ]
  },
  {
   "cell_type": "code",
   "execution_count": null,
   "metadata": {},
   "outputs": [],
   "source": [
    "params = {'alpha':[0.005,0.01,0.1], 'solver' :['auto', 'sag']}\n",
    "grid = GridSearchCV(model,params, scoring=\"neg_mean_squared_error\")\n",
    "grid.fit(x_train,np.log(y_train+1))"
   ]
  },
  {
   "cell_type": "code",
   "execution_count": null,
   "metadata": {},
   "outputs": [],
   "source": [
    "grid.best_params_"
   ]
  },
  {
   "cell_type": "markdown",
   "metadata": {},
   "source": [
    "### Метод K-ближайших соседей"
   ]
  },
  {
   "cell_type": "markdown",
   "metadata": {},
   "source": [
    "Посмотрим как будет работать метод ближайших соседей"
   ]
  },
  {
   "cell_type": "code",
   "execution_count": 37,
   "metadata": {},
   "outputs": [],
   "source": [
    "x_train, x_test, y_train, y_test = train_test_split(X, y, test_size=0.3, random_state=75)\n",
    "transformer = Normalizer().fit(x_train)\n",
    "x_train = transformer.transform(x_train)\n",
    "transformer = Normalizer().fit(x_test)\n",
    "x_test = transformer.transform(x_test)\n",
    "\n",
    "neigh = KNeighborsRegressor()\n",
    "knn_param = {'weights': ['uniform', 'distance'], 'n_neighbors': [ 70, 80, 90, 100, 110]}"
   ]
  },
  {
   "cell_type": "code",
   "execution_count": 38,
   "metadata": {},
   "outputs": [
    {
     "data": {
      "text/plain": [
       "2903.4413842388917"
      ]
     },
     "execution_count": 38,
     "metadata": {},
     "output_type": "execute_result"
    }
   ],
   "source": [
    "np.mean(cross_val_score(neigh,x_train,y_train,scoring = 'neg_mean_squared_error',cv=5))*(-1)"
   ]
  },
  {
   "cell_type": "markdown",
   "metadata": {},
   "source": [
    "Подберем параметры с помощью GridSearch"
   ]
  },
  {
   "cell_type": "code",
   "execution_count": 39,
   "metadata": {},
   "outputs": [],
   "source": [
    "grid = GridSearchCV(neigh,knn_param, scoring=\"neg_mean_squared_error\")"
   ]
  },
  {
   "cell_type": "code",
   "execution_count": 40,
   "metadata": {},
   "outputs": [
    {
     "data": {
      "text/plain": [
       "{'n_neighbors': 100, 'weights': 'distance'}"
      ]
     },
     "execution_count": 40,
     "metadata": {},
     "output_type": "execute_result"
    }
   ],
   "source": [
    "grid.fit(x_train, y_train)\n",
    "grid.best_params_"
   ]
  },
  {
   "cell_type": "markdown",
   "metadata": {},
   "source": [
    "Построим модель с подобранными параметрами"
   ]
  },
  {
   "cell_type": "code",
   "execution_count": 41,
   "metadata": {},
   "outputs": [],
   "source": [
    "neigh = KNeighborsRegressor(n_neighbors=100,weights = 'distance')\n",
    "knn = neigh.fit(x_train,y_train)"
   ]
  },
  {
   "cell_type": "code",
   "execution_count": 43,
   "metadata": {},
   "outputs": [
    {
     "data": {
      "text/plain": [
       "2563.8266048137816"
      ]
     },
     "execution_count": 43,
     "metadata": {},
     "output_type": "execute_result"
    }
   ],
   "source": [
    "np.mean(cross_val_score(neigh,x_train,y_train,scoring = 'neg_mean_squared_error',cv=5))*(-1)"
   ]
  },
  {
   "cell_type": "markdown",
   "metadata": {},
   "source": [
    "### Decision Tree"
   ]
  },
  {
   "cell_type": "markdown",
   "metadata": {},
   "source": [
    "Посмотрим как будет предсказывать дерево решений"
   ]
  },
  {
   "cell_type": "code",
   "execution_count": 44,
   "metadata": {},
   "outputs": [
    {
     "data": {
      "text/plain": [
       "3530.396167087017"
      ]
     },
     "execution_count": 44,
     "metadata": {},
     "output_type": "execute_result"
    }
   ],
   "source": [
    "dt = DecisionTreeRegressor()\n",
    "np.mean(cross_val_score(dt, x_train, y_train, scoring = 'neg_mean_squared_error', cv=5))*(-1)"
   ]
  },
  {
   "cell_type": "markdown",
   "metadata": {},
   "source": [
    "Подберем параметр максимальной глубины"
   ]
  },
  {
   "cell_type": "code",
   "execution_count": 45,
   "metadata": {},
   "outputs": [
    {
     "data": {
      "text/plain": [
       "{'max_depth': 9}"
      ]
     },
     "execution_count": 45,
     "metadata": {},
     "output_type": "execute_result"
    }
   ],
   "source": [
    "dt_param = {'max_depth':[5,6,7,8,9,10,11,12,13]}\n",
    "grid = GridSearchCV(dt, dt_param, scoring = \"neg_mean_squared_error\");\n",
    "grid.fit(x_train, y_train);\n",
    "grid.best_params_"
   ]
  },
  {
   "cell_type": "markdown",
   "metadata": {},
   "source": [
    "Построим с лучшим параметром глубины"
   ]
  },
  {
   "cell_type": "code",
   "execution_count": 46,
   "metadata": {},
   "outputs": [
    {
     "data": {
      "text/plain": [
       "2094.4506080043266"
      ]
     },
     "execution_count": 46,
     "metadata": {},
     "output_type": "execute_result"
    }
   ],
   "source": [
    "dt = DecisionTreeRegressor(max_depth = 9)\n",
    "np.mean(cross_val_score(dt, x_train, y_train, scoring = 'neg_mean_squared_error', cv=5))*(-1)"
   ]
  },
  {
   "cell_type": "markdown",
   "metadata": {},
   "source": [
    "Ошибка намного меньше ошибки на линейной регрессии и методе ближайших соседей"
   ]
  },
  {
   "cell_type": "markdown",
   "metadata": {},
   "source": [
    "### Random Forest"
   ]
  },
  {
   "cell_type": "markdown",
   "metadata": {},
   "source": [
    "Попробуем построить случайный лес"
   ]
  },
  {
   "cell_type": "code",
   "execution_count": 47,
   "metadata": {},
   "outputs": [
    {
     "data": {
      "text/plain": [
       "-1923.8918287492656"
      ]
     },
     "execution_count": 47,
     "metadata": {},
     "output_type": "execute_result"
    }
   ],
   "source": [
    "rf = RandomForestRegressor(n_estimators = 50, max_depth = 12)\n",
    "np.mean(cross_val_score(rf, x_train, y_train, scoring = 'neg_mean_squared_error', cv=5))"
   ]
  },
  {
   "cell_type": "markdown",
   "metadata": {},
   "source": [
    "Проведем подбор параметра глубины"
   ]
  },
  {
   "cell_type": "code",
   "execution_count": 48,
   "metadata": {},
   "outputs": [],
   "source": [
    "rf_param = {'max_depth':[9,12,20]}\n",
    "grid = GridSearchCV(rf, rf_param, scoring = \"neg_mean_squared_error\");\n",
    "grid.fit(x_train, y_train);"
   ]
  },
  {
   "cell_type": "code",
   "execution_count": 49,
   "metadata": {},
   "outputs": [
    {
     "data": {
      "text/plain": [
       "{'max_depth': 20}"
      ]
     },
     "execution_count": 49,
     "metadata": {},
     "output_type": "execute_result"
    }
   ],
   "source": [
    "grid.best_params_"
   ]
  },
  {
   "cell_type": "code",
   "execution_count": 22,
   "metadata": {},
   "outputs": [
    {
     "data": {
      "text/plain": [
       "-1830.0625756575723"
      ]
     },
     "execution_count": 22,
     "metadata": {},
     "output_type": "execute_result"
    }
   ],
   "source": [
    "rf = RandomForestRegressor(n_estimators = 120, max_depth = 20)\n",
    "np.mean(cross_val_score(rf, x_train, y_train, scoring = 'neg_mean_squared_error', cv=5))"
   ]
  },
  {
   "cell_type": "code",
   "execution_count": 23,
   "metadata": {},
   "outputs": [],
   "source": [
    "rf = RandomForestRegressor()\n",
    "rf_param = {'max_depth':[20,25,30],'n_estimators':[100,120,150]}\n",
    "grid = GridSearchCV(rf, rf_param, scoring = \"neg_mean_squared_error\");\n",
    "grid.fit(x_train, y_train);"
   ]
  },
  {
   "cell_type": "code",
   "execution_count": 21,
   "metadata": {},
   "outputs": [
    {
     "data": {
      "text/plain": [
       "{'max_depth': 20, 'n_estimators': 120}"
      ]
     },
     "execution_count": 21,
     "metadata": {},
     "output_type": "execute_result"
    }
   ],
   "source": [
    "grid.best_params_"
   ]
  },
  {
   "cell_type": "markdown",
   "metadata": {},
   "source": [
    "### Градиентный бустинг"
   ]
  },
  {
   "cell_type": "markdown",
   "metadata": {},
   "source": [
    "Построим градиентный бустинг с помощью библиотеки xgboost"
   ]
  },
  {
   "cell_type": "code",
   "execution_count": 51,
   "metadata": {},
   "outputs": [
    {
     "data": {
      "text/plain": [
       "1847.1714415468487"
      ]
     },
     "execution_count": 51,
     "metadata": {},
     "output_type": "execute_result"
    }
   ],
   "source": [
    "xgb = xgboost.XGBRegressor(n_estimators = 50, max_depth = 9)\n",
    "np.mean(cross_val_score(xgb, x_train, y_train, scoring=\"neg_mean_squared_error\", cv=5))*(-1)"
   ]
  },
  {
   "cell_type": "markdown",
   "metadata": {},
   "source": [
    "Рассмотрим разные параметры глубины"
   ]
  },
  {
   "cell_type": "code",
   "execution_count": 52,
   "metadata": {},
   "outputs": [],
   "source": [
    "xgb_param = {'max_depth':[9,12,20]}\n",
    "grid = GridSearchCV(xgb, xgb_param, scoring = \"neg_mean_squared_error\");\n",
    "grid.fit(x_train, y_train);"
   ]
  },
  {
   "cell_type": "code",
   "execution_count": 53,
   "metadata": {},
   "outputs": [
    {
     "data": {
      "text/plain": [
       "{'max_depth': 12}"
      ]
     },
     "execution_count": 53,
     "metadata": {},
     "output_type": "execute_result"
    }
   ],
   "source": [
    "grid.best_params_"
   ]
  },
  {
   "cell_type": "code",
   "execution_count": 54,
   "metadata": {},
   "outputs": [
    {
     "data": {
      "text/plain": [
       "1819.611851429459"
      ]
     },
     "execution_count": 54,
     "metadata": {},
     "output_type": "execute_result"
    }
   ],
   "source": [
    "xgb = xgboost.XGBRegressor(n_estimators = 50, max_depth = 12)\n",
    "np.mean(cross_val_score(xgb, x_train, y_train, scoring=\"neg_mean_squared_error\", cv=5))*(-1)"
   ]
  },
  {
   "cell_type": "code",
   "execution_count": 55,
   "metadata": {},
   "outputs": [
    {
     "data": {
      "text/plain": [
       "{'max_depth': 12, 'n_estimators': 100}"
      ]
     },
     "execution_count": 55,
     "metadata": {},
     "output_type": "execute_result"
    }
   ],
   "source": [
    "xgb_param = {'max_depth':[9,12,20], 'n_estimators': [30,50,100]}\n",
    "grid = GridSearchCV(xgb, xgb_param, scoring = \"neg_mean_squared_error\");\n",
    "grid.fit(x_train, y_train);\n",
    "grid.best_params_"
   ]
  },
  {
   "cell_type": "code",
   "execution_count": 56,
   "metadata": {},
   "outputs": [
    {
     "data": {
      "text/plain": [
       "1811.2739868045162"
      ]
     },
     "execution_count": 56,
     "metadata": {},
     "output_type": "execute_result"
    }
   ],
   "source": [
    "xgb = xgboost.XGBRegressor(n_estimators = 100, max_depth = 12)\n",
    "np.mean(cross_val_score(xgb, x_train, y_train, scoring=\"neg_mean_squared_error\", cv=5))*(-1)"
   ]
  },
  {
   "cell_type": "markdown",
   "metadata": {},
   "source": [
    "Градиентный бустинг с глубиной 12 сработал лучше всех"
   ]
  },
  {
   "cell_type": "markdown",
   "metadata": {},
   "source": [
    "###  Прогноз для отложенной выборки"
   ]
  },
  {
   "cell_type": "code",
   "execution_count": 59,
   "metadata": {},
   "outputs": [
    {
     "data": {
      "text/plain": [
       "1793.45577612539"
      ]
     },
     "execution_count": 59,
     "metadata": {},
     "output_type": "execute_result"
    }
   ],
   "source": [
    "xgb = xgboost.XGBRegressor(n_estimators = 100, max_depth = 12).fit(x_train,y_train)\n",
    "predxgb = xgb.predict(x_test)\n",
    "mean_squared_error(y_test, predxgb)"
   ]
  },
  {
   "cell_type": "code",
   "execution_count": 60,
   "metadata": {},
   "outputs": [
    {
     "data": {
      "text/plain": [
       "25.317878350060326"
      ]
     },
     "execution_count": 60,
     "metadata": {},
     "output_type": "execute_result"
    }
   ],
   "source": [
    "mean_absolute_error(y_test, predxgb)"
   ]
  }
 ],
 "metadata": {
  "kernelspec": {
   "display_name": "Python 3",
   "language": "python",
   "name": "python3"
  },
  "language_info": {
   "codemirror_mode": {
    "name": "ipython",
    "version": 3
   },
   "file_extension": ".py",
   "mimetype": "text/x-python",
   "name": "python",
   "nbconvert_exporter": "python",
   "pygments_lexer": "ipython3",
   "version": "3.7.1"
  }
 },
 "nbformat": 4,
 "nbformat_minor": 2
}
